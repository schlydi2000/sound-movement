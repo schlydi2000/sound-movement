{
 "cells": [
  {
   "cell_type": "code",
   "execution_count": 1,
   "id": "23a0638c",
   "metadata": {},
   "outputs": [],
   "source": [
    "import numpy as np\n",
    "import seaborn as sns\n",
    "import matplotlib.pyplot as plt\n",
    "%matplotlib inline"
   ]
  },
  {
   "cell_type": "code",
   "execution_count": 2,
   "id": "625359f5",
   "metadata": {},
   "outputs": [],
   "source": [
    "import pandas as pd"
   ]
  },
  {
   "cell_type": "code",
   "execution_count": 3,
   "id": "0cf14fe4",
   "metadata": {},
   "outputs": [],
   "source": [
    "import librosa\n",
    "import librosa.display\n",
    "import ctc_chroma"
   ]
  },
  {
   "cell_type": "code",
   "execution_count": 4,
   "id": "f31ce83b",
   "metadata": {},
   "outputs": [],
   "source": [
    "# Create DataFrame from Waveplot\n",
    "# File too big for GitHub\n",
    "# wave = pd.read_csv('20210818_165154_Wave.csv', delimiter=';')"
   ]
  },
  {
   "cell_type": "code",
   "execution_count": 5,
   "id": "0e5a17c0",
   "metadata": {},
   "outputs": [],
   "source": [
    "# We seperated the long recording into different sections where different pieces were recorded\n",
    "# Create separate DataFrames for the different recordings\n",
    "wave1 = pd.read_csv('20210818_165154_Wave1.csv', delimiter=';')\n",
    "wave2 = pd.read_csv('20210818_165154_Wave2.csv', delimiter=';')\n",
    "# File too big for GitHub\n",
    "# wave3 = pd.read_csv('20210818_165154_Wave3.csv', delimiter=';')\n",
    "wave4 = pd.read_csv('20210818_165154_Wave4.csv', delimiter=';')\n",
    "wave5 = pd.read_csv('20210818_165154_Wave5.csv', delimiter=';')\n",
    "wave6 = pd.read_csv('20210818_165154_Wave6.csv', delimiter=';')\n",
    "wave7 = pd.read_csv('20210818_165154_Wave7.csv', delimiter=';')"
   ]
  },
  {
   "cell_type": "code",
   "execution_count": 6,
   "id": "b0207c3a",
   "metadata": {},
   "outputs": [],
   "source": [
    "# Get our IMU data\n",
    "acc = pd.read_csv('20210818_165154_AccR.csv', delimiter=';')\n",
    "gy = pd.read_csv('20210818_165154_GyR.csv', delimiter=';')"
   ]
  },
  {
   "cell_type": "code",
   "execution_count": 7,
   "id": "d4cd2844",
   "metadata": {},
   "outputs": [],
   "source": [
    "# we have commas instead of dots so we can't convert the string entries to float\n",
    "acc['Acc gesamt'] = acc['Acc gesamt'].str.replace(',','.', regex=True)\n",
    "gy['Gy gesamt'] = gy['Gy gesamt'].str.replace(',','.', regex=True)\n",
    "\n",
    "# convert our data to float\n",
    "acc = acc.astype(float)\n",
    "gy = gy.astype(float)\n",
    "\n",
    "# merge the to dataframes together\n",
    "imu = pd.concat([acc, gy], axis=1)"
   ]
  },
  {
   "cell_type": "code",
   "execution_count": 8,
   "id": "b2f0258a",
   "metadata": {},
   "outputs": [],
   "source": [
    "# Create the corresponding DataFrames with the IMU data for the recordings\n",
    "imu1 = imu.iloc[189:2727]\n",
    "imu2 = imu.iloc[2650:5155]\n",
    "imu3 = imu.iloc[5080:8910]\n",
    "imu4 = imu.iloc[8837:11309]\n",
    "imu5 = imu.iloc[11217:12942]\n",
    "imu6 = imu.iloc[12862:14853]\n",
    "imu7 = imu.iloc[14752:16822]"
   ]
  },
  {
   "cell_type": "code",
   "execution_count": 9,
   "id": "294b16b4",
   "metadata": {},
   "outputs": [],
   "source": [
    "# We use the ctc_chroma model from # https://github.com/fzalkow/ctc_chroma/blob/master/ctc_chroma/features.py\n",
    "# to generate chromagrams for the wave files\n",
    "cur_model_id = 'v2_ctc_train512valid3'\n",
    "# File too big for GitHub\n",
    "# cur_audio_path = '20210818_165154.wav'\n",
    "\n",
    "model = ctc_chroma.models.get_model(cur_model_id)"
   ]
  },
  {
   "cell_type": "code",
   "execution_count": 10,
   "id": "9467a04a",
   "metadata": {},
   "outputs": [],
   "source": [
    "# since we already cut down our data we copy the functions from GitHub\n",
    "\n",
    "def get_hcqt_params():\n",
    "    \"\"\"Hack to always use the same parameters :)\n",
    "    Function from https://github.com/rabitt/ismir2017-deepsalience\"\"\"\n",
    "    bins_per_octave = 36\n",
    "    n_octaves = 6\n",
    "    harmonics = [0.5, 1, 2, 3, 4, 5]\n",
    "    sr = 22050\n",
    "    fmin = 32.7\n",
    "    hop_length = 256\n",
    "    return bins_per_octave, n_octaves, harmonics, sr, fmin, hop_length\n",
    "\n",
    "\n",
    "def compute_hcqt(y, fs):\n",
    "    \"\"\"Compute the harmonic CQT from a given audio file\n",
    "    Function from https://github.com/rabitt/ismir2017-deepsalience\"\"\"\n",
    "    (bins_per_octave, n_octaves, harmonics,\n",
    "     sr, f_min, hop_length) = get_hcqt_params()\n",
    "    # y, fs = librosa.load(audio_fpath, sr=sr)\n",
    "\n",
    "    cqt_list = []\n",
    "    shapes = []\n",
    "    for h in harmonics:\n",
    "        cqt = librosa.cqt(y, sr=fs, hop_length=hop_length, fmin=f_min*float(h), n_bins=bins_per_octave*n_octaves,\n",
    "                          bins_per_octave=bins_per_octave)\n",
    "        cqt_list.append(cqt)\n",
    "        shapes.append(cqt.shape)\n",
    "\n",
    "    shapes_equal = [s == shapes[0] for s in shapes]\n",
    "    if not all(shapes_equal):\n",
    "        min_time = np.min([s[1] for s in shapes])\n",
    "        new_cqt_list = []\n",
    "        for i in range(len(cqt_list)):\n",
    "            new_cqt_list.append(cqt_list[i][:, :min_time])\n",
    "        cqt_list = new_cqt_list\n",
    "\n",
    "    log_hcqt = ((1.0 / 80.0) * librosa.core.amplitude_to_db(np.abs(np.array(cqt_list)), ref=np.max)) + 1.0\n",
    "\n",
    "    return log_hcqt\n",
    "\n",
    "\n",
    "def compute_hcqt_median(y, fs, feature_rate):\n",
    "    hcqt = compute_hcqt(y, fs)\n",
    "    times = get_time_grid(len(hcqt[0][0]))\n",
    "    freqs = get_freq_grid()\n",
    "\n",
    "    # interpolate times\n",
    "    eps = np.finfo(float).eps\n",
    "    new_times = np.arange(times[0], times[-1] + eps, 1.0/feature_rate)  # add eps to include last time point\n",
    "\n",
    "    return median_bin_salience(hcqt, times, new_times, axis=-1), new_times, freqs\n",
    "\n",
    "\n",
    "def median_bin_salience(salience, old_times, new_times, axis=1):\n",
    "\n",
    "    idx = []\n",
    "    for i in range(len(new_times)):\n",
    "        start_time = new_times[i]\n",
    "        idx.append(np.searchsorted(old_times, start_time))\n",
    "    idx.append(len(old_times))\n",
    "\n",
    "    new_X = librosa.util.sync(salience, idx, aggregate=np.median, pad=False, axis=axis)\n",
    "\n",
    "    return new_X\n",
    "\n",
    "\n",
    "def get_time_grid(n_time_frames):\n",
    "    \"\"\"Get the hcqt time grid\n",
    "    Function from https://github.com/rabitt/ismir2017-deepsalience\"\"\"\n",
    "    (_, _, _, sr, _, hop_length) = get_hcqt_params()\n",
    "    time_grid = librosa.core.frames_to_time(range(n_time_frames), sr=sr, hop_length=hop_length)\n",
    "    return time_grid\n",
    "\n",
    "\n",
    "def get_freq_grid():\n",
    "    \"\"\"Get the hcqt frequency grid\n",
    "    Function from https://github.com/rabitt/ismir2017-deepsalience\"\"\"\n",
    "    (bins_per_octave, n_octaves, _, _, f_min, _) = get_hcqt_params()\n",
    "    freq_grid = librosa.cqt_frequencies(bins_per_octave*n_octaves, f_min, bins_per_octave=bins_per_octave)\n",
    "    return freq_grid"
   ]
  },
  {
   "cell_type": "code",
   "execution_count": 11,
   "id": "b0046f35",
   "metadata": {},
   "outputs": [],
   "source": [
    "lib_x1 = wave1.to_numpy()\n",
    "lib_x2 = wave2.to_numpy()\n",
    "# lib_x3 = wave3.to_numpy()\n",
    "lib_x4 = wave4.to_numpy()\n",
    "lib_x5 = wave5.to_numpy()\n",
    "lib_x6 = wave6.to_numpy()\n",
    "lib_x7 = wave7.to_numpy()\n",
    "\n",
    "lib_x1 = lib_x1.flatten()\n",
    "lib_x2 = lib_x2.flatten()\n",
    "# lib_x3 = lib_x3.flatten()\n",
    "lib_x4 = lib_x4.flatten()\n",
    "lib_x5 = lib_x5.flatten()\n",
    "lib_x6 = lib_x6.flatten()\n",
    "lib_x7 = lib_x7.flatten()"
   ]
  },
  {
   "cell_type": "code",
   "execution_count": 12,
   "id": "ddf493c7",
   "metadata": {},
   "outputs": [],
   "source": [
    "hcqt1, times1, freqs1 = compute_hcqt_median(lib_x1, 22050, feature_rate=25)\n",
    "hcqt2, times2, freqs2 = compute_hcqt_median(lib_x2, 22050, feature_rate=25)\n",
    "# hcqt3, times3, freqs3 = compute_hcqt_median(lib_x3, 22050, feature_rate=25)\n",
    "hcqt4, times4, freqs4 = compute_hcqt_median(lib_x4, 22050, feature_rate=25)\n",
    "hcqt5, times5, freqs5 = compute_hcqt_median(lib_x5, 22050, feature_rate=25)\n",
    "hcqt6, times6, freqs6 = compute_hcqt_median(lib_x6, 22050, feature_rate=25)\n",
    "hcqt7, times7, freqs7 = compute_hcqt_median(lib_x7, 22050, feature_rate=25)"
   ]
  },
  {
   "cell_type": "code",
   "execution_count": 13,
   "id": "9b0eeea6",
   "metadata": {},
   "outputs": [],
   "source": [
    "hcqt_norm1 = librosa.util.normalize(hcqt1.T, norm=2, fill=True, axis=1)\n",
    "hcqt_norm2 = librosa.util.normalize(hcqt2.T, norm=2, fill=True, axis=1)\n",
    "# hcqt_norm3 = librosa.util.normalize(hcqt3.T, norm=2, fill=True, axis=1)\n",
    "hcqt_norm4 = librosa.util.normalize(hcqt4.T, norm=2, fill=True, axis=1)\n",
    "hcqt_norm5 = librosa.util.normalize(hcqt5.T, norm=2, fill=True, axis=1)\n",
    "hcqt_norm6 = librosa.util.normalize(hcqt6.T, norm=2, fill=True, axis=1)\n",
    "hcqt_norm7 = librosa.util.normalize(hcqt7.T, norm=2, fill=True, axis=1)"
   ]
  },
  {
   "cell_type": "code",
   "execution_count": 14,
   "id": "690d3782",
   "metadata": {},
   "outputs": [],
   "source": [
    "probabilities_ctc1 = model.predict(hcqt_norm1[np.newaxis, :, :, :])[0, :, :].T\n",
    "probabilities_ctc2 = model.predict(hcqt_norm2[np.newaxis, :, :, :])[0, :, :].T\n",
    "# probabilities_ctc3 = model.predict(hcqt_norm3[np.newaxis, :, :, :])[0, :, :].T\n",
    "probabilities_ctc4 = model.predict(hcqt_norm4[np.newaxis, :, :, :])[0, :, :].T\n",
    "probabilities_ctc5 = model.predict(hcqt_norm5[np.newaxis, :, :, :])[0, :, :].T\n",
    "probabilities_ctc6 = model.predict(hcqt_norm6[np.newaxis, :, :, :])[0, :, :].T\n",
    "probabilities_ctc7 = model.predict(hcqt_norm7[np.newaxis, :, :, :])[0, :, :].T"
   ]
  },
  {
   "cell_type": "code",
   "execution_count": 15,
   "id": "b5cf61cf",
   "metadata": {},
   "outputs": [],
   "source": [
    "chroma_ctc1 = librosa.util.normalize(probabilities_ctc1[:-1, :], norm=2, fill=True, axis=0)\n",
    "chroma_ctc2 = librosa.util.normalize(probabilities_ctc2[:-1, :], norm=2, fill=True, axis=0)\n",
    "# chroma_ctc3 = librosa.util.normalize(probabilities_ctc3[:-1, :], norm=2, fill=True, axis=0)\n",
    "chroma_ctc4 = librosa.util.normalize(probabilities_ctc4[:-1, :], norm=2, fill=True, axis=0)\n",
    "chroma_ctc5 = librosa.util.normalize(probabilities_ctc5[:-1, :], norm=2, fill=True, axis=0)\n",
    "chroma_ctc6 = librosa.util.normalize(probabilities_ctc6[:-1, :], norm=2, fill=True, axis=0)\n",
    "chroma_ctc7 = librosa.util.normalize(probabilities_ctc7[:-1, :], norm=2, fill=True, axis=0)"
   ]
  },
  {
   "cell_type": "code",
   "execution_count": 16,
   "id": "918cf488",
   "metadata": {},
   "outputs": [],
   "source": [
    "bins_per_octave, n_octaves, harmonics, sr, fmin, hop_length = ctc_chroma.features.get_hcqt_params()\n",
    "\n",
    "\n",
    "chroma_cqt1 = librosa.feature.chroma_cqt(C=hcqt_norm1[:, :, 1].T, fmin=fmin, bins_per_octave=bins_per_octave)\n",
    "chroma_cqt2 = librosa.feature.chroma_cqt(C=hcqt_norm2[:, :, 1].T, fmin=fmin, bins_per_octave=bins_per_octave)\n",
    "# chroma_cqt3 = librosa.feature.chroma_cqt(C=hcqt_norm3[:, :, 1].T, fmin=fmin, bins_per_octave=bins_per_octave)\n",
    "chroma_cqt4 = librosa.feature.chroma_cqt(C=hcqt_norm4[:, :, 1].T, fmin=fmin, bins_per_octave=bins_per_octave)\n",
    "chroma_cqt5 = librosa.feature.chroma_cqt(C=hcqt_norm5[:, :, 1].T, fmin=fmin, bins_per_octave=bins_per_octave)\n",
    "chroma_cqt6 = librosa.feature.chroma_cqt(C=hcqt_norm6[:, :, 1].T, fmin=fmin, bins_per_octave=bins_per_octave)\n",
    "chroma_cqt7 = librosa.feature.chroma_cqt(C=hcqt_norm7[:, :, 1].T, fmin=fmin, bins_per_octave=bins_per_octave)"
   ]
  },
  {
   "cell_type": "code",
   "execution_count": 17,
   "id": "c464ff17",
   "metadata": {},
   "outputs": [],
   "source": [
    "# For some data cqt works better, for other ctc. \n",
    "# We take the chromagrams which give better results and transpose the arrays\n",
    "chroma_cqt1_T = chroma_cqt1.transpose()\n",
    "chroma_cqt2_T = chroma_cqt2.transpose()\n",
    "# chroma_cqt3_T = chroma_cqt3.transpose()\n",
    "chroma_ctc4_T = chroma_ctc4.transpose()\n",
    "chroma_ctc5_T = chroma_ctc5.transpose()\n",
    "chroma_ctc6_T = chroma_ctc6.transpose()\n",
    "chroma_ctc7_T = chroma_ctc7.transpose()"
   ]
  },
  {
   "cell_type": "code",
   "execution_count": 18,
   "id": "3c38f0e0",
   "metadata": {},
   "outputs": [],
   "source": [
    "# from ndarray to panda DataFrame\n",
    "cqt1 = pd.DataFrame(data=chroma_cqt1_T, columns=['1','2','3','4','5','6','7','8','9','10','11','12'])\n",
    "cqt2 = pd.DataFrame(data=chroma_cqt2_T, columns=['1','2','3','4','5','6','7','8','9','10','11','12'])\n",
    "# cqt3 = pd.DataFrame(data=chroma_cqt3_T, columns=['1','2','3','4','5','6','7','8','9','10','11','12'])\n",
    "ctc4 = pd.DataFrame(data=chroma_ctc4_T, columns=['1','2','3','4','5','6','7','8','9','10','11','12'])\n",
    "ctc5 = pd.DataFrame(data=chroma_ctc5_T, columns=['1','2','3','4','5','6','7','8','9','10','11','12'])\n",
    "ctc6 = pd.DataFrame(data=chroma_ctc6_T, columns=['1','2','3','4','5','6','7','8','9','10','11','12'])\n",
    "ctc7 = pd.DataFrame(data=chroma_ctc7_T, columns=['1','2','3','4','5','6','7','8','9','10','11','12'])"
   ]
  },
  {
   "cell_type": "code",
   "execution_count": 19,
   "id": "acceeae9",
   "metadata": {},
   "outputs": [],
   "source": [
    "# create a column for the most probable note\n",
    "cqt1['Tones'] = cqt1.idxmax(1)\n",
    "cqt2['Tones'] = cqt2.idxmax(1)\n",
    "# cqt3['Tones'] = cqt3.idxmax(1)\n",
    "ctc4['Tones'] = ctc4.idxmax(1)\n",
    "ctc5['Tones'] = ctc5.idxmax(1)\n",
    "ctc6['Tones'] = ctc6.idxmax(1)\n",
    "ctc7['Tones'] = ctc7.idxmax(1)"
   ]
  },
  {
   "cell_type": "code",
   "execution_count": 20,
   "id": "3de7b684",
   "metadata": {},
   "outputs": [],
   "source": [
    "# We want the first occurance of the note to mark our tone changes\n",
    "cqt1['FirstOcc'] = cqt1['Tones'].shift() != cqt1['Tones']\n",
    "cqt2['FirstOcc'] = cqt2['Tones'].shift() != cqt2['Tones']\n",
    "# cqt3['FirstOcc'] = cqt3['Tones'].shift() != cqt3['Tones']\n",
    "ctc4['FirstOcc'] = ctc4['Tones'].shift() != ctc4['Tones']\n",
    "ctc5['FirstOcc'] = ctc5['Tones'].shift() != ctc5['Tones']\n",
    "ctc6['FirstOcc'] = ctc6['Tones'].shift() != ctc6['Tones']\n",
    "ctc7['FirstOcc'] = ctc7['Tones'].shift() != ctc7['Tones']"
   ]
  },
  {
   "cell_type": "code",
   "execution_count": 21,
   "id": "cca1dc69",
   "metadata": {},
   "outputs": [],
   "source": [
    "# change first occurence from boolean to int\n",
    "cqt1['FirstOcc'] = cqt1['FirstOcc'].astype(int)\n",
    "cqt2['FirstOcc'] = cqt2['FirstOcc'].astype(int)\n",
    "# cqt3['FirstOcc'] = cqt3['FirstOcc'].astype(int)\n",
    "ctc4['FirstOcc'] = ctc4['FirstOcc'].astype(int)\n",
    "ctc5['FirstOcc'] = ctc5['FirstOcc'].astype(int)\n",
    "ctc6['FirstOcc'] = ctc6['FirstOcc'].astype(int)\n",
    "ctc7['FirstOcc'] = ctc7['FirstOcc'].astype(int)"
   ]
  },
  {
   "cell_type": "code",
   "execution_count": 22,
   "id": "20621753",
   "metadata": {},
   "outputs": [],
   "source": [
    "# map the numbers to tone names\n",
    "mapTone = {'1':'C', '2':'Cis', '3':'D', '4':'Dis', '5':'E', '6':'F', '7':'Fis', '8':'G', '9':'Gis', '10':'A', '11':'B', '12':'H'}\n",
    "cqt1['TonesName'] = cqt1['Tones'].map(mapTone)\n",
    "cqt2['TonesName'] = cqt2['Tones'].map(mapTone)\n",
    "# cqt3['TonesName'] = cqt3['Tones'].map(mapTone)\n",
    "ctc4['TonesName'] = ctc4['Tones'].map(mapTone)\n",
    "ctc5['TonesName'] = ctc5['Tones'].map(mapTone)\n",
    "ctc6['TonesName'] = ctc6['Tones'].map(mapTone)\n",
    "ctc7['TonesName'] = ctc7['Tones'].map(mapTone)"
   ]
  },
  {
   "cell_type": "code",
   "execution_count": 23,
   "id": "fb1b14bc",
   "metadata": {},
   "outputs": [],
   "source": [
    "# We cleaned the data manually and made the dataframes smaller to have only the relevant information\n",
    "# the audio samples 4, 5 and 7 were a bit too messy so we just take 1-3 and 6\n",
    "cqt1_cleaned = pd.read_csv('cqt1_cleaned.csv', sep=';', index_col=0)\n",
    "cqt2_cleaned = pd.read_csv('cqt2_cleaned.csv', sep=';', index_col=0)\n",
    "cqt3_cleaned = pd.read_csv('cqt3_cleaned.csv', sep=';', index_col=0)\n",
    "ctc6_cleaned = pd.read_csv('ctc6_cleaned.csv', sep=';', index_col=0)"
   ]
  },
  {
   "cell_type": "code",
   "execution_count": 24,
   "id": "cc2a161a",
   "metadata": {},
   "outputs": [],
   "source": [
    "# To have equaly sized imu data and audio data we stretch our chromagram data and the interpolate \n",
    "# the imu data to fit the dataframe\n",
    "# To have a stretched DataFrame we first produce an empty dataframe\n",
    "index1 = range(3345)\n",
    "index2 = range(3300)\n",
    "index3 = range(5049)\n",
    "index6 = range(2628)\n",
    "columns = ['FirstOcc']\n",
    "\n",
    "cqt1_stretched = pd.DataFrame(index=index1, columns=columns)\n",
    "cqt2_stretched = pd.DataFrame(index=index2, columns=columns)\n",
    "cqt3_stretched = pd.DataFrame(index=index3, columns=columns)\n",
    "ctc6_stretched = pd.DataFrame(index=index6, columns=columns)\n",
    "\n",
    "# get a subset of our stretched DataFrames the size of our data\n",
    "cqt1_3 = cqt1_stretched.iloc[::3].copy()\n",
    "cqt2_3 = cqt2_stretched.iloc[::3].copy()\n",
    "cqt3_3 = cqt3_stretched.iloc[::3].copy()\n",
    "ctc6_3 = ctc6_stretched.iloc[::3].copy()\n",
    "\n",
    "# to overwrite the data we first need to reset the index\n",
    "cqt1_3 = cqt1_3.reset_index()\n",
    "cqt2_3 = cqt2_3.reset_index()\n",
    "cqt3_3 = cqt3_3.reset_index()\n",
    "ctc6_3 = ctc6_3.reset_index()\n",
    "\n",
    "# Overwrite the data\n",
    "cqt1_3['FirstOcc'] = cqt1_cleaned['FirstOcc']\n",
    "cqt2_3['FirstOcc'] = cqt2_cleaned['FirstOcc']\n",
    "cqt3_3['FirstOcc'] = cqt3_cleaned['FirstOcc']\n",
    "ctc6_3['FirstOcc'] = ctc6_cleaned['FirstOcc']\n",
    "\n",
    "# Reset the index to the original\n",
    "cqt1_3 = cqt1_3.set_index('index')\n",
    "cqt2_3 = cqt2_3.set_index('index')\n",
    "cqt3_3 = cqt3_3.set_index('index')\n",
    "ctc6_3 = ctc6_3.set_index('index')\n",
    "\n",
    "# Overwrite the data in our stretched DataFrames\n",
    "cqt1_stretched['FirstOcc'] = cqt1_3['FirstOcc']\n",
    "cqt2_stretched['FirstOcc'] = cqt2_3['FirstOcc']\n",
    "cqt3_stretched['FirstOcc'] = cqt3_3['FirstOcc']\n",
    "ctc6_stretched['FirstOcc'] = ctc6_3['FirstOcc']\n",
    "\n",
    "# replace NaN-values with 0\n",
    "cqt1_stretched = cqt1_stretched.fillna(0)\n",
    "cqt2_stretched = cqt2_stretched.fillna(0)\n",
    "cqt3_stretched = cqt3_stretched.fillna(0)\n",
    "ctc6_stretched = ctc6_stretched.fillna(0)"
   ]
  },
  {
   "cell_type": "code",
   "execution_count": 25,
   "id": "a3a4a270",
   "metadata": {},
   "outputs": [],
   "source": [
    "from scipy.interpolate import interp1d"
   ]
  },
  {
   "cell_type": "code",
   "execution_count": 26,
   "id": "9569abde",
   "metadata": {},
   "outputs": [],
   "source": [
    "# Interpolate our accelerometer and gyroscope data to have the same length with our tone data\n",
    "x_acc1 = np.linspace(0, len(imu1)-1, num=len(imu1), endpoint=True)\n",
    "y_acc1 = imu1['Acc gesamt']\n",
    "f_acc1 = interp1d(x_acc1, y_acc1, kind='slinear')\n",
    "xnew_acc1 = np.linspace(0, len(imu1)-1, num=len(cqt1_stretched))\n",
    "ynew_acc1 = f_acc1(xnew_acc1) # use interpolation function returned by `interp1d`\n",
    "\n",
    "x_gy1 = np.linspace(0, len(imu1)-1, num=len(imu1), endpoint=True)\n",
    "y_gy1 = imu1['Gy gesamt']\n",
    "f_gy1 = interp1d(x_gy1, y_gy1, kind='slinear')\n",
    "xnew_gy1 = np.linspace(0, len(imu1)-1, num=len(cqt1_stretched))\n",
    "ynew_gy1 = f_gy1(xnew_gy1) # use interpolation function returned by `interp1d`\n",
    "\n",
    "x_acc2 = np.linspace(0, len(imu2)-1, num=len(imu2), endpoint=True)\n",
    "y_acc2 = imu2['Acc gesamt']\n",
    "f_acc2 = interp1d(x_acc2, y_acc2, kind='slinear')\n",
    "xnew_acc2 = np.linspace(0, len(imu2)-1, num=len(cqt2_stretched))\n",
    "ynew_acc2 = f_acc2(xnew_acc2) # use interpolation function returned by `interp1d`\n",
    "\n",
    "x_gy2 = np.linspace(0, len(imu2)-1, num=len(imu2), endpoint=True)\n",
    "y_gy2 = imu2['Gy gesamt']\n",
    "f_gy2 = interp1d(x_gy2, y_gy2, kind='slinear')\n",
    "xnew_gy2 = np.linspace(0, len(imu2)-1, num=len(cqt2_stretched))\n",
    "ynew_gy2 = f_gy2(xnew_gy2) # use interpolation function returned by `interp1d`\n",
    "\n",
    "x_acc3 = np.linspace(0, len(imu3)-1, num=len(imu3), endpoint=True)\n",
    "y_acc3 = imu3['Acc gesamt']\n",
    "f_acc3 = interp1d(x_acc3, y_acc3, kind='slinear')\n",
    "xnew_acc3 = np.linspace(0, len(imu3)-1, num=len(cqt3_stretched))\n",
    "ynew_acc3 = f_acc3(xnew_acc3) # use interpolation function returned by `interp1d`\n",
    "\n",
    "x_gy3 = np.linspace(0, len(imu3)-1, num=len(imu3), endpoint=True)\n",
    "y_gy3 = imu3['Gy gesamt']\n",
    "f_gy3 = interp1d(x_gy3, y_gy3, kind='slinear')\n",
    "xnew_gy3 = np.linspace(0, len(imu3)-1, num=len(cqt3_stretched))\n",
    "ynew_gy3 = f_gy3(xnew_gy3) # use interpolation function returned by `interp1d`\n",
    "\n",
    "x_acc6 = np.linspace(0, len(imu6)-1, num=len(imu6), endpoint=True)\n",
    "y_acc6 = imu6['Acc gesamt']\n",
    "f_acc6 = interp1d(x_acc6, y_acc6, kind='slinear')\n",
    "xnew_acc6 = np.linspace(0, len(imu6)-1, num=len(ctc6_stretched))\n",
    "ynew_acc6 = f_acc6(xnew_acc6) # use interpolation function returned by `interp1d`\n",
    "\n",
    "x_gy6 = np.linspace(0, len(imu6)-1, num=len(imu6), endpoint=True)\n",
    "y_gy6 = imu6['Gy gesamt']\n",
    "f_gy6 = interp1d(x_gy6, y_gy6, kind='slinear')\n",
    "xnew_gy6 = np.linspace(0, len(imu6)-1, num=len(ctc6_stretched))\n",
    "ynew_gy6 = f_gy6(xnew_gy6) # use interpolation function returned by `interp1d`\n",
    "\n",
    "cqt1_stretched['Acc'] = ynew_acc1\n",
    "cqt1_stretched['Gy'] = ynew_gy1\n",
    "cqt2_stretched['Acc'] = ynew_acc2\n",
    "cqt2_stretched['Gy'] = ynew_gy2\n",
    "cqt3_stretched['Acc'] = ynew_acc3\n",
    "cqt3_stretched['Gy'] = ynew_gy3\n",
    "ctc6_stretched['Acc'] = ynew_acc6\n",
    "ctc6_stretched['Gy'] = ynew_gy6"
   ]
  },
  {
   "cell_type": "code",
   "execution_count": 27,
   "id": "c7e66b1d",
   "metadata": {},
   "outputs": [],
   "source": [
    "# Since we only need the data where actual notes are played we get a subset of each dataframe\n",
    "# and do some scaling with the MinMaxScaler\n",
    "# already prepared files:\n",
    "cqt1_scaled = pd.read_csv('cqt1_scaled.csv', sep=';', index_col=0)\n",
    "cqt2_scaled = pd.read_csv('cqt2_scaled.csv', sep=';', index_col=0)\n",
    "cqt3_scaled = pd.read_csv('cqt3_scaled.csv', sep=';', index_col=0)\n",
    "ctc6_scaled = pd.read_csv('ctc6_scaled.csv', sep=';', index_col=0)"
   ]
  },
  {
   "cell_type": "code",
   "execution_count": 28,
   "id": "c45ca7d8",
   "metadata": {},
   "outputs": [],
   "source": [
    "# put all together in one dataframe\n",
    "frames = [cqt1_scaled, cqt2_scaled, cqt3_scaled, ctc6_scaled]\n",
    "df_all = pd.concat(frames, ignore_index=True)"
   ]
  },
  {
   "cell_type": "code",
   "execution_count": 29,
   "id": "41084c06",
   "metadata": {},
   "outputs": [],
   "source": [
    "df_all.rename(columns={'0':'Acc gesamt', '1':'Gy gesamt'}, inplace=True)"
   ]
  },
  {
   "cell_type": "code",
   "execution_count": 30,
   "id": "178ad63b",
   "metadata": {},
   "outputs": [],
   "source": [
    "from tcn import TCN, tcn_full_summary # We use keras_tcn from https://github.com/philipperemy/keras-tcn\n",
    "from tensorflow.keras.layers import Dense\n",
    "from tensorflow.keras.models import Sequential\n",
    "from tensorflow.keras.callbacks import EarlyStopping"
   ]
  },
  {
   "cell_type": "code",
   "execution_count": 31,
   "id": "1bca19c6",
   "metadata": {},
   "outputs": [
    {
     "name": "stdout",
     "output_type": "stream",
     "text": [
      "Receptive field size = 253\n",
      "Model: \"sequential\"\n",
      "_________________________________________________________________\n",
      "Layer (type)                 Output Shape              Param #   \n",
      "=================================================================\n",
      "residual_block_0 (ResidualBl [(None, None, 64), (None, 12736     \n",
      "_________________________________________________________________\n",
      "residual_block_1 (ResidualBl [(None, None, 64), (None, 24704     \n",
      "_________________________________________________________________\n",
      "residual_block_2 (ResidualBl [(None, None, 64), (None, 24704     \n",
      "_________________________________________________________________\n",
      "residual_block_3 (ResidualBl [(None, None, 64), (None, 24704     \n",
      "_________________________________________________________________\n",
      "residual_block_4 (ResidualBl [(None, None, 64), (None, 24704     \n",
      "_________________________________________________________________\n",
      "residual_block_5 (ResidualBl [(None, None, 64), (None, 24704     \n",
      "_________________________________________________________________\n",
      "lambda (Lambda)              (None, 64)                0         \n",
      "_________________________________________________________________\n",
      "dense_2 (Dense)              (None, 1)                 65        \n",
      "=================================================================\n",
      "Total params: 136,321\n",
      "Trainable params: 136,321\n",
      "Non-trainable params: 0\n",
      "_________________________________________________________________\n",
      "Epoch 1/200\n",
      "242/242 [==============================] - ETA: 0s - loss: 0.578 - ETA: 2s - loss: 0.593 - ETA: 2s - loss: 0.480 - ETA: 2s - loss: 0.439 - ETA: 2s - loss: 0.344 - ETA: 2s - loss: 0.482 - ETA: 2s - loss: 0.457 - ETA: 2s - loss: 0.419 - ETA: 2s - loss: 0.436 - ETA: 2s - loss: 0.458 - ETA: 1s - loss: 0.461 - ETA: 1s - loss: 0.474 - ETA: 1s - loss: 0.480 - ETA: 1s - loss: 0.460 - ETA: 1s - loss: 0.437 - ETA: 1s - loss: 0.461 - ETA: 1s - loss: 0.454 - ETA: 1s - loss: 0.486 - ETA: 1s - loss: 0.483 - ETA: 1s - loss: 0.472 - ETA: 1s - loss: 0.470 - ETA: 1s - loss: 0.453 - ETA: 1s - loss: 0.449 - ETA: 1s - loss: 0.457 - ETA: 1s - loss: 0.452 - ETA: 1s - loss: 0.444 - ETA: 1s - loss: 0.446 - ETA: 1s - loss: 0.462 - ETA: 0s - loss: 0.459 - ETA: 0s - loss: 0.456 - ETA: 0s - loss: 0.447 - ETA: 0s - loss: 0.435 - ETA: 0s - loss: 0.423 - ETA: 0s - loss: 0.424 - ETA: 0s - loss: 0.428 - ETA: 0s - loss: 0.441 - ETA: 0s - loss: 0.437 - ETA: 0s - loss: 0.433 - ETA: 0s - loss: 0.441 - ETA: 0s - loss: 0.444 - ETA: 0s - loss: 0.442 - ETA: 0s - loss: 0.447 - ETA: 0s - loss: 0.441 - ETA: 0s - loss: 0.440 - ETA: 0s - loss: 0.437 - ETA: 0s - loss: 0.438 - ETA: 0s - loss: 0.431 - ETA: 0s - loss: 0.429 - 3s 13ms/step - loss: 0.4360 - val_loss: 0.1927\n",
      "Epoch 2/200\n",
      "242/242 [==============================] - ETA: 0s - loss: 0.081 - ETA: 2s - loss: 0.420 - ETA: 2s - loss: 0.564 - ETA: 2s - loss: 0.547 - ETA: 2s - loss: 0.485 - ETA: 2s - loss: 0.577 - ETA: 2s - loss: 0.551 - ETA: 2s - loss: 0.534 - ETA: 1s - loss: 0.518 - ETA: 1s - loss: 0.555 - ETA: 1s - loss: 0.520 - ETA: 1s - loss: 0.491 - ETA: 1s - loss: 0.462 - ETA: 1s - loss: 0.435 - ETA: 1s - loss: 0.445 - ETA: 1s - loss: 0.420 - ETA: 1s - loss: 0.437 - ETA: 1s - loss: 0.427 - ETA: 1s - loss: 0.420 - ETA: 1s - loss: 0.405 - ETA: 1s - loss: 0.415 - ETA: 1s - loss: 0.408 - ETA: 1s - loss: 0.416 - ETA: 1s - loss: 0.410 - ETA: 1s - loss: 0.399 - ETA: 1s - loss: 0.394 - ETA: 1s - loss: 0.401 - ETA: 1s - loss: 0.403 - ETA: 0s - loss: 0.402 - ETA: 0s - loss: 0.407 - ETA: 0s - loss: 0.406 - ETA: 0s - loss: 0.413 - ETA: 0s - loss: 0.424 - ETA: 0s - loss: 0.419 - ETA: 0s - loss: 0.422 - ETA: 0s - loss: 0.420 - ETA: 0s - loss: 0.422 - ETA: 0s - loss: 0.425 - ETA: 0s - loss: 0.418 - ETA: 0s - loss: 0.414 - ETA: 0s - loss: 0.417 - ETA: 0s - loss: 0.412 - ETA: 0s - loss: 0.412 - ETA: 0s - loss: 0.408 - ETA: 0s - loss: 0.404 - ETA: 0s - loss: 0.411 - ETA: 0s - loss: 0.405 - ETA: 0s - loss: 0.405 - 3s 11ms/step - loss: 0.4052 - val_loss: 0.1981\n",
      "Epoch 3/200\n",
      "242/242 [==============================] - ETA: 0s - loss: 0.793 - ETA: 2s - loss: 0.679 - ETA: 2s - loss: 0.529 - ETA: 2s - loss: 0.656 - ETA: 2s - loss: 0.602 - ETA: 2s - loss: 0.601 - ETA: 2s - loss: 0.572 - ETA: 2s - loss: 0.539 - ETA: 1s - loss: 0.534 - ETA: 1s - loss: 0.520 - ETA: 1s - loss: 0.495 - ETA: 1s - loss: 0.467 - ETA: 1s - loss: 0.456 - ETA: 1s - loss: 0.429 - ETA: 1s - loss: 0.438 - ETA: 1s - loss: 0.411 - ETA: 1s - loss: 0.399 - ETA: 1s - loss: 0.387 - ETA: 1s - loss: 0.388 - ETA: 1s - loss: 0.380 - ETA: 1s - loss: 0.368 - ETA: 1s - loss: 0.379 - ETA: 1s - loss: 0.399 - ETA: 1s - loss: 0.412 - ETA: 1s - loss: 0.412 - ETA: 1s - loss: 0.417 - ETA: 1s - loss: 0.420 - ETA: 1s - loss: 0.415 - ETA: 0s - loss: 0.408 - ETA: 0s - loss: 0.408 - ETA: 0s - loss: 0.408 - ETA: 0s - loss: 0.420 - ETA: 0s - loss: 0.416 - ETA: 0s - loss: 0.422 - ETA: 0s - loss: 0.414 - ETA: 0s - loss: 0.411 - ETA: 0s - loss: 0.409 - ETA: 0s - loss: 0.403 - ETA: 0s - loss: 0.412 - ETA: 0s - loss: 0.421 - ETA: 0s - loss: 0.414 - ETA: 0s - loss: 0.414 - ETA: 0s - loss: 0.414 - ETA: 0s - loss: 0.411 - ETA: 0s - loss: 0.406 - ETA: 0s - loss: 0.411 - ETA: 0s - loss: 0.408 - ETA: 0s - loss: 0.401 - ETA: 0s - loss: 0.398 - 3s 12ms/step - loss: 0.3966 - val_loss: 0.1743\n",
      "Epoch 4/200\n",
      "242/242 [==============================] - ETA: 0s - loss: 0.091 - ETA: 2s - loss: 0.214 - ETA: 2s - loss: 0.234 - ETA: 2s - loss: 0.178 - ETA: 2s - loss: 0.216 - ETA: 2s - loss: 0.189 - ETA: 2s - loss: 0.208 - ETA: 2s - loss: 0.230 - ETA: 2s - loss: 0.287 - ETA: 2s - loss: 0.285 - ETA: 2s - loss: 0.302 - ETA: 2s - loss: 0.310 - ETA: 2s - loss: 0.337 - ETA: 2s - loss: 0.322 - ETA: 2s - loss: 0.344 - ETA: 1s - loss: 0.331 - ETA: 1s - loss: 0.339 - ETA: 1s - loss: 0.341 - ETA: 1s - loss: 0.341 - ETA: 1s - loss: 0.348 - ETA: 1s - loss: 0.341 - ETA: 1s - loss: 0.336 - ETA: 1s - loss: 0.338 - ETA: 1s - loss: 0.367 - ETA: 1s - loss: 0.374 - ETA: 1s - loss: 0.371 - ETA: 1s - loss: 0.373 - ETA: 1s - loss: 0.371 - ETA: 1s - loss: 0.367 - ETA: 1s - loss: 0.363 - ETA: 1s - loss: 0.365 - ETA: 1s - loss: 0.366 - ETA: 0s - loss: 0.366 - ETA: 0s - loss: 0.361 - ETA: 0s - loss: 0.353 - ETA: 0s - loss: 0.345 - ETA: 0s - loss: 0.346 - ETA: 0s - loss: 0.362 - ETA: 0s - loss: 0.364 - ETA: 0s - loss: 0.361 - ETA: 0s - loss: 0.366 - ETA: 0s - loss: 0.367 - ETA: 0s - loss: 0.370 - ETA: 0s - loss: 0.369 - ETA: 0s - loss: 0.366 - ETA: 0s - loss: 0.376 - ETA: 0s - loss: 0.381 - ETA: 0s - loss: 0.378 - ETA: 0s - loss: 0.384 - ETA: 0s - loss: 0.396 - ETA: 0s - loss: 0.399 - ETA: 0s - loss: 0.400 - ETA: 0s - loss: 0.398 - 3s 13ms/step - loss: 0.3979 - val_loss: 0.2770\n",
      "Epoch 5/200\n",
      "242/242 [==============================] - ETA: 0s - loss: 0.212 - ETA: 2s - loss: 0.682 - ETA: 2s - loss: 0.626 - ETA: 2s - loss: 0.508 - ETA: 2s - loss: 0.509 - ETA: 2s - loss: 0.456 - ETA: 2s - loss: 0.491 - ETA: 2s - loss: 0.485 - ETA: 2s - loss: 0.486 - ETA: 2s - loss: 0.484 - ETA: 2s - loss: 0.470 - ETA: 2s - loss: 0.456 - ETA: 2s - loss: 0.464 - ETA: 2s - loss: 0.443 - ETA: 2s - loss: 0.435 - ETA: 1s - loss: 0.462 - ETA: 1s - loss: 0.457 - ETA: 1s - loss: 0.461 - ETA: 1s - loss: 0.448 - ETA: 1s - loss: 0.453 - ETA: 1s - loss: 0.445 - ETA: 1s - loss: 0.435 - ETA: 1s - loss: 0.421 - ETA: 1s - loss: 0.406 - ETA: 1s - loss: 0.406 - ETA: 1s - loss: 0.392 - ETA: 1s - loss: 0.386 - ETA: 1s - loss: 0.380 - ETA: 1s - loss: 0.368 - ETA: 1s - loss: 0.372 - ETA: 1s - loss: 0.361 - ETA: 1s - loss: 0.364 - ETA: 1s - loss: 0.367 - ETA: 0s - loss: 0.364 - ETA: 0s - loss: 0.364 - ETA: 0s - loss: 0.363 - ETA: 0s - loss: 0.385 - ETA: 0s - loss: 0.386 - ETA: 0s - loss: 0.386 - ETA: 0s - loss: 0.395 - ETA: 0s - loss: 0.397 - ETA: 0s - loss: 0.399 - ETA: 0s - loss: 0.399 - ETA: 0s - loss: 0.394 - ETA: 0s - loss: 0.392 - ETA: 0s - loss: 0.389 - ETA: 0s - loss: 0.389 - ETA: 0s - loss: 0.391 - ETA: 0s - loss: 0.395 - ETA: 0s - loss: 0.389 - ETA: 0s - loss: 0.394 - ETA: 0s - loss: 0.391 - 3s 13ms/step - loss: 0.3918 - val_loss: 0.2119\n",
      "Epoch 6/200\n"
     ]
    },
    {
     "name": "stdout",
     "output_type": "stream",
     "text": [
      "242/242 [==============================] - ETA: 0s - loss: 1.751 - ETA: 2s - loss: 0.787 - ETA: 2s - loss: 0.517 - ETA: 2s - loss: 0.486 - ETA: 2s - loss: 0.471 - ETA: 2s - loss: 0.429 - ETA: 2s - loss: 0.443 - ETA: 2s - loss: 0.449 - ETA: 2s - loss: 0.462 - ETA: 2s - loss: 0.439 - ETA: 2s - loss: 0.434 - ETA: 1s - loss: 0.452 - ETA: 1s - loss: 0.441 - ETA: 1s - loss: 0.441 - ETA: 1s - loss: 0.481 - ETA: 1s - loss: 0.468 - ETA: 1s - loss: 0.469 - ETA: 1s - loss: 0.458 - ETA: 1s - loss: 0.461 - ETA: 1s - loss: 0.451 - ETA: 1s - loss: 0.453 - ETA: 1s - loss: 0.444 - ETA: 1s - loss: 0.435 - ETA: 1s - loss: 0.439 - ETA: 1s - loss: 0.438 - ETA: 1s - loss: 0.437 - ETA: 1s - loss: 0.431 - ETA: 1s - loss: 0.425 - ETA: 1s - loss: 0.411 - ETA: 0s - loss: 0.410 - ETA: 0s - loss: 0.425 - ETA: 0s - loss: 0.418 - ETA: 0s - loss: 0.420 - ETA: 0s - loss: 0.412 - ETA: 0s - loss: 0.401 - ETA: 0s - loss: 0.394 - ETA: 0s - loss: 0.394 - ETA: 0s - loss: 0.402 - ETA: 0s - loss: 0.394 - ETA: 0s - loss: 0.393 - ETA: 0s - loss: 0.387 - ETA: 0s - loss: 0.380 - ETA: 0s - loss: 0.387 - ETA: 0s - loss: 0.386 - ETA: 0s - loss: 0.401 - ETA: 0s - loss: 0.398 - ETA: 0s - loss: 0.395 - 3s 12ms/step - loss: 0.3935 - val_loss: 0.2323\n",
      "Epoch 7/200\n",
      "242/242 [==============================] - ETA: 0s - loss: 0.159 - ETA: 1s - loss: 0.512 - ETA: 2s - loss: 0.555 - ETA: 2s - loss: 0.458 - ETA: 1s - loss: 0.450 - ETA: 1s - loss: 0.432 - ETA: 1s - loss: 0.449 - ETA: 1s - loss: 0.408 - ETA: 1s - loss: 0.446 - ETA: 1s - loss: 0.461 - ETA: 1s - loss: 0.449 - ETA: 1s - loss: 0.445 - ETA: 1s - loss: 0.419 - ETA: 1s - loss: 0.414 - ETA: 1s - loss: 0.400 - ETA: 1s - loss: 0.382 - ETA: 1s - loss: 0.401 - ETA: 1s - loss: 0.398 - ETA: 1s - loss: 0.402 - ETA: 1s - loss: 0.388 - ETA: 1s - loss: 0.387 - ETA: 1s - loss: 0.385 - ETA: 1s - loss: 0.385 - ETA: 1s - loss: 0.381 - ETA: 1s - loss: 0.382 - ETA: 1s - loss: 0.378 - ETA: 1s - loss: 0.368 - ETA: 1s - loss: 0.380 - ETA: 1s - loss: 0.390 - ETA: 1s - loss: 0.394 - ETA: 1s - loss: 0.393 - ETA: 0s - loss: 0.391 - ETA: 0s - loss: 0.384 - ETA: 0s - loss: 0.384 - ETA: 0s - loss: 0.376 - ETA: 0s - loss: 0.372 - ETA: 0s - loss: 0.370 - ETA: 0s - loss: 0.371 - ETA: 0s - loss: 0.373 - ETA: 0s - loss: 0.389 - ETA: 0s - loss: 0.390 - ETA: 0s - loss: 0.394 - ETA: 0s - loss: 0.394 - ETA: 0s - loss: 0.391 - ETA: 0s - loss: 0.397 - ETA: 0s - loss: 0.398 - ETA: 0s - loss: 0.395 - ETA: 0s - loss: 0.390 - ETA: 0s - loss: 0.393 - 3s 13ms/step - loss: 0.3958 - val_loss: 0.2126\n",
      "Epoch 8/200\n",
      "242/242 [==============================] - ETA: 0s - loss: 0.122 - ETA: 2s - loss: 0.115 - ETA: 2s - loss: 0.196 - ETA: 2s - loss: 0.165 - ETA: 2s - loss: 0.213 - ETA: 2s - loss: 0.230 - ETA: 2s - loss: 0.386 - ETA: 2s - loss: 0.372 - ETA: 2s - loss: 0.357 - ETA: 2s - loss: 0.364 - ETA: 2s - loss: 0.376 - ETA: 1s - loss: 0.356 - ETA: 1s - loss: 0.372 - ETA: 1s - loss: 0.354 - ETA: 1s - loss: 0.358 - ETA: 1s - loss: 0.359 - ETA: 1s - loss: 0.358 - ETA: 1s - loss: 0.365 - ETA: 1s - loss: 0.355 - ETA: 1s - loss: 0.340 - ETA: 1s - loss: 0.343 - ETA: 1s - loss: 0.370 - ETA: 1s - loss: 0.365 - ETA: 1s - loss: 0.369 - ETA: 1s - loss: 0.386 - ETA: 1s - loss: 0.388 - ETA: 1s - loss: 0.382 - ETA: 0s - loss: 0.383 - ETA: 0s - loss: 0.397 - ETA: 0s - loss: 0.392 - ETA: 0s - loss: 0.395 - ETA: 0s - loss: 0.392 - ETA: 0s - loss: 0.395 - ETA: 0s - loss: 0.396 - ETA: 0s - loss: 0.398 - ETA: 0s - loss: 0.394 - ETA: 0s - loss: 0.389 - ETA: 0s - loss: 0.383 - ETA: 0s - loss: 0.378 - ETA: 0s - loss: 0.381 - ETA: 0s - loss: 0.377 - ETA: 0s - loss: 0.374 - ETA: 0s - loss: 0.374 - ETA: 0s - loss: 0.386 - ETA: 0s - loss: 0.396 - ETA: 0s - loss: 0.391 - 3s 12ms/step - loss: 0.3946 - val_loss: 0.2576\n",
      "Epoch 9/200\n",
      "242/242 [==============================] - ETA: 0s - loss: 0.766 - ETA: 2s - loss: 0.297 - ETA: 2s - loss: 0.557 - ETA: 2s - loss: 0.570 - ETA: 2s - loss: 0.539 - ETA: 2s - loss: 0.524 - ETA: 2s - loss: 0.500 - ETA: 2s - loss: 0.508 - ETA: 2s - loss: 0.506 - ETA: 2s - loss: 0.500 - ETA: 2s - loss: 0.477 - ETA: 1s - loss: 0.448 - ETA: 1s - loss: 0.444 - ETA: 1s - loss: 0.424 - ETA: 1s - loss: 0.425 - ETA: 1s - loss: 0.422 - ETA: 1s - loss: 0.410 - ETA: 1s - loss: 0.409 - ETA: 1s - loss: 0.419 - ETA: 1s - loss: 0.401 - ETA: 1s - loss: 0.398 - ETA: 1s - loss: 0.391 - ETA: 1s - loss: 0.395 - ETA: 1s - loss: 0.418 - ETA: 1s - loss: 0.414 - ETA: 1s - loss: 0.420 - ETA: 1s - loss: 0.414 - ETA: 1s - loss: 0.414 - ETA: 1s - loss: 0.412 - ETA: 0s - loss: 0.406 - ETA: 0s - loss: 0.403 - ETA: 0s - loss: 0.400 - ETA: 0s - loss: 0.395 - ETA: 0s - loss: 0.388 - ETA: 0s - loss: 0.381 - ETA: 0s - loss: 0.382 - ETA: 0s - loss: 0.379 - ETA: 0s - loss: 0.384 - ETA: 0s - loss: 0.391 - ETA: 0s - loss: 0.387 - ETA: 0s - loss: 0.385 - ETA: 0s - loss: 0.379 - ETA: 0s - loss: 0.373 - ETA: 0s - loss: 0.375 - ETA: 0s - loss: 0.383 - ETA: 0s - loss: 0.387 - ETA: 0s - loss: 0.391 - 3s 12ms/step - loss: 0.3894 - val_loss: 0.2329\n",
      "Epoch 10/200\n",
      "242/242 [==============================] - ETA: 0s - loss: 0.132 - ETA: 2s - loss: 0.273 - ETA: 2s - loss: 0.407 - ETA: 2s - loss: 0.389 - ETA: 2s - loss: 0.526 - ETA: 2s - loss: 0.495 - ETA: 2s - loss: 0.489 - ETA: 2s - loss: 0.459 - ETA: 2s - loss: 0.469 - ETA: 2s - loss: 0.457 - ETA: 2s - loss: 0.456 - ETA: 2s - loss: 0.451 - ETA: 2s - loss: 0.447 - ETA: 1s - loss: 0.427 - ETA: 1s - loss: 0.446 - ETA: 1s - loss: 0.433 - ETA: 1s - loss: 0.432 - ETA: 1s - loss: 0.416 - ETA: 1s - loss: 0.421 - ETA: 1s - loss: 0.418 - ETA: 1s - loss: 0.422 - ETA: 1s - loss: 0.416 - ETA: 1s - loss: 0.429 - ETA: 1s - loss: 0.429 - ETA: 1s - loss: 0.422 - ETA: 1s - loss: 0.419 - ETA: 1s - loss: 0.409 - ETA: 1s - loss: 0.399 - ETA: 0s - loss: 0.407 - ETA: 0s - loss: 0.408 - ETA: 0s - loss: 0.407 - ETA: 0s - loss: 0.407 - ETA: 0s - loss: 0.403 - ETA: 0s - loss: 0.414 - ETA: 0s - loss: 0.411 - ETA: 0s - loss: 0.406 - ETA: 0s - loss: 0.399 - ETA: 0s - loss: 0.406 - ETA: 0s - loss: 0.400 - ETA: 0s - loss: 0.396 - ETA: 0s - loss: 0.398 - ETA: 0s - loss: 0.399 - ETA: 0s - loss: 0.396 - ETA: 0s - loss: 0.396 - ETA: 0s - loss: 0.390 - ETA: 0s - loss: 0.386 - 3s 12ms/step - loss: 0.3876 - val_loss: 0.1803\n",
      "Epoch 11/200\n",
      "242/242 [==============================] - ETA: 0s - loss: 1.029 - ETA: 1s - loss: 0.459 - ETA: 1s - loss: 0.334 - ETA: 2s - loss: 0.282 - ETA: 2s - loss: 0.335 - ETA: 2s - loss: 0.318 - ETA: 2s - loss: 0.317 - ETA: 2s - loss: 0.292 - ETA: 2s - loss: 0.289 - ETA: 2s - loss: 0.326 - ETA: 2s - loss: 0.333 - ETA: 2s - loss: 0.362 - ETA: 2s - loss: 0.349 - ETA: 2s - loss: 0.344 - ETA: 2s - loss: 0.351 - ETA: 2s - loss: 0.396 - ETA: 1s - loss: 0.410 - ETA: 1s - loss: 0.405 - ETA: 1s - loss: 0.405 - ETA: 1s - loss: 0.420 - ETA: 1s - loss: 0.413 - ETA: 1s - loss: 0.402 - ETA: 1s - loss: 0.420 - ETA: 1s - loss: 0.422 - ETA: 1s - loss: 0.429 - ETA: 1s - loss: 0.438 - ETA: 1s - loss: 0.437 - ETA: 1s - loss: 0.442 - ETA: 1s - loss: 0.438 - ETA: 1s - loss: 0.428 - ETA: 1s - loss: 0.431 - ETA: 1s - loss: 0.428 - ETA: 1s - loss: 0.420 - ETA: 1s - loss: 0.419 - ETA: 0s - loss: 0.410 - ETA: 0s - loss: 0.407 - ETA: 0s - loss: 0.405 - ETA: 0s - loss: 0.396 - ETA: 0s - loss: 0.393 - ETA: 0s - loss: 0.393 - ETA: 0s - loss: 0.387 - ETA: 0s - loss: 0.377 - ETA: 0s - loss: 0.372 - ETA: 0s - loss: 0.380 - ETA: 0s - loss: 0.378 - ETA: 0s - loss: 0.382 - ETA: 0s - loss: 0.389 - ETA: 0s - loss: 0.384 - ETA: 0s - loss: 0.378 - ETA: 0s - loss: 0.380 - ETA: 0s - loss: 0.387 - 3s 13ms/step - loss: 0.3882 - val_loss: 0.2214\n",
      "Epoch 12/200\n"
     ]
    },
    {
     "name": "stdout",
     "output_type": "stream",
     "text": [
      "242/242 [==============================] - ETA: 0s - loss: 0.741 - ETA: 2s - loss: 0.239 - ETA: 2s - loss: 0.456 - ETA: 2s - loss: 0.539 - ETA: 2s - loss: 0.516 - ETA: 2s - loss: 0.531 - ETA: 2s - loss: 0.513 - ETA: 2s - loss: 0.462 - ETA: 2s - loss: 0.464 - ETA: 2s - loss: 0.452 - ETA: 2s - loss: 0.460 - ETA: 2s - loss: 0.438 - ETA: 2s - loss: 0.444 - ETA: 1s - loss: 0.424 - ETA: 1s - loss: 0.415 - ETA: 1s - loss: 0.406 - ETA: 1s - loss: 0.437 - ETA: 1s - loss: 0.436 - ETA: 1s - loss: 0.429 - ETA: 1s - loss: 0.426 - ETA: 1s - loss: 0.417 - ETA: 1s - loss: 0.403 - ETA: 1s - loss: 0.403 - ETA: 1s - loss: 0.387 - ETA: 1s - loss: 0.389 - ETA: 1s - loss: 0.375 - ETA: 1s - loss: 0.366 - ETA: 1s - loss: 0.379 - ETA: 1s - loss: 0.377 - ETA: 0s - loss: 0.375 - ETA: 0s - loss: 0.384 - ETA: 0s - loss: 0.374 - ETA: 0s - loss: 0.377 - ETA: 0s - loss: 0.380 - ETA: 0s - loss: 0.380 - ETA: 0s - loss: 0.384 - ETA: 0s - loss: 0.381 - ETA: 0s - loss: 0.387 - ETA: 0s - loss: 0.381 - ETA: 0s - loss: 0.388 - ETA: 0s - loss: 0.388 - ETA: 0s - loss: 0.386 - ETA: 0s - loss: 0.383 - ETA: 0s - loss: 0.382 - ETA: 0s - loss: 0.384 - ETA: 0s - loss: 0.385 - 3s 12ms/step - loss: 0.3879 - val_loss: 0.1992\n",
      "Epoch 13/200\n",
      "242/242 [==============================] - ETA: 0s - loss: 1.891 - ETA: 1s - loss: 0.605 - ETA: 2s - loss: 0.496 - ETA: 2s - loss: 0.506 - ETA: 2s - loss: 0.458 - ETA: 2s - loss: 0.418 - ETA: 2s - loss: 0.428 - ETA: 2s - loss: 0.412 - ETA: 2s - loss: 0.435 - ETA: 2s - loss: 0.419 - ETA: 2s - loss: 0.409 - ETA: 2s - loss: 0.393 - ETA: 2s - loss: 0.389 - ETA: 2s - loss: 0.391 - ETA: 2s - loss: 0.406 - ETA: 2s - loss: 0.388 - ETA: 2s - loss: 0.372 - ETA: 2s - loss: 0.366 - ETA: 2s - loss: 0.353 - ETA: 2s - loss: 0.339 - ETA: 1s - loss: 0.327 - ETA: 1s - loss: 0.327 - ETA: 1s - loss: 0.316 - ETA: 1s - loss: 0.327 - ETA: 1s - loss: 0.336 - ETA: 1s - loss: 0.335 - ETA: 1s - loss: 0.324 - ETA: 1s - loss: 0.321 - ETA: 1s - loss: 0.338 - ETA: 1s - loss: 0.334 - ETA: 1s - loss: 0.353 - ETA: 1s - loss: 0.358 - ETA: 1s - loss: 0.351 - ETA: 1s - loss: 0.345 - ETA: 1s - loss: 0.347 - ETA: 1s - loss: 0.348 - ETA: 0s - loss: 0.348 - ETA: 0s - loss: 0.355 - ETA: 0s - loss: 0.355 - ETA: 0s - loss: 0.364 - ETA: 0s - loss: 0.364 - ETA: 0s - loss: 0.363 - ETA: 0s - loss: 0.356 - ETA: 0s - loss: 0.381 - ETA: 0s - loss: 0.387 - ETA: 0s - loss: 0.385 - ETA: 0s - loss: 0.379 - ETA: 0s - loss: 0.382 - ETA: 0s - loss: 0.386 - ETA: 0s - loss: 0.387 - 3s 13ms/step - loss: 0.3908 - val_loss: 0.2269\n",
      "Epoch 14/200\n",
      "242/242 [==============================] - ETA: 0s - loss: 0.147 - ETA: 1s - loss: 0.332 - ETA: 2s - loss: 0.440 - ETA: 2s - loss: 0.451 - ETA: 2s - loss: 0.483 - ETA: 2s - loss: 0.436 - ETA: 2s - loss: 0.462 - ETA: 2s - loss: 0.491 - ETA: 2s - loss: 0.460 - ETA: 2s - loss: 0.443 - ETA: 2s - loss: 0.429 - ETA: 2s - loss: 0.406 - ETA: 2s - loss: 0.445 - ETA: 2s - loss: 0.434 - ETA: 2s - loss: 0.448 - ETA: 2s - loss: 0.444 - ETA: 2s - loss: 0.477 - ETA: 2s - loss: 0.477 - ETA: 2s - loss: 0.464 - ETA: 2s - loss: 0.455 - ETA: 1s - loss: 0.467 - ETA: 1s - loss: 0.454 - ETA: 1s - loss: 0.442 - ETA: 1s - loss: 0.440 - ETA: 1s - loss: 0.434 - ETA: 1s - loss: 0.420 - ETA: 1s - loss: 0.416 - ETA: 1s - loss: 0.409 - ETA: 1s - loss: 0.401 - ETA: 1s - loss: 0.408 - ETA: 1s - loss: 0.401 - ETA: 1s - loss: 0.413 - ETA: 1s - loss: 0.405 - ETA: 0s - loss: 0.411 - ETA: 0s - loss: 0.413 - ETA: 0s - loss: 0.414 - ETA: 0s - loss: 0.410 - ETA: 0s - loss: 0.406 - ETA: 0s - loss: 0.404 - ETA: 0s - loss: 0.398 - ETA: 0s - loss: 0.397 - ETA: 0s - loss: 0.388 - ETA: 0s - loss: 0.393 - ETA: 0s - loss: 0.391 - ETA: 0s - loss: 0.388 - ETA: 0s - loss: 0.399 - ETA: 0s - loss: 0.393 - ETA: 0s - loss: 0.390 - 3s 12ms/step - loss: 0.3906 - val_loss: 0.1937\n",
      "Epoch 15/200\n",
      "242/242 [==============================] - ETA: 0s - loss: 0.113 - ETA: 1s - loss: 0.330 - ETA: 2s - loss: 0.310 - ETA: 2s - loss: 0.277 - ETA: 2s - loss: 0.269 - ETA: 2s - loss: 0.229 - ETA: 1s - loss: 0.269 - ETA: 1s - loss: 0.305 - ETA: 1s - loss: 0.321 - ETA: 1s - loss: 0.326 - ETA: 1s - loss: 0.331 - ETA: 1s - loss: 0.338 - ETA: 1s - loss: 0.341 - ETA: 1s - loss: 0.360 - ETA: 1s - loss: 0.398 - ETA: 1s - loss: 0.409 - ETA: 1s - loss: 0.399 - ETA: 1s - loss: 0.399 - ETA: 1s - loss: 0.418 - ETA: 1s - loss: 0.412 - ETA: 1s - loss: 0.410 - ETA: 1s - loss: 0.422 - ETA: 1s - loss: 0.415 - ETA: 1s - loss: 0.408 - ETA: 1s - loss: 0.414 - ETA: 1s - loss: 0.417 - ETA: 0s - loss: 0.415 - ETA: 0s - loss: 0.413 - ETA: 0s - loss: 0.411 - ETA: 0s - loss: 0.411 - ETA: 0s - loss: 0.406 - ETA: 0s - loss: 0.401 - ETA: 0s - loss: 0.392 - ETA: 0s - loss: 0.384 - ETA: 0s - loss: 0.381 - ETA: 0s - loss: 0.384 - ETA: 0s - loss: 0.380 - ETA: 0s - loss: 0.386 - ETA: 0s - loss: 0.382 - ETA: 0s - loss: 0.384 - ETA: 0s - loss: 0.383 - ETA: 0s - loss: 0.383 - ETA: 0s - loss: 0.381 - ETA: 0s - loss: 0.391 - ETA: 0s - loss: 0.388 - 3s 11ms/step - loss: 0.3889 - val_loss: 0.2274\n",
      "Epoch 16/200\n",
      "242/242 [==============================] - ETA: 0s - loss: 0.177 - ETA: 2s - loss: 0.248 - ETA: 2s - loss: 0.297 - ETA: 2s - loss: 0.373 - ETA: 2s - loss: 0.443 - ETA: 2s - loss: 0.408 - ETA: 2s - loss: 0.367 - ETA: 2s - loss: 0.335 - ETA: 1s - loss: 0.366 - ETA: 1s - loss: 0.355 - ETA: 1s - loss: 0.337 - ETA: 1s - loss: 0.346 - ETA: 1s - loss: 0.349 - ETA: 1s - loss: 0.346 - ETA: 1s - loss: 0.329 - ETA: 1s - loss: 0.314 - ETA: 1s - loss: 0.319 - ETA: 1s - loss: 0.333 - ETA: 1s - loss: 0.367 - ETA: 1s - loss: 0.369 - ETA: 1s - loss: 0.378 - ETA: 1s - loss: 0.379 - ETA: 1s - loss: 0.381 - ETA: 1s - loss: 0.380 - ETA: 1s - loss: 0.374 - ETA: 1s - loss: 0.378 - ETA: 1s - loss: 0.373 - ETA: 1s - loss: 0.364 - ETA: 1s - loss: 0.370 - ETA: 1s - loss: 0.366 - ETA: 1s - loss: 0.362 - ETA: 0s - loss: 0.358 - ETA: 0s - loss: 0.364 - ETA: 0s - loss: 0.369 - ETA: 0s - loss: 0.389 - ETA: 0s - loss: 0.394 - ETA: 0s - loss: 0.392 - ETA: 0s - loss: 0.387 - ETA: 0s - loss: 0.389 - ETA: 0s - loss: 0.390 - ETA: 0s - loss: 0.388 - ETA: 0s - loss: 0.396 - ETA: 0s - loss: 0.399 - ETA: 0s - loss: 0.393 - ETA: 0s - loss: 0.390 - ETA: 0s - loss: 0.390 - ETA: 0s - loss: 0.388 - ETA: 0s - loss: 0.385 - ETA: 0s - loss: 0.391 - ETA: 0s - loss: 0.395 - 3s 12ms/step - loss: 0.3918 - val_loss: 0.1970\n",
      "Epoch 17/200\n",
      "242/242 [==============================] - ETA: 0s - loss: 0.115 - ETA: 2s - loss: 0.246 - ETA: 2s - loss: 0.312 - ETA: 2s - loss: 0.445 - ETA: 2s - loss: 0.453 - ETA: 2s - loss: 0.427 - ETA: 2s - loss: 0.383 - ETA: 2s - loss: 0.364 - ETA: 1s - loss: 0.367 - ETA: 1s - loss: 0.382 - ETA: 1s - loss: 0.371 - ETA: 1s - loss: 0.380 - ETA: 1s - loss: 0.356 - ETA: 1s - loss: 0.354 - ETA: 1s - loss: 0.355 - ETA: 1s - loss: 0.377 - ETA: 1s - loss: 0.366 - ETA: 1s - loss: 0.359 - ETA: 1s - loss: 0.357 - ETA: 1s - loss: 0.382 - ETA: 1s - loss: 0.378 - ETA: 1s - loss: 0.380 - ETA: 1s - loss: 0.371 - ETA: 1s - loss: 0.378 - ETA: 0s - loss: 0.374 - ETA: 0s - loss: 0.382 - ETA: 0s - loss: 0.382 - ETA: 0s - loss: 0.386 - ETA: 0s - loss: 0.378 - ETA: 0s - loss: 0.378 - ETA: 0s - loss: 0.375 - ETA: 0s - loss: 0.376 - ETA: 0s - loss: 0.372 - ETA: 0s - loss: 0.370 - ETA: 0s - loss: 0.370 - ETA: 0s - loss: 0.365 - ETA: 0s - loss: 0.368 - ETA: 0s - loss: 0.372 - ETA: 0s - loss: 0.374 - ETA: 0s - loss: 0.373 - ETA: 0s - loss: 0.380 - ETA: 0s - loss: 0.386 - 3s 11ms/step - loss: 0.3892 - val_loss: 0.2461\n",
      "Epoch 18/200\n"
     ]
    },
    {
     "name": "stdout",
     "output_type": "stream",
     "text": [
      "242/242 [==============================] - ETA: 0s - loss: 0.162 - ETA: 2s - loss: 0.333 - ETA: 2s - loss: 0.336 - ETA: 2s - loss: 0.332 - ETA: 2s - loss: 0.337 - ETA: 2s - loss: 0.401 - ETA: 2s - loss: 0.415 - ETA: 2s - loss: 0.399 - ETA: 2s - loss: 0.371 - ETA: 1s - loss: 0.401 - ETA: 1s - loss: 0.393 - ETA: 1s - loss: 0.384 - ETA: 1s - loss: 0.402 - ETA: 1s - loss: 0.400 - ETA: 1s - loss: 0.389 - ETA: 1s - loss: 0.392 - ETA: 1s - loss: 0.397 - ETA: 1s - loss: 0.387 - ETA: 1s - loss: 0.385 - ETA: 1s - loss: 0.375 - ETA: 1s - loss: 0.364 - ETA: 1s - loss: 0.352 - ETA: 1s - loss: 0.359 - ETA: 1s - loss: 0.366 - ETA: 1s - loss: 0.364 - ETA: 1s - loss: 0.368 - ETA: 0s - loss: 0.366 - ETA: 0s - loss: 0.377 - ETA: 0s - loss: 0.373 - ETA: 0s - loss: 0.382 - ETA: 0s - loss: 0.378 - ETA: 0s - loss: 0.400 - ETA: 0s - loss: 0.395 - ETA: 0s - loss: 0.389 - ETA: 0s - loss: 0.383 - ETA: 0s - loss: 0.380 - ETA: 0s - loss: 0.381 - ETA: 0s - loss: 0.381 - ETA: 0s - loss: 0.389 - ETA: 0s - loss: 0.382 - ETA: 0s - loss: 0.378 - ETA: 0s - loss: 0.382 - ETA: 0s - loss: 0.390 - ETA: 0s - loss: 0.388 - ETA: 0s - loss: 0.388 - ETA: 0s - loss: 0.392 - 3s 12ms/step - loss: 0.3911 - val_loss: 0.2304\n",
      "Epoch 19/200\n",
      "242/242 [==============================] - ETA: 0s - loss: 0.148 - ETA: 2s - loss: 0.246 - ETA: 1s - loss: 0.347 - ETA: 2s - loss: 0.328 - ETA: 1s - loss: 0.302 - ETA: 2s - loss: 0.411 - ETA: 2s - loss: 0.405 - ETA: 1s - loss: 0.451 - ETA: 1s - loss: 0.429 - ETA: 1s - loss: 0.414 - ETA: 1s - loss: 0.410 - ETA: 1s - loss: 0.393 - ETA: 1s - loss: 0.419 - ETA: 1s - loss: 0.430 - ETA: 1s - loss: 0.410 - ETA: 1s - loss: 0.401 - ETA: 1s - loss: 0.429 - ETA: 1s - loss: 0.416 - ETA: 1s - loss: 0.401 - ETA: 1s - loss: 0.399 - ETA: 1s - loss: 0.397 - ETA: 1s - loss: 0.421 - ETA: 1s - loss: 0.421 - ETA: 1s - loss: 0.421 - ETA: 1s - loss: 0.422 - ETA: 1s - loss: 0.411 - ETA: 1s - loss: 0.410 - ETA: 1s - loss: 0.404 - ETA: 1s - loss: 0.399 - ETA: 1s - loss: 0.395 - ETA: 0s - loss: 0.392 - ETA: 0s - loss: 0.391 - ETA: 0s - loss: 0.403 - ETA: 0s - loss: 0.405 - ETA: 0s - loss: 0.403 - ETA: 0s - loss: 0.402 - ETA: 0s - loss: 0.407 - ETA: 0s - loss: 0.407 - ETA: 0s - loss: 0.408 - ETA: 0s - loss: 0.412 - ETA: 0s - loss: 0.410 - ETA: 0s - loss: 0.412 - ETA: 0s - loss: 0.417 - ETA: 0s - loss: 0.414 - ETA: 0s - loss: 0.408 - ETA: 0s - loss: 0.403 - ETA: 0s - loss: 0.397 - ETA: 0s - loss: 0.393 - ETA: 0s - loss: 0.392 - ETA: 0s - loss: 0.393 - ETA: 0s - loss: 0.391 - 3s 13ms/step - loss: 0.3905 - val_loss: 0.1874\n",
      "Epoch 20/200\n",
      "242/242 [==============================] - ETA: 0s - loss: 0.907 - ETA: 1s - loss: 0.330 - ETA: 2s - loss: 0.414 - ETA: 2s - loss: 0.346 - ETA: 2s - loss: 0.347 - ETA: 2s - loss: 0.401 - ETA: 1s - loss: 0.399 - ETA: 1s - loss: 0.411 - ETA: 1s - loss: 0.413 - ETA: 1s - loss: 0.432 - ETA: 1s - loss: 0.429 - ETA: 1s - loss: 0.416 - ETA: 1s - loss: 0.419 - ETA: 1s - loss: 0.397 - ETA: 1s - loss: 0.385 - ETA: 1s - loss: 0.367 - ETA: 1s - loss: 0.383 - ETA: 1s - loss: 0.371 - ETA: 1s - loss: 0.361 - ETA: 1s - loss: 0.346 - ETA: 1s - loss: 0.338 - ETA: 1s - loss: 0.332 - ETA: 1s - loss: 0.341 - ETA: 1s - loss: 0.340 - ETA: 0s - loss: 0.337 - ETA: 0s - loss: 0.362 - ETA: 0s - loss: 0.362 - ETA: 0s - loss: 0.374 - ETA: 0s - loss: 0.368 - ETA: 0s - loss: 0.366 - ETA: 0s - loss: 0.370 - ETA: 0s - loss: 0.369 - ETA: 0s - loss: 0.367 - ETA: 0s - loss: 0.372 - ETA: 0s - loss: 0.388 - ETA: 0s - loss: 0.387 - ETA: 0s - loss: 0.392 - ETA: 0s - loss: 0.391 - ETA: 0s - loss: 0.393 - ETA: 0s - loss: 0.392 - ETA: 0s - loss: 0.396 - ETA: 0s - loss: 0.398 - ETA: 0s - loss: 0.392 - ETA: 0s - loss: 0.388 - 3s 12ms/step - loss: 0.3886 - val_loss: 0.2090\n",
      "Epoch 21/200\n",
      "242/242 [==============================] - ETA: 0s - loss: 0.125 - ETA: 2s - loss: 0.224 - ETA: 2s - loss: 0.167 - ETA: 2s - loss: 0.137 - ETA: 2s - loss: 0.186 - ETA: 2s - loss: 0.165 - ETA: 2s - loss: 0.240 - ETA: 2s - loss: 0.277 - ETA: 2s - loss: 0.304 - ETA: 2s - loss: 0.327 - ETA: 2s - loss: 0.360 - ETA: 2s - loss: 0.340 - ETA: 2s - loss: 0.354 - ETA: 2s - loss: 0.343 - ETA: 2s - loss: 0.374 - ETA: 2s - loss: 0.373 - ETA: 2s - loss: 0.366 - ETA: 2s - loss: 0.361 - ETA: 2s - loss: 0.355 - ETA: 2s - loss: 0.375 - ETA: 2s - loss: 0.388 - ETA: 1s - loss: 0.400 - ETA: 1s - loss: 0.402 - ETA: 1s - loss: 0.405 - ETA: 1s - loss: 0.406 - ETA: 1s - loss: 0.416 - ETA: 1s - loss: 0.417 - ETA: 1s - loss: 0.415 - ETA: 1s - loss: 0.419 - ETA: 1s - loss: 0.421 - ETA: 1s - loss: 0.428 - ETA: 1s - loss: 0.418 - ETA: 1s - loss: 0.415 - ETA: 1s - loss: 0.414 - ETA: 1s - loss: 0.414 - ETA: 0s - loss: 0.408 - ETA: 0s - loss: 0.411 - ETA: 0s - loss: 0.414 - ETA: 0s - loss: 0.414 - ETA: 0s - loss: 0.413 - ETA: 0s - loss: 0.411 - ETA: 0s - loss: 0.413 - ETA: 0s - loss: 0.411 - ETA: 0s - loss: 0.406 - ETA: 0s - loss: 0.402 - ETA: 0s - loss: 0.402 - ETA: 0s - loss: 0.398 - ETA: 0s - loss: 0.391 - ETA: 0s - loss: 0.389 - ETA: 0s - loss: 0.396 - ETA: 0s - loss: 0.388 - ETA: 0s - loss: 0.388 - 3s 13ms/step - loss: 0.3886 - val_loss: 0.1872\n",
      "Epoch 22/200\n",
      "242/242 [==============================] - ETA: 0s - loss: 0.646 - ETA: 1s - loss: 0.425 - ETA: 1s - loss: 0.394 - ETA: 1s - loss: 0.303 - ETA: 1s - loss: 0.275 - ETA: 1s - loss: 0.388 - ETA: 1s - loss: 0.347 - ETA: 1s - loss: 0.317 - ETA: 1s - loss: 0.320 - ETA: 1s - loss: 0.308 - ETA: 1s - loss: 0.332 - ETA: 1s - loss: 0.329 - ETA: 1s - loss: 0.313 - ETA: 1s - loss: 0.299 - ETA: 1s - loss: 0.310 - ETA: 1s - loss: 0.314 - ETA: 1s - loss: 0.310 - ETA: 1s - loss: 0.299 - ETA: 1s - loss: 0.298 - ETA: 1s - loss: 0.310 - ETA: 1s - loss: 0.333 - ETA: 1s - loss: 0.322 - ETA: 1s - loss: 0.325 - ETA: 1s - loss: 0.325 - ETA: 1s - loss: 0.324 - ETA: 0s - loss: 0.337 - ETA: 0s - loss: 0.333 - ETA: 0s - loss: 0.336 - ETA: 0s - loss: 0.331 - ETA: 0s - loss: 0.329 - ETA: 0s - loss: 0.329 - ETA: 0s - loss: 0.339 - ETA: 0s - loss: 0.341 - ETA: 0s - loss: 0.351 - ETA: 0s - loss: 0.351 - ETA: 0s - loss: 0.357 - ETA: 0s - loss: 0.359 - ETA: 0s - loss: 0.358 - ETA: 0s - loss: 0.363 - ETA: 0s - loss: 0.371 - ETA: 0s - loss: 0.384 - ETA: 0s - loss: 0.385 - 3s 11ms/step - loss: 0.3847 - val_loss: 0.2696\n",
      "Epoch 23/200\n",
      "242/242 [==============================] - ETA: 0s - loss: 0.195 - ETA: 2s - loss: 0.514 - ETA: 2s - loss: 0.511 - ETA: 3s - loss: 0.419 - ETA: 2s - loss: 0.432 - ETA: 2s - loss: 0.429 - ETA: 2s - loss: 0.416 - ETA: 2s - loss: 0.410 - ETA: 2s - loss: 0.389 - ETA: 2s - loss: 0.393 - ETA: 2s - loss: 0.377 - ETA: 2s - loss: 0.372 - ETA: 2s - loss: 0.355 - ETA: 2s - loss: 0.362 - ETA: 2s - loss: 0.352 - ETA: 1s - loss: 0.390 - ETA: 1s - loss: 0.409 - ETA: 1s - loss: 0.417 - ETA: 1s - loss: 0.434 - ETA: 1s - loss: 0.434 - ETA: 1s - loss: 0.433 - ETA: 1s - loss: 0.439 - ETA: 1s - loss: 0.432 - ETA: 1s - loss: 0.418 - ETA: 1s - loss: 0.419 - ETA: 1s - loss: 0.410 - ETA: 1s - loss: 0.423 - ETA: 1s - loss: 0.417 - ETA: 0s - loss: 0.425 - ETA: 0s - loss: 0.424 - ETA: 0s - loss: 0.424 - ETA: 0s - loss: 0.432 - ETA: 0s - loss: 0.422 - ETA: 0s - loss: 0.425 - ETA: 0s - loss: 0.419 - ETA: 0s - loss: 0.417 - ETA: 0s - loss: 0.413 - ETA: 0s - loss: 0.408 - ETA: 0s - loss: 0.408 - ETA: 0s - loss: 0.402 - ETA: 0s - loss: 0.400 - ETA: 0s - loss: 0.397 - ETA: 0s - loss: 0.389 - ETA: 0s - loss: 0.381 - 3s 12ms/step - loss: 0.3881 - val_loss: 0.1700\n",
      "Epoch 24/200\n"
     ]
    },
    {
     "name": "stdout",
     "output_type": "stream",
     "text": [
      "242/242 [==============================] - ETA: 0s - loss: 0.083 - ETA: 2s - loss: 0.451 - ETA: 2s - loss: 0.486 - ETA: 2s - loss: 0.411 - ETA: 2s - loss: 0.368 - ETA: 2s - loss: 0.405 - ETA: 2s - loss: 0.437 - ETA: 2s - loss: 0.410 - ETA: 1s - loss: 0.399 - ETA: 1s - loss: 0.378 - ETA: 1s - loss: 0.382 - ETA: 1s - loss: 0.372 - ETA: 1s - loss: 0.352 - ETA: 1s - loss: 0.354 - ETA: 1s - loss: 0.358 - ETA: 1s - loss: 0.392 - ETA: 1s - loss: 0.396 - ETA: 1s - loss: 0.397 - ETA: 1s - loss: 0.394 - ETA: 1s - loss: 0.393 - ETA: 1s - loss: 0.399 - ETA: 1s - loss: 0.389 - ETA: 1s - loss: 0.386 - ETA: 1s - loss: 0.379 - ETA: 0s - loss: 0.377 - ETA: 0s - loss: 0.370 - ETA: 0s - loss: 0.366 - ETA: 0s - loss: 0.378 - ETA: 0s - loss: 0.370 - ETA: 0s - loss: 0.367 - ETA: 0s - loss: 0.363 - ETA: 0s - loss: 0.370 - ETA: 0s - loss: 0.371 - ETA: 0s - loss: 0.371 - ETA: 0s - loss: 0.372 - ETA: 0s - loss: 0.373 - ETA: 0s - loss: 0.375 - ETA: 0s - loss: 0.374 - ETA: 0s - loss: 0.378 - ETA: 0s - loss: 0.383 - ETA: 0s - loss: 0.385 - ETA: 0s - loss: 0.389 - 3s 11ms/step - loss: 0.3886 - val_loss: 0.2369\n",
      "Epoch 25/200\n",
      "242/242 [==============================] - ETA: 0s - loss: 0.918 - ETA: 2s - loss: 0.372 - ETA: 2s - loss: 0.406 - ETA: 2s - loss: 0.326 - ETA: 2s - loss: 0.326 - ETA: 2s - loss: 0.310 - ETA: 2s - loss: 0.318 - ETA: 2s - loss: 0.316 - ETA: 2s - loss: 0.312 - ETA: 2s - loss: 0.334 - ETA: 1s - loss: 0.367 - ETA: 1s - loss: 0.341 - ETA: 1s - loss: 0.361 - ETA: 1s - loss: 0.357 - ETA: 1s - loss: 0.349 - ETA: 1s - loss: 0.363 - ETA: 1s - loss: 0.367 - ETA: 1s - loss: 0.352 - ETA: 1s - loss: 0.348 - ETA: 1s - loss: 0.353 - ETA: 1s - loss: 0.376 - ETA: 1s - loss: 0.379 - ETA: 1s - loss: 0.371 - ETA: 1s - loss: 0.364 - ETA: 1s - loss: 0.367 - ETA: 1s - loss: 0.376 - ETA: 0s - loss: 0.374 - ETA: 0s - loss: 0.380 - ETA: 0s - loss: 0.377 - ETA: 0s - loss: 0.380 - ETA: 0s - loss: 0.379 - ETA: 0s - loss: 0.377 - ETA: 0s - loss: 0.376 - ETA: 0s - loss: 0.376 - ETA: 0s - loss: 0.383 - ETA: 0s - loss: 0.385 - ETA: 0s - loss: 0.377 - ETA: 0s - loss: 0.383 - ETA: 0s - loss: 0.382 - ETA: 0s - loss: 0.383 - ETA: 0s - loss: 0.389 - ETA: 0s - loss: 0.388 - 3s 11ms/step - loss: 0.3878 - val_loss: 0.2089\n",
      "Epoch 26/200\n",
      "242/242 [==============================] - ETA: 0s - loss: 0.723 - ETA: 1s - loss: 0.407 - ETA: 1s - loss: 0.332 - ETA: 1s - loss: 0.384 - ETA: 1s - loss: 0.380 - ETA: 1s - loss: 0.417 - ETA: 1s - loss: 0.431 - ETA: 1s - loss: 0.415 - ETA: 1s - loss: 0.490 - ETA: 1s - loss: 0.488 - ETA: 1s - loss: 0.476 - ETA: 1s - loss: 0.455 - ETA: 1s - loss: 0.435 - ETA: 1s - loss: 0.448 - ETA: 1s - loss: 0.460 - ETA: 1s - loss: 0.436 - ETA: 1s - loss: 0.439 - ETA: 1s - loss: 0.451 - ETA: 1s - loss: 0.467 - ETA: 1s - loss: 0.470 - ETA: 1s - loss: 0.460 - ETA: 1s - loss: 0.450 - ETA: 1s - loss: 0.442 - ETA: 1s - loss: 0.448 - ETA: 1s - loss: 0.436 - ETA: 1s - loss: 0.430 - ETA: 1s - loss: 0.425 - ETA: 1s - loss: 0.425 - ETA: 0s - loss: 0.433 - ETA: 0s - loss: 0.432 - ETA: 0s - loss: 0.433 - ETA: 0s - loss: 0.424 - ETA: 0s - loss: 0.414 - ETA: 0s - loss: 0.409 - ETA: 0s - loss: 0.415 - ETA: 0s - loss: 0.426 - ETA: 0s - loss: 0.426 - ETA: 0s - loss: 0.428 - ETA: 0s - loss: 0.421 - ETA: 0s - loss: 0.414 - ETA: 0s - loss: 0.409 - ETA: 0s - loss: 0.408 - ETA: 0s - loss: 0.417 - ETA: 0s - loss: 0.412 - ETA: 0s - loss: 0.408 - ETA: 0s - loss: 0.403 - ETA: 0s - loss: 0.401 - ETA: 0s - loss: 0.397 - ETA: 0s - loss: 0.392 - 3s 12ms/step - loss: 0.3963 - val_loss: 0.1610\n",
      "Epoch 27/200\n",
      "242/242 [==============================] - ETA: 0s - loss: 0.060 - ETA: 1s - loss: 0.329 - ETA: 2s - loss: 0.283 - ETA: 2s - loss: 0.317 - ETA: 2s - loss: 0.337 - ETA: 2s - loss: 0.374 - ETA: 2s - loss: 0.400 - ETA: 2s - loss: 0.386 - ETA: 2s - loss: 0.369 - ETA: 1s - loss: 0.335 - ETA: 1s - loss: 0.359 - ETA: 1s - loss: 0.359 - ETA: 1s - loss: 0.365 - ETA: 1s - loss: 0.356 - ETA: 1s - loss: 0.355 - ETA: 1s - loss: 0.356 - ETA: 1s - loss: 0.350 - ETA: 1s - loss: 0.347 - ETA: 1s - loss: 0.351 - ETA: 1s - loss: 0.342 - ETA: 1s - loss: 0.339 - ETA: 1s - loss: 0.351 - ETA: 1s - loss: 0.342 - ETA: 1s - loss: 0.339 - ETA: 1s - loss: 0.331 - ETA: 1s - loss: 0.338 - ETA: 1s - loss: 0.338 - ETA: 1s - loss: 0.331 - ETA: 1s - loss: 0.339 - ETA: 1s - loss: 0.337 - ETA: 1s - loss: 0.345 - ETA: 0s - loss: 0.348 - ETA: 0s - loss: 0.356 - ETA: 0s - loss: 0.354 - ETA: 0s - loss: 0.357 - ETA: 0s - loss: 0.362 - ETA: 0s - loss: 0.368 - ETA: 0s - loss: 0.375 - ETA: 0s - loss: 0.385 - ETA: 0s - loss: 0.386 - ETA: 0s - loss: 0.385 - ETA: 0s - loss: 0.381 - ETA: 0s - loss: 0.380 - ETA: 0s - loss: 0.375 - ETA: 0s - loss: 0.384 - ETA: 0s - loss: 0.389 - ETA: 0s - loss: 0.389 - ETA: 0s - loss: 0.387 - ETA: 0s - loss: 0.387 - 3s 13ms/step - loss: 0.3864 - val_loss: 0.2253\n",
      "Epoch 28/200\n",
      "242/242 [==============================] - ETA: 0s - loss: 0.149 - ETA: 2s - loss: 0.712 - ETA: 2s - loss: 0.560 - ETA: 2s - loss: 0.514 - ETA: 2s - loss: 0.537 - ETA: 2s - loss: 0.465 - ETA: 2s - loss: 0.476 - ETA: 2s - loss: 0.479 - ETA: 2s - loss: 0.511 - ETA: 2s - loss: 0.488 - ETA: 1s - loss: 0.479 - ETA: 1s - loss: 0.489 - ETA: 1s - loss: 0.497 - ETA: 1s - loss: 0.472 - ETA: 1s - loss: 0.452 - ETA: 1s - loss: 0.447 - ETA: 1s - loss: 0.428 - ETA: 1s - loss: 0.417 - ETA: 1s - loss: 0.408 - ETA: 1s - loss: 0.392 - ETA: 1s - loss: 0.417 - ETA: 1s - loss: 0.415 - ETA: 1s - loss: 0.408 - ETA: 1s - loss: 0.423 - ETA: 1s - loss: 0.435 - ETA: 1s - loss: 0.424 - ETA: 1s - loss: 0.414 - ETA: 1s - loss: 0.404 - ETA: 1s - loss: 0.412 - ETA: 1s - loss: 0.412 - ETA: 0s - loss: 0.400 - ETA: 0s - loss: 0.397 - ETA: 0s - loss: 0.392 - ETA: 0s - loss: 0.395 - ETA: 0s - loss: 0.393 - ETA: 0s - loss: 0.400 - ETA: 0s - loss: 0.413 - ETA: 0s - loss: 0.409 - ETA: 0s - loss: 0.405 - ETA: 0s - loss: 0.407 - ETA: 0s - loss: 0.406 - ETA: 0s - loss: 0.408 - ETA: 0s - loss: 0.402 - ETA: 0s - loss: 0.396 - ETA: 0s - loss: 0.393 - ETA: 0s - loss: 0.391 - ETA: 0s - loss: 0.390 - 3s 12ms/step - loss: 0.3886 - val_loss: 0.1747\n",
      "Epoch 29/200\n",
      "242/242 [==============================] - ETA: 0s - loss: 0.083 - ETA: 2s - loss: 0.406 - ETA: 2s - loss: 0.422 - ETA: 2s - loss: 0.656 - ETA: 2s - loss: 0.556 - ETA: 2s - loss: 0.504 - ETA: 2s - loss: 0.469 - ETA: 2s - loss: 0.424 - ETA: 1s - loss: 0.382 - ETA: 1s - loss: 0.368 - ETA: 1s - loss: 0.396 - ETA: 1s - loss: 0.393 - ETA: 1s - loss: 0.400 - ETA: 1s - loss: 0.392 - ETA: 1s - loss: 0.384 - ETA: 1s - loss: 0.383 - ETA: 1s - loss: 0.414 - ETA: 1s - loss: 0.406 - ETA: 1s - loss: 0.400 - ETA: 1s - loss: 0.400 - ETA: 1s - loss: 0.388 - ETA: 1s - loss: 0.396 - ETA: 1s - loss: 0.385 - ETA: 1s - loss: 0.374 - ETA: 1s - loss: 0.368 - ETA: 1s - loss: 0.379 - ETA: 1s - loss: 0.385 - ETA: 1s - loss: 0.392 - ETA: 1s - loss: 0.387 - ETA: 0s - loss: 0.400 - ETA: 0s - loss: 0.404 - ETA: 0s - loss: 0.399 - ETA: 0s - loss: 0.401 - ETA: 0s - loss: 0.396 - ETA: 0s - loss: 0.402 - ETA: 0s - loss: 0.404 - ETA: 0s - loss: 0.400 - ETA: 0s - loss: 0.403 - ETA: 0s - loss: 0.396 - ETA: 0s - loss: 0.392 - ETA: 0s - loss: 0.390 - ETA: 0s - loss: 0.382 - ETA: 0s - loss: 0.390 - ETA: 0s - loss: 0.389 - ETA: 0s - loss: 0.391 - ETA: 0s - loss: 0.397 - 3s 12ms/step - loss: 0.4005 - val_loss: 0.2062\n",
      "Epoch 30/200\n"
     ]
    },
    {
     "name": "stdout",
     "output_type": "stream",
     "text": [
      "242/242 [==============================] - ETA: 0s - loss: 0.132 - ETA: 2s - loss: 0.325 - ETA: 2s - loss: 0.296 - ETA: 2s - loss: 0.349 - ETA: 2s - loss: 0.313 - ETA: 2s - loss: 0.293 - ETA: 2s - loss: 0.381 - ETA: 1s - loss: 0.389 - ETA: 1s - loss: 0.378 - ETA: 1s - loss: 0.368 - ETA: 1s - loss: 0.342 - ETA: 1s - loss: 0.353 - ETA: 1s - loss: 0.331 - ETA: 1s - loss: 0.349 - ETA: 1s - loss: 0.362 - ETA: 1s - loss: 0.358 - ETA: 1s - loss: 0.392 - ETA: 1s - loss: 0.378 - ETA: 1s - loss: 0.390 - ETA: 1s - loss: 0.397 - ETA: 1s - loss: 0.396 - ETA: 1s - loss: 0.413 - ETA: 1s - loss: 0.415 - ETA: 1s - loss: 0.410 - ETA: 0s - loss: 0.414 - ETA: 0s - loss: 0.409 - ETA: 0s - loss: 0.408 - ETA: 0s - loss: 0.412 - ETA: 0s - loss: 0.405 - ETA: 0s - loss: 0.402 - ETA: 0s - loss: 0.410 - ETA: 0s - loss: 0.403 - ETA: 0s - loss: 0.411 - ETA: 0s - loss: 0.405 - ETA: 0s - loss: 0.402 - ETA: 0s - loss: 0.398 - ETA: 0s - loss: 0.391 - ETA: 0s - loss: 0.392 - ETA: 0s - loss: 0.397 - ETA: 0s - loss: 0.404 - ETA: 0s - loss: 0.404 - ETA: 0s - loss: 0.404 - ETA: 0s - loss: 0.402 - ETA: 0s - loss: 0.397 - 3s 12ms/step - loss: 0.3936 - val_loss: 0.2105\n",
      "Epoch 31/200\n",
      "242/242 [==============================] - ETA: 0s - loss: 0.086 - ETA: 1s - loss: 0.403 - ETA: 2s - loss: 0.375 - ETA: 2s - loss: 0.410 - ETA: 2s - loss: 0.468 - ETA: 2s - loss: 0.442 - ETA: 2s - loss: 0.440 - ETA: 2s - loss: 0.425 - ETA: 2s - loss: 0.419 - ETA: 2s - loss: 0.399 - ETA: 1s - loss: 0.383 - ETA: 1s - loss: 0.380 - ETA: 1s - loss: 0.408 - ETA: 1s - loss: 0.388 - ETA: 1s - loss: 0.389 - ETA: 1s - loss: 0.401 - ETA: 1s - loss: 0.407 - ETA: 1s - loss: 0.392 - ETA: 1s - loss: 0.381 - ETA: 1s - loss: 0.371 - ETA: 1s - loss: 0.391 - ETA: 1s - loss: 0.382 - ETA: 1s - loss: 0.375 - ETA: 1s - loss: 0.368 - ETA: 1s - loss: 0.380 - ETA: 1s - loss: 0.381 - ETA: 1s - loss: 0.380 - ETA: 0s - loss: 0.387 - ETA: 0s - loss: 0.387 - ETA: 0s - loss: 0.383 - ETA: 0s - loss: 0.386 - ETA: 0s - loss: 0.379 - ETA: 0s - loss: 0.379 - ETA: 0s - loss: 0.386 - ETA: 0s - loss: 0.390 - ETA: 0s - loss: 0.386 - ETA: 0s - loss: 0.394 - ETA: 0s - loss: 0.393 - ETA: 0s - loss: 0.392 - ETA: 0s - loss: 0.395 - ETA: 0s - loss: 0.388 - ETA: 0s - loss: 0.389 - ETA: 0s - loss: 0.390 - 3s 11ms/step - loss: 0.3894 - val_loss: 0.2119\n",
      "Epoch 32/200\n",
      "242/242 [==============================] - ETA: 0s - loss: 1.260 - ETA: 2s - loss: 0.437 - ETA: 2s - loss: 0.454 - ETA: 2s - loss: 0.343 - ETA: 2s - loss: 0.367 - ETA: 1s - loss: 0.372 - ETA: 1s - loss: 0.332 - ETA: 1s - loss: 0.315 - ETA: 1s - loss: 0.352 - ETA: 1s - loss: 0.326 - ETA: 1s - loss: 0.324 - ETA: 1s - loss: 0.344 - ETA: 1s - loss: 0.371 - ETA: 1s - loss: 0.370 - ETA: 1s - loss: 0.384 - ETA: 1s - loss: 0.428 - ETA: 1s - loss: 0.421 - ETA: 1s - loss: 0.407 - ETA: 1s - loss: 0.419 - ETA: 1s - loss: 0.411 - ETA: 1s - loss: 0.403 - ETA: 1s - loss: 0.407 - ETA: 1s - loss: 0.400 - ETA: 0s - loss: 0.398 - ETA: 0s - loss: 0.399 - ETA: 0s - loss: 0.389 - ETA: 0s - loss: 0.383 - ETA: 0s - loss: 0.386 - ETA: 0s - loss: 0.385 - ETA: 0s - loss: 0.381 - ETA: 0s - loss: 0.383 - ETA: 0s - loss: 0.376 - ETA: 0s - loss: 0.388 - ETA: 0s - loss: 0.389 - ETA: 0s - loss: 0.388 - ETA: 0s - loss: 0.392 - ETA: 0s - loss: 0.390 - ETA: 0s - loss: 0.390 - ETA: 0s - loss: 0.388 - ETA: 0s - loss: 0.392 - 3s 11ms/step - loss: 0.3880 - val_loss: 0.2132\n",
      "Epoch 33/200\n",
      "242/242 [==============================] - ETA: 0s - loss: 0.135 - ETA: 2s - loss: 0.234 - ETA: 2s - loss: 0.228 - ETA: 2s - loss: 0.233 - ETA: 2s - loss: 0.272 - ETA: 2s - loss: 0.322 - ETA: 1s - loss: 0.331 - ETA: 1s - loss: 0.303 - ETA: 1s - loss: 0.291 - ETA: 1s - loss: 0.290 - ETA: 1s - loss: 0.277 - ETA: 1s - loss: 0.271 - ETA: 1s - loss: 0.265 - ETA: 1s - loss: 0.308 - ETA: 1s - loss: 0.316 - ETA: 1s - loss: 0.326 - ETA: 1s - loss: 0.338 - ETA: 1s - loss: 0.331 - ETA: 1s - loss: 0.359 - ETA: 1s - loss: 0.360 - ETA: 1s - loss: 0.366 - ETA: 1s - loss: 0.366 - ETA: 1s - loss: 0.370 - ETA: 0s - loss: 0.368 - ETA: 0s - loss: 0.367 - ETA: 0s - loss: 0.369 - ETA: 0s - loss: 0.368 - ETA: 0s - loss: 0.376 - ETA: 0s - loss: 0.376 - ETA: 0s - loss: 0.370 - ETA: 0s - loss: 0.370 - ETA: 0s - loss: 0.365 - ETA: 0s - loss: 0.367 - ETA: 0s - loss: 0.401 - ETA: 0s - loss: 0.400 - ETA: 0s - loss: 0.401 - ETA: 0s - loss: 0.395 - ETA: 0s - loss: 0.396 - ETA: 0s - loss: 0.397 - ETA: 0s - loss: 0.396 - ETA: 0s - loss: 0.390 - 3s 11ms/step - loss: 0.3897 - val_loss: 0.2205\n",
      "Epoch 34/200\n",
      "242/242 [==============================] - ETA: 0s - loss: 0.160 - ETA: 2s - loss: 0.349 - ETA: 2s - loss: 0.356 - ETA: 2s - loss: 0.359 - ETA: 2s - loss: 0.328 - ETA: 1s - loss: 0.304 - ETA: 1s - loss: 0.288 - ETA: 1s - loss: 0.310 - ETA: 1s - loss: 0.342 - ETA: 1s - loss: 0.366 - ETA: 1s - loss: 0.357 - ETA: 1s - loss: 0.361 - ETA: 1s - loss: 0.374 - ETA: 1s - loss: 0.399 - ETA: 1s - loss: 0.398 - ETA: 1s - loss: 0.401 - ETA: 1s - loss: 0.408 - ETA: 1s - loss: 0.402 - ETA: 1s - loss: 0.402 - ETA: 1s - loss: 0.397 - ETA: 1s - loss: 0.409 - ETA: 1s - loss: 0.410 - ETA: 1s - loss: 0.399 - ETA: 0s - loss: 0.409 - ETA: 0s - loss: 0.413 - ETA: 0s - loss: 0.411 - ETA: 0s - loss: 0.411 - ETA: 0s - loss: 0.419 - ETA: 0s - loss: 0.409 - ETA: 0s - loss: 0.400 - ETA: 0s - loss: 0.397 - ETA: 0s - loss: 0.390 - ETA: 0s - loss: 0.385 - ETA: 0s - loss: 0.384 - ETA: 0s - loss: 0.382 - ETA: 0s - loss: 0.384 - ETA: 0s - loss: 0.384 - ETA: 0s - loss: 0.376 - ETA: 0s - loss: 0.385 - ETA: 0s - loss: 0.384 - ETA: 0s - loss: 0.382 - 3s 11ms/step - loss: 0.3849 - val_loss: 0.2025\n",
      "Epoch 35/200\n",
      "242/242 [==============================] - ETA: 0s - loss: 0.108 - ETA: 2s - loss: 0.223 - ETA: 2s - loss: 0.697 - ETA: 2s - loss: 0.633 - ETA: 2s - loss: 0.579 - ETA: 2s - loss: 0.509 - ETA: 1s - loss: 0.505 - ETA: 1s - loss: 0.485 - ETA: 1s - loss: 0.466 - ETA: 1s - loss: 0.466 - ETA: 1s - loss: 0.435 - ETA: 1s - loss: 0.451 - ETA: 1s - loss: 0.432 - ETA: 1s - loss: 0.429 - ETA: 1s - loss: 0.446 - ETA: 1s - loss: 0.457 - ETA: 1s - loss: 0.443 - ETA: 1s - loss: 0.439 - ETA: 1s - loss: 0.427 - ETA: 1s - loss: 0.447 - ETA: 1s - loss: 0.429 - ETA: 1s - loss: 0.437 - ETA: 1s - loss: 0.432 - ETA: 0s - loss: 0.432 - ETA: 0s - loss: 0.426 - ETA: 0s - loss: 0.420 - ETA: 0s - loss: 0.418 - ETA: 0s - loss: 0.411 - ETA: 0s - loss: 0.402 - ETA: 0s - loss: 0.389 - ETA: 0s - loss: 0.382 - ETA: 0s - loss: 0.372 - ETA: 0s - loss: 0.384 - ETA: 0s - loss: 0.379 - ETA: 0s - loss: 0.385 - ETA: 0s - loss: 0.389 - ETA: 0s - loss: 0.394 - ETA: 0s - loss: 0.387 - ETA: 0s - loss: 0.390 - ETA: 0s - loss: 0.390 - ETA: 0s - loss: 0.389 - 3s 11ms/step - loss: 0.3884 - val_loss: 0.2202\n",
      "Epoch 36/200\n",
      "242/242 [==============================] - ETA: 0s - loss: 0.125 - ETA: 2s - loss: 0.252 - ETA: 2s - loss: 0.333 - ETA: 2s - loss: 0.393 - ETA: 2s - loss: 0.375 - ETA: 2s - loss: 0.375 - ETA: 1s - loss: 0.412 - ETA: 1s - loss: 0.413 - ETA: 1s - loss: 0.413 - ETA: 1s - loss: 0.387 - ETA: 1s - loss: 0.371 - ETA: 1s - loss: 0.379 - ETA: 1s - loss: 0.388 - ETA: 1s - loss: 0.378 - ETA: 1s - loss: 0.368 - ETA: 1s - loss: 0.380 - ETA: 1s - loss: 0.375 - ETA: 1s - loss: 0.366 - ETA: 1s - loss: 0.366 - ETA: 1s - loss: 0.357 - ETA: 1s - loss: 0.376 - ETA: 1s - loss: 0.362 - ETA: 1s - loss: 0.370 - ETA: 1s - loss: 0.363 - ETA: 1s - loss: 0.363 - ETA: 0s - loss: 0.361 - ETA: 0s - loss: 0.368 - ETA: 0s - loss: 0.364 - ETA: 0s - loss: 0.386 - ETA: 0s - loss: 0.395 - ETA: 0s - loss: 0.396 - ETA: 0s - loss: 0.391 - ETA: 0s - loss: 0.393 - ETA: 0s - loss: 0.388 - ETA: 0s - loss: 0.396 - ETA: 0s - loss: 0.392 - ETA: 0s - loss: 0.392 - ETA: 0s - loss: 0.385 - ETA: 0s - loss: 0.394 - ETA: 0s - loss: 0.392 - ETA: 0s - loss: 0.386 - ETA: 0s - loss: 0.387 - 3s 11ms/step - loss: 0.3853 - val_loss: 0.2063\n",
      "Epoch 37/200\n"
     ]
    },
    {
     "name": "stdout",
     "output_type": "stream",
     "text": [
      "242/242 [==============================] - ETA: 0s - loss: 0.872 - ETA: 2s - loss: 0.709 - ETA: 2s - loss: 0.628 - ETA: 2s - loss: 0.492 - ETA: 2s - loss: 0.428 - ETA: 2s - loss: 0.474 - ETA: 1s - loss: 0.443 - ETA: 1s - loss: 0.438 - ETA: 1s - loss: 0.439 - ETA: 1s - loss: 0.406 - ETA: 1s - loss: 0.389 - ETA: 1s - loss: 0.373 - ETA: 1s - loss: 0.436 - ETA: 1s - loss: 0.427 - ETA: 1s - loss: 0.415 - ETA: 1s - loss: 0.418 - ETA: 1s - loss: 0.410 - ETA: 1s - loss: 0.424 - ETA: 1s - loss: 0.415 - ETA: 1s - loss: 0.418 - ETA: 1s - loss: 0.409 - ETA: 1s - loss: 0.421 - ETA: 1s - loss: 0.412 - ETA: 0s - loss: 0.413 - ETA: 0s - loss: 0.420 - ETA: 0s - loss: 0.421 - ETA: 0s - loss: 0.410 - ETA: 0s - loss: 0.416 - ETA: 0s - loss: 0.412 - ETA: 0s - loss: 0.417 - ETA: 0s - loss: 0.417 - ETA: 0s - loss: 0.412 - ETA: 0s - loss: 0.408 - ETA: 0s - loss: 0.407 - ETA: 0s - loss: 0.412 - ETA: 0s - loss: 0.404 - ETA: 0s - loss: 0.407 - ETA: 0s - loss: 0.407 - ETA: 0s - loss: 0.403 - ETA: 0s - loss: 0.395 - ETA: 0s - loss: 0.394 - 3s 11ms/step - loss: 0.3930 - val_loss: 0.1911\n"
     ]
    }
   ],
   "source": [
    "batch_size, time_steps, input_dim = None, None, 1\n",
    "\n",
    "# stop if the loss doesn't improve over 15 epochs\n",
    "callback = EarlyStopping(\n",
    "    monitor='loss', min_delta=0, patience=15, verbose=0,\n",
    "    mode='auto', baseline=None, restore_best_weights=False\n",
    ")\n",
    "\n",
    "tcn_layer = TCN(input_shape=(time_steps, input_dim))\n",
    "print('Receptive field size =', tcn_layer.receptive_field)\n",
    "\n",
    "m = Sequential([tcn_layer, Dense(1, activation='sigmoid')])\n",
    "m.compile(optimizer='adam', loss='binary_crossentropy')\n",
    "\n",
    "tcn_full_summary(m, expand_residual_blocks=False)\n",
    "\n",
    "class_weight = {0: 1, 1: 12} # since we have roughly 12 times more 0 than 1 we try to weigh the classes\n",
    "\n",
    "x = df_all.drop('FirstOcc', axis=1)\n",
    "y = df_all['FirstOcc']\n",
    "\n",
    "history = m.fit(x, y, epochs=200, validation_split=0.3, class_weight=class_weight, callbacks=[callback])"
   ]
  },
  {
   "cell_type": "code",
   "execution_count": 32,
   "id": "69e50bc4",
   "metadata": {},
   "outputs": [
    {
     "data": {
      "image/png": "[encoded data removed]",
      "text/plain": [
       "<matplotlib.figure.Figure at 0x2f297d1e400>"
      ]
     },
     "metadata": {
      "needs_background": "light"
     },
     "output_type": "display_data"
    }
   ],
   "source": [
    "plt.plot(history.history['loss'])\n",
    "plt.plot(history.history['val_loss'])\n",
    "plt.title('model loss')\n",
    "plt.ylabel('loss')\n",
    "plt.xlabel('epoch')\n",
    "plt.legend(['train', 'test'], loc='upper left')\n",
    "plt.show()"
   ]
  },
  {
   "cell_type": "code",
   "execution_count": null,
   "id": "fae99baa",
   "metadata": {},
   "outputs": [],
   "source": []
  }
 ],
 "metadata": {
  "kernelspec": {
   "display_name": "Python 3",
   "language": "python",
   "name": "python3"
  },
  "language_info": {
   "codemirror_mode": {
    "name": "ipython",
    "version": 3
   },
   "file_extension": ".py",
   "mimetype": "text/x-python",
   "name": "python",
   "nbconvert_exporter": "python",
   "pygments_lexer": "ipython3",
   "version": "3.6.13"
  }
 },
 "nbformat": 4,
 "nbformat_minor": 5
}
