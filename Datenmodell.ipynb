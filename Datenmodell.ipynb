{
 "cells": [
  {
   "cell_type": "code",
   "execution_count": 1,
   "id": "23a0638c",
   "metadata": {},
   "outputs": [],
   "source": [
    "import numpy as np\n",
    "import seaborn as sns\n",
    "import matplotlib.pyplot as plt\n",
    "%matplotlib inline"
   ]
  },
  {
   "cell_type": "code",
   "execution_count": 2,
   "id": "625359f5",
   "metadata": {},
   "outputs": [],
   "source": [
    "import pandas as pd"
   ]
  },
  {
   "cell_type": "code",
   "execution_count": 3,
   "id": "0cf14fe4",
   "metadata": {},
   "outputs": [],
   "source": [
    "import librosa\n",
    "import librosa.display\n",
    "import ctc_chroma"
   ]
  },
  {
   "cell_type": "code",
   "execution_count": 4,
   "id": "f31ce83b",
   "metadata": {},
   "outputs": [],
   "source": [
    "# Create DataFrame from Waveplot\n",
    "wave = pd.read_csv('20210818_165154_Wave.csv', delimiter=';')"
   ]
  },
  {
   "cell_type": "code",
   "execution_count": 5,
   "id": "0e5a17c0",
   "metadata": {},
   "outputs": [],
   "source": [
    "# We seperated the long recording into different sections where different pieces were recorded\n",
    "# Create separate DataFrames for the different recordings\n",
    "wave1 = pd.read_csv('20210818_165154_Wave1.csv', delimiter=';')\n",
    "wave2 = pd.read_csv('20210818_165154_Wave2.csv', delimiter=';')\n",
    "wave3 = pd.read_csv('20210818_165154_Wave3.csv', delimiter=';')\n",
    "wave4 = pd.read_csv('20210818_165154_Wave4.csv', delimiter=';')\n",
    "wave5 = pd.read_csv('20210818_165154_Wave5.csv', delimiter=';')\n",
    "wave6 = pd.read_csv('20210818_165154_Wave6.csv', delimiter=';')\n",
    "wave7 = pd.read_csv('20210818_165154_Wave7.csv', delimiter=';')"
   ]
  },
  {
   "cell_type": "code",
   "execution_count": 6,
   "id": "b0207c3a",
   "metadata": {},
   "outputs": [],
   "source": [
    "# Get our IMU data\n",
    "acc = pd.read_csv('../DatenArduino/20210818_165154_AccR.csv', delimiter=';')\n",
    "gy = pd.read_csv('../DatenArduino/20210818_165154_GyR.csv', delimiter=';')"
   ]
  },
  {
   "cell_type": "code",
   "execution_count": 7,
   "id": "d4cd2844",
   "metadata": {},
   "outputs": [],
   "source": [
    "# we have commas instead of dots so we can't convert the string entries to float\n",
    "acc['Acc gesamt'] = acc['Acc gesamt'].str.replace(',','.', regex=True)\n",
    "gy['Gy gesamt'] = gy['Gy gesamt'].str.replace(',','.', regex=True)\n",
    "\n",
    "# convert our data to float\n",
    "acc = acc.astype(float)\n",
    "gy = gy.astype(float)\n",
    "\n",
    "# merge the to dataframes together\n",
    "imu = pd.concat([acc, gy], axis=1)"
   ]
  },
  {
   "cell_type": "code",
   "execution_count": 8,
   "id": "b2f0258a",
   "metadata": {},
   "outputs": [],
   "source": [
    "# Create the corresponding DataFrames with the IMU data for the recordings\n",
    "imu1 = imu.iloc[189:2727]\n",
    "imu2 = imu.iloc[2650:5155]\n",
    "imu3 = imu.iloc[5080:8910]\n",
    "imu4 = imu.iloc[8837:11309]\n",
    "imu5 = imu.iloc[11217:12942]\n",
    "imu6 = imu.iloc[12862:14853]\n",
    "imu7 = imu.iloc[14752:16822]"
   ]
  },
  {
   "cell_type": "code",
   "execution_count": 10,
   "id": "294b16b4",
   "metadata": {},
   "outputs": [],
   "source": [
    "# We use the ctc_chroma model from # https://github.com/fzalkow/ctc_chroma/blob/master/ctc_chroma/features.py\n",
    "# to generate chromagrams for the wave files\n",
    "cur_model_id = 'v2_ctc_train512valid3'\n",
    "cur_audio_path = '20210818_165154.wav'\n",
    "\n",
    "model = ctc_chroma.models.get_model(cur_model_id)"
   ]
  },
  {
   "cell_type": "code",
   "execution_count": 11,
   "id": "9467a04a",
   "metadata": {},
   "outputs": [],
   "source": [
    "# since we already cut down our data we copy the functions from GitHub\n",
    "\n",
    "def get_hcqt_params():\n",
    "    \"\"\"Hack to always use the same parameters :)\n",
    "    Function from https://github.com/rabitt/ismir2017-deepsalience\"\"\"\n",
    "    bins_per_octave = 36\n",
    "    n_octaves = 6\n",
    "    harmonics = [0.5, 1, 2, 3, 4, 5]\n",
    "    sr = 22050\n",
    "    fmin = 32.7\n",
    "    hop_length = 256\n",
    "    return bins_per_octave, n_octaves, harmonics, sr, fmin, hop_length\n",
    "\n",
    "\n",
    "def compute_hcqt(y, fs):\n",
    "    \"\"\"Compute the harmonic CQT from a given audio file\n",
    "    Function from https://github.com/rabitt/ismir2017-deepsalience\"\"\"\n",
    "    (bins_per_octave, n_octaves, harmonics,\n",
    "     sr, f_min, hop_length) = get_hcqt_params()\n",
    "    # y, fs = librosa.load(audio_fpath, sr=sr)\n",
    "\n",
    "    cqt_list = []\n",
    "    shapes = []\n",
    "    for h in harmonics:\n",
    "        cqt = librosa.cqt(y, sr=fs, hop_length=hop_length, fmin=f_min*float(h), n_bins=bins_per_octave*n_octaves,\n",
    "                          bins_per_octave=bins_per_octave)\n",
    "        cqt_list.append(cqt)\n",
    "        shapes.append(cqt.shape)\n",
    "\n",
    "    shapes_equal = [s == shapes[0] for s in shapes]\n",
    "    if not all(shapes_equal):\n",
    "        min_time = np.min([s[1] for s in shapes])\n",
    "        new_cqt_list = []\n",
    "        for i in range(len(cqt_list)):\n",
    "            new_cqt_list.append(cqt_list[i][:, :min_time])\n",
    "        cqt_list = new_cqt_list\n",
    "\n",
    "    log_hcqt = ((1.0 / 80.0) * librosa.core.amplitude_to_db(np.abs(np.array(cqt_list)), ref=np.max)) + 1.0\n",
    "\n",
    "    return log_hcqt\n",
    "\n",
    "\n",
    "def compute_hcqt_median(y, fs, feature_rate):\n",
    "    hcqt = compute_hcqt(y, fs)\n",
    "    times = get_time_grid(len(hcqt[0][0]))\n",
    "    freqs = get_freq_grid()\n",
    "\n",
    "    # interpolate times\n",
    "    eps = np.finfo(float).eps\n",
    "    new_times = np.arange(times[0], times[-1] + eps, 1.0/feature_rate)  # add eps to include last time point\n",
    "\n",
    "    return median_bin_salience(hcqt, times, new_times, axis=-1), new_times, freqs\n",
    "\n",
    "\n",
    "def median_bin_salience(salience, old_times, new_times, axis=1):\n",
    "\n",
    "    idx = []\n",
    "    for i in range(len(new_times)):\n",
    "        start_time = new_times[i]\n",
    "        idx.append(np.searchsorted(old_times, start_time))\n",
    "    idx.append(len(old_times))\n",
    "\n",
    "    new_X = librosa.util.sync(salience, idx, aggregate=np.median, pad=False, axis=axis)\n",
    "\n",
    "    return new_X\n",
    "\n",
    "\n",
    "def get_time_grid(n_time_frames):\n",
    "    \"\"\"Get the hcqt time grid\n",
    "    Function from https://github.com/rabitt/ismir2017-deepsalience\"\"\"\n",
    "    (_, _, _, sr, _, hop_length) = get_hcqt_params()\n",
    "    time_grid = librosa.core.frames_to_time(range(n_time_frames), sr=sr, hop_length=hop_length)\n",
    "    return time_grid\n",
    "\n",
    "\n",
    "def get_freq_grid():\n",
    "    \"\"\"Get the hcqt frequency grid\n",
    "    Function from https://github.com/rabitt/ismir2017-deepsalience\"\"\"\n",
    "    (bins_per_octave, n_octaves, _, _, f_min, _) = get_hcqt_params()\n",
    "    freq_grid = librosa.cqt_frequencies(bins_per_octave*n_octaves, f_min, bins_per_octave=bins_per_octave)\n",
    "    return freq_grid"
   ]
  },
  {
   "cell_type": "code",
   "execution_count": 12,
   "id": "ddf493c7",
   "metadata": {},
   "outputs": [],
   "source": [
    "hcqt1, times1, freqs1 = compute_hcqt_median(lib_x1, 22050, feature_rate=25)\n",
    "hcqt2, times2, freqs2 = compute_hcqt_median(lib_x2, 22050, feature_rate=25)\n",
    "hcqt3, times3, freqs3 = compute_hcqt_median(lib_x3, 22050, feature_rate=25)\n",
    "hcqt4, times4, freqs4 = compute_hcqt_median(lib_x4, 22050, feature_rate=25)\n",
    "hcqt5, times5, freqs5 = compute_hcqt_median(lib_x5, 22050, feature_rate=25)\n",
    "hcqt6, times6, freqs6 = compute_hcqt_median(lib_x6, 22050, feature_rate=25)\n",
    "hcqt7, times7, freqs7 = compute_hcqt_median(lib_x7, 22050, feature_rate=25)"
   ]
  },
  {
   "cell_type": "code",
   "execution_count": 13,
   "id": "9b0eeea6",
   "metadata": {},
   "outputs": [],
   "source": [
    "hcqt_norm1 = librosa.util.normalize(hcqt1.T, norm=2, fill=True, axis=1)\n",
    "hcqt_norm2 = librosa.util.normalize(hcqt2.T, norm=2, fill=True, axis=1)\n",
    "hcqt_norm3 = librosa.util.normalize(hcqt3.T, norm=2, fill=True, axis=1)\n",
    "hcqt_norm4 = librosa.util.normalize(hcqt4.T, norm=2, fill=True, axis=1)\n",
    "hcqt_norm5 = librosa.util.normalize(hcqt5.T, norm=2, fill=True, axis=1)\n",
    "hcqt_norm6 = librosa.util.normalize(hcqt6.T, norm=2, fill=True, axis=1)\n",
    "hcqt_norm7 = librosa.util.normalize(hcqt7.T, norm=2, fill=True, axis=1)"
   ]
  },
  {
   "cell_type": "code",
   "execution_count": 14,
   "id": "690d3782",
   "metadata": {},
   "outputs": [],
   "source": [
    "probabilities_ctc1 = model.predict(hcqt_norm1[np.newaxis, :, :, :])[0, :, :].T\n",
    "probabilities_ctc2 = model.predict(hcqt_norm2[np.newaxis, :, :, :])[0, :, :].T\n",
    "probabilities_ctc3 = model.predict(hcqt_norm3[np.newaxis, :, :, :])[0, :, :].T\n",
    "probabilities_ctc4 = model.predict(hcqt_norm4[np.newaxis, :, :, :])[0, :, :].T\n",
    "probabilities_ctc5 = model.predict(hcqt_norm5[np.newaxis, :, :, :])[0, :, :].T\n",
    "probabilities_ctc6 = model.predict(hcqt_norm6[np.newaxis, :, :, :])[0, :, :].T\n",
    "probabilities_ctc7 = model.predict(hcqt_norm7[np.newaxis, :, :, :])[0, :, :].T"
   ]
  },
  {
   "cell_type": "code",
   "execution_count": 15,
   "id": "b5cf61cf",
   "metadata": {},
   "outputs": [],
   "source": [
    "chroma_ctc1 = librosa.util.normalize(probabilities_ctc1[:-1, :], norm=2, fill=True, axis=0)\n",
    "chroma_ctc2 = librosa.util.normalize(probabilities_ctc2[:-1, :], norm=2, fill=True, axis=0)\n",
    "chroma_ctc3 = librosa.util.normalize(probabilities_ctc3[:-1, :], norm=2, fill=True, axis=0)\n",
    "chroma_ctc4 = librosa.util.normalize(probabilities_ctc4[:-1, :], norm=2, fill=True, axis=0)\n",
    "chroma_ctc5 = librosa.util.normalize(probabilities_ctc5[:-1, :], norm=2, fill=True, axis=0)\n",
    "chroma_ctc6 = librosa.util.normalize(probabilities_ctc6[:-1, :], norm=2, fill=True, axis=0)\n",
    "chroma_ctc7 = librosa.util.normalize(probabilities_ctc7[:-1, :], norm=2, fill=True, axis=0)"
   ]
  },
  {
   "cell_type": "code",
   "execution_count": 16,
   "id": "918cf488",
   "metadata": {},
   "outputs": [],
   "source": [
    "bins_per_octave, n_octaves, harmonics, sr, fmin, hop_length = ctc_chroma.features.get_hcqt_params()\n",
    "\n",
    "\n",
    "chroma_cqt1 = librosa.feature.chroma_cqt(C=hcqt_norm1[:, :, 1].T, fmin=fmin, bins_per_octave=bins_per_octave)\n",
    "chroma_cqt2 = librosa.feature.chroma_cqt(C=hcqt_norm2[:, :, 1].T, fmin=fmin, bins_per_octave=bins_per_octave)\n",
    "chroma_cqt3 = librosa.feature.chroma_cqt(C=hcqt_norm3[:, :, 1].T, fmin=fmin, bins_per_octave=bins_per_octave)\n",
    "chroma_cqt4 = librosa.feature.chroma_cqt(C=hcqt_norm4[:, :, 1].T, fmin=fmin, bins_per_octave=bins_per_octave)\n",
    "chroma_cqt5 = librosa.feature.chroma_cqt(C=hcqt_norm5[:, :, 1].T, fmin=fmin, bins_per_octave=bins_per_octave)\n",
    "chroma_cqt6 = librosa.feature.chroma_cqt(C=hcqt_norm6[:, :, 1].T, fmin=fmin, bins_per_octave=bins_per_octave)\n",
    "chroma_cqt7 = librosa.feature.chroma_cqt(C=hcqt_norm7[:, :, 1].T, fmin=fmin, bins_per_octave=bins_per_octave)"
   ]
  },
  {
   "cell_type": "code",
   "execution_count": 17,
   "id": "c464ff17",
   "metadata": {},
   "outputs": [],
   "source": [
    "# For some data cqt works better, for other ctc. \n",
    "# We take the chromagrams which give better results and transpose the arrays\n",
    "chroma_cqt1_T = chroma_cqt1.transpose()\n",
    "chroma_cqt2_T = chroma_cqt2.transpose()\n",
    "chroma_cqt3_T = chroma_cqt3.transpose()\n",
    "chroma_ctc4_T = chroma_ctc4.transpose()\n",
    "chroma_ctc5_T = chroma_ctc5.transpose()\n",
    "chroma_ctc6_T = chroma_ctc6.transpose()\n",
    "chroma_ctc7_T = chroma_ctc7.transpose()"
   ]
  },
  {
   "cell_type": "code",
   "execution_count": 18,
   "id": "3c38f0e0",
   "metadata": {},
   "outputs": [],
   "source": [
    "# from ndarray to panda DataFrame\n",
    "cqt1 = pd.DataFrame(data=chroma_cqt1_T, columns=['1','2','3','4','5','6','7','8','9','10','11','12'])\n",
    "cqt2 = pd.DataFrame(data=chroma_cqt2_T, columns=['1','2','3','4','5','6','7','8','9','10','11','12'])\n",
    "cqt3 = pd.DataFrame(data=chroma_cqt3_T, columns=['1','2','3','4','5','6','7','8','9','10','11','12'])\n",
    "ctc4 = pd.DataFrame(data=chroma_ctc4_T, columns=['1','2','3','4','5','6','7','8','9','10','11','12'])\n",
    "ctc5 = pd.DataFrame(data=chroma_ctc5_T, columns=['1','2','3','4','5','6','7','8','9','10','11','12'])\n",
    "ctc6 = pd.DataFrame(data=chroma_ctc6_T, columns=['1','2','3','4','5','6','7','8','9','10','11','12'])\n",
    "ctc7 = pd.DataFrame(data=chroma_ctc7_T, columns=['1','2','3','4','5','6','7','8','9','10','11','12'])"
   ]
  },
  {
   "cell_type": "code",
   "execution_count": 19,
   "id": "acceeae9",
   "metadata": {},
   "outputs": [],
   "source": [
    "# create a column for the most probable note\n",
    "cqt1['Tones'] = cqt1.idxmax(1)\n",
    "cqt2['Tones'] = cqt2.idxmax(1)\n",
    "cqt3['Tones'] = cqt3.idxmax(1)\n",
    "ctc4['Tones'] = ctc4.idxmax(1)\n",
    "ctc5['Tones'] = ctc5.idxmax(1)\n",
    "ctc6['Tones'] = ctc6.idxmax(1)\n",
    "ctc7['Tones'] = ctc7.idxmax(1)"
   ]
  },
  {
   "cell_type": "code",
   "execution_count": 20,
   "id": "3de7b684",
   "metadata": {},
   "outputs": [],
   "source": [
    "# We want the first occurance of the note to mark our tone changes\n",
    "cqt1['FirstOcc'] = cqt1['Tones'].shift() != cqt1['Tones']\n",
    "cqt2['FirstOcc'] = cqt2['Tones'].shift() != cqt2['Tones']\n",
    "cqt3['FirstOcc'] = cqt3['Tones'].shift() != cqt3['Tones']\n",
    "ctc4['FirstOcc'] = ctc4['Tones'].shift() != ctc4['Tones']\n",
    "ctc5['FirstOcc'] = ctc5['Tones'].shift() != ctc5['Tones']\n",
    "ctc6['FirstOcc'] = ctc6['Tones'].shift() != ctc6['Tones']\n",
    "ctc7['FirstOcc'] = ctc7['Tones'].shift() != ctc7['Tones']"
   ]
  },
  {
   "cell_type": "code",
   "execution_count": 21,
   "id": "cca1dc69",
   "metadata": {},
   "outputs": [],
   "source": [
    "# change first occurence from boolean to int\n",
    "cqt1['FirstOcc'] = cqt1['FirstOcc'].astype(int)\n",
    "cqt2['FirstOcc'] = cqt2['FirstOcc'].astype(int)\n",
    "cqt3['FirstOcc'] = cqt3['FirstOcc'].astype(int)\n",
    "ctc4['FirstOcc'] = ctc4['FirstOcc'].astype(int)\n",
    "ctc5['FirstOcc'] = ctc5['FirstOcc'].astype(int)\n",
    "ctc6['FirstOcc'] = ctc6['FirstOcc'].astype(int)\n",
    "ctc7['FirstOcc'] = ctc7['FirstOcc'].astype(int)"
   ]
  },
  {
   "cell_type": "code",
   "execution_count": 22,
   "id": "20621753",
   "metadata": {},
   "outputs": [],
   "source": [
    "# map the numbers to tone names\n",
    "mapTone = {'1':'C', '2':'Cis', '3':'D', '4':'Dis', '5':'E', '6':'F', '7':'Fis', '8':'G', '9':'Gis', '10':'A', '11':'B', '12':'H'}\n",
    "cqt1['TonesName'] = cqt1['Tones'].map(mapTone)\n",
    "cqt2['TonesName'] = cqt2['Tones'].map(mapTone)\n",
    "cqt3['TonesName'] = cqt3['Tones'].map(mapTone)\n",
    "ctc4['TonesName'] = ctc4['Tones'].map(mapTone)\n",
    "ctc5['TonesName'] = ctc5['Tones'].map(mapTone)\n",
    "ctc6['TonesName'] = ctc6['Tones'].map(mapTone)\n",
    "ctc7['TonesName'] = ctc7['Tones'].map(mapTone)"
   ]
  },
  {
   "cell_type": "code",
   "execution_count": 23,
   "id": "fb1b14bc",
   "metadata": {},
   "outputs": [],
   "source": [
    "# We cleaned the data manually and made the dataframes smaller to have only the relevant information\n",
    "# the audio samples 4, 5 and 7 were a bit too messy so we just take 1-3 and 6\n",
    "cqt1_cleaned = pd.read_csv('cqt1_cleaned.csv', sep=';', index_col=0)\n",
    "cqt2_cleaned = pd.read_csv('cqt2_cleaned.csv', sep=';', index_col=0)\n",
    "cqt3_cleaned = pd.read_csv('cqt3_cleaned.csv', sep=';', index_col=0)\n",
    "ctc6_cleaned = pd.read_csv('ctc6_cleaned.csv', sep=';', index_col=0)"
   ]
  },
  {
   "cell_type": "code",
   "execution_count": 24,
   "id": "cc2a161a",
   "metadata": {},
   "outputs": [],
   "source": [
    "# To have equaly sized imu data and audio data we stretch our chromagram data and the interpolate \n",
    "# the imu data to fit the dataframe\n",
    "# To have a stretched DataFrame we first produce an empty dataframe\n",
    "index1 = range(3345)\n",
    "index2 = range(3300)\n",
    "index3 = range(5049)\n",
    "index6 = range(2628)\n",
    "columns = ['FirstOcc']\n",
    "\n",
    "cqt1_stretched = pd.DataFrame(index=index1, columns=columns)\n",
    "cqt2_stretched = pd.DataFrame(index=index2, columns=columns)\n",
    "cqt3_stretched = pd.DataFrame(index=index3, columns=columns)\n",
    "ctc6_stretched = pd.DataFrame(index=index6, columns=columns)\n",
    "\n",
    "# get a subset of our stretched DataFrames the size of our data\n",
    "cqt1_3 = cqt1_stretched.iloc[::3].copy()\n",
    "cqt2_3 = cqt2_stretched.iloc[::3].copy()\n",
    "cqt3_3 = cqt3_stretched.iloc[::3].copy()\n",
    "ctc6_3 = ctc6_stretched.iloc[::3].copy()\n",
    "\n",
    "# to overwrite the data we first need to reset the index\n",
    "cqt1_3 = cqt1_3.reset_index()\n",
    "cqt2_3 = cqt2_3.reset_index()\n",
    "cqt3_3 = cqt3_3.reset_index()\n",
    "ctc6_3 = ctc6_3.reset_index()\n",
    "\n",
    "# Overwrite the data\n",
    "cqt1_3['FirstOcc'] = cqt1_cleaned['FirstOcc']\n",
    "cqt2_3['FirstOcc'] = cqt2_cleaned['FirstOcc']\n",
    "cqt3_3['FirstOcc'] = cqt3_cleaned['FirstOcc']\n",
    "ctc6_3['FirstOcc'] = ctc6_cleaned['FirstOcc']\n",
    "\n",
    "# Reset the index to the original\n",
    "cqt1_3 = cqt1_3.set_index('index')\n",
    "cqt2_3 = cqt2_3.set_index('index')\n",
    "cqt3_3 = cqt3_3.set_index('index')\n",
    "ctc6_3 = ctc6_3.set_index('index')\n",
    "\n",
    "# Overwrite the data in our stretched DataFrames\n",
    "cqt1_stretched['FirstOcc'] = cqt1_3['FirstOcc']\n",
    "cqt2_stretched['FirstOcc'] = cqt2_3['FirstOcc']\n",
    "cqt3_stretched['FirstOcc'] = cqt3_3['FirstOcc']\n",
    "ctc6_stretched['FirstOcc'] = ctc6_3['FirstOcc']\n",
    "\n",
    "# replace NaN-values with 0\n",
    "cqt1_stretched = cqt1_stretched.fillna(0)\n",
    "cqt2_stretched = cqt2_stretched.fillna(0)\n",
    "cqt3_stretched = cqt3_stretched.fillna(0)\n",
    "ctc6_stretched = ctc6_stretched.fillna(0)"
   ]
  },
  {
   "cell_type": "code",
   "execution_count": 25,
   "id": "a3a4a270",
   "metadata": {},
   "outputs": [],
   "source": [
    "from scipy.interpolate import interp1d"
   ]
  },
  {
   "cell_type": "code",
   "execution_count": 26,
   "id": "9569abde",
   "metadata": {},
   "outputs": [],
   "source": [
    "# Interpolate our accelerometer and gyroscope data to have the same length with our tone data\n",
    "x_acc1 = np.linspace(0, len(imu1)-1, num=len(imu1), endpoint=True)\n",
    "y_acc1 = imu1['Acc gesamt']\n",
    "f_acc1 = interp1d(x_acc1, y_acc1, kind='slinear')\n",
    "xnew_acc1 = np.linspace(0, len(imu1)-1, num=len(cqt1_stretched))\n",
    "ynew_acc1 = f_acc1(xnew_acc1) # use interpolation function returned by `interp1d`\n",
    "\n",
    "x_gy1 = np.linspace(0, len(imu1)-1, num=len(imu1), endpoint=True)\n",
    "y_gy1 = imu1['Gy gesamt']\n",
    "f_gy1 = interp1d(x_gy1, y_gy1, kind='slinear')\n",
    "xnew_gy1 = np.linspace(0, len(imu1)-1, num=len(cqt1_stretched))\n",
    "ynew_gy1 = f_gy1(xnew_gy1) # use interpolation function returned by `interp1d`\n",
    "\n",
    "x_acc2 = np.linspace(0, len(imu2)-1, num=len(imu2), endpoint=True)\n",
    "y_acc2 = imu2['Acc gesamt']\n",
    "f_acc2 = interp1d(x_acc2, y_acc2, kind='slinear')\n",
    "xnew_acc2 = np.linspace(0, len(imu2)-1, num=len(cqt2_stretched))\n",
    "ynew_acc2 = f_acc2(xnew_acc2) # use interpolation function returned by `interp1d`\n",
    "\n",
    "x_gy2 = np.linspace(0, len(imu2)-1, num=len(imu2), endpoint=True)\n",
    "y_gy2 = imu2['Gy gesamt']\n",
    "f_gy2 = interp1d(x_gy2, y_gy2, kind='slinear')\n",
    "xnew_gy2 = np.linspace(0, len(imu2)-1, num=len(cqt2_stretched))\n",
    "ynew_gy2 = f_gy2(xnew_gy2) # use interpolation function returned by `interp1d`\n",
    "\n",
    "x_acc3 = np.linspace(0, len(imu3)-1, num=len(imu3), endpoint=True)\n",
    "y_acc3 = imu3['Acc gesamt']\n",
    "f_acc3 = interp1d(x_acc3, y_acc3, kind='slinear')\n",
    "xnew_acc3 = np.linspace(0, len(imu3)-1, num=len(cqt3_stretched))\n",
    "ynew_acc3 = f_acc3(xnew_acc3) # use interpolation function returned by `interp1d`\n",
    "\n",
    "x_gy3 = np.linspace(0, len(imu3)-1, num=len(imu3), endpoint=True)\n",
    "y_gy3 = imu3['Gy gesamt']\n",
    "f_gy3 = interp1d(x_gy3, y_gy3, kind='slinear')\n",
    "xnew_gy3 = np.linspace(0, len(imu3)-1, num=len(cqt3_stretched))\n",
    "ynew_gy3 = f_gy3(xnew_gy3) # use interpolation function returned by `interp1d`\n",
    "\n",
    "x_acc6 = np.linspace(0, len(imu6)-1, num=len(imu6), endpoint=True)\n",
    "y_acc6 = imu6['Acc gesamt']\n",
    "f_acc6 = interp1d(x_acc6, y_acc6, kind='slinear')\n",
    "xnew_acc6 = np.linspace(0, len(imu6)-1, num=len(ctc6_stretched))\n",
    "ynew_acc6 = f_acc6(xnew_acc6) # use interpolation function returned by `interp1d`\n",
    "\n",
    "x_gy6 = np.linspace(0, len(imu6)-1, num=len(imu6), endpoint=True)\n",
    "y_gy6 = imu6['Gy gesamt']\n",
    "f_gy6 = interp1d(x_gy6, y_gy6, kind='slinear')\n",
    "xnew_gy6 = np.linspace(0, len(imu6)-1, num=len(ctc6_stretched))\n",
    "ynew_gy6 = f_gy6(xnew_gy6) # use interpolation function returned by `interp1d`\n",
    "\n",
    "cqt1_stretched['Acc'] = ynew_acc1\n",
    "cqt1_stretched['Gy'] = ynew_gy1\n",
    "cqt2_stretched['Acc'] = ynew_acc2\n",
    "cqt2_stretched['Gy'] = ynew_gy2\n",
    "cqt3_stretched['Acc'] = ynew_acc3\n",
    "cqt3_stretched['Gy'] = ynew_gy3\n",
    "ctc6_stretched['Acc'] = ynew_acc6\n",
    "ctc6_stretched['Gy'] = ynew_gy6"
   ]
  },
  {
   "cell_type": "code",
   "execution_count": 28,
   "id": "c7e66b1d",
   "metadata": {},
   "outputs": [],
   "source": [
    "# Since we only need the data where actual notes are played we get a subset of each dataframe\n",
    "# and do some scaling with the MinMaxScaler\n",
    "# already prepared files:\n",
    "cqt1_scaled = pd.read_csv('cqt1_scaled.csv', sep=';', index_col=0)\n",
    "cqt2_scaled = pd.read_csv('cqt2_scaled.csv', sep=';', index_col=0)\n",
    "cqt3_scaled = pd.read_csv('cqt3_scaled.csv', sep=';', index_col=0)\n",
    "ctc6_scaled = pd.read_csv('ctc6_scaled.csv', sep=';', index_col=0)"
   ]
  },
  {
   "cell_type": "code",
   "execution_count": 29,
   "id": "c45ca7d8",
   "metadata": {},
   "outputs": [],
   "source": [
    "# put all together in one dataframe\n",
    "frames = [cqt1_scaled, cqt2_scaled, cqt3_scaled, ctc6_scaled]\n",
    "df_all = pd.concat(frames, ignore_index=True)"
   ]
  },
  {
   "cell_type": "code",
   "execution_count": 30,
   "id": "41084c06",
   "metadata": {},
   "outputs": [],
   "source": [
    "df_all.rename(columns={'0':'Acc gesamt', '1':'Gy gesamt'}, inplace=True)"
   ]
  },
  {
   "cell_type": "code",
   "execution_count": 33,
   "id": "178ad63b",
   "metadata": {},
   "outputs": [],
   "source": [
    "from tcn import TCN, tcn_full_summary # We use keras_tcn from https://github.com/philipperemy/keras-tcn\n",
    "from tensorflow.keras.layers import Dense\n",
    "from tensorflow.keras.models import Sequential\n",
    "from tensorflow.keras.callbacks import EarlyStopping"
   ]
  },
  {
   "cell_type": "code",
   "execution_count": 36,
   "id": "1bca19c6",
   "metadata": {},
   "outputs": [
    {
     "name": "stdout",
     "output_type": "stream",
     "text": [
      "Receptive field size = 253\n",
      "Model: \"sequential\"\n",
      "_________________________________________________________________\n",
      "Layer (type)                 Output Shape              Param #   \n",
      "=================================================================\n",
      "residual_block_0 (ResidualBl [(None, None, 64), (None, 12736     \n",
      "_________________________________________________________________\n",
      "residual_block_1 (ResidualBl [(None, None, 64), (None, 24704     \n",
      "_________________________________________________________________\n",
      "residual_block_2 (ResidualBl [(None, None, 64), (None, 24704     \n",
      "_________________________________________________________________\n",
      "residual_block_3 (ResidualBl [(None, None, 64), (None, 24704     \n",
      "_________________________________________________________________\n",
      "residual_block_4 (ResidualBl [(None, None, 64), (None, 24704     \n",
      "_________________________________________________________________\n",
      "residual_block_5 (ResidualBl [(None, None, 64), (None, 24704     \n",
      "_________________________________________________________________\n",
      "lambda (Lambda)              (None, 64)                0         \n",
      "_________________________________________________________________\n",
      "dense_2 (Dense)              (None, 1)                 65        \n",
      "=================================================================\n",
      "Total params: 136,321\n",
      "Trainable params: 136,321\n",
      "Non-trainable params: 0\n",
      "_________________________________________________________________\n",
      "Epoch 1/200\n",
      "242/242 [==============================] - ETA: 0s - loss: 0.698 - ETA: 2s - loss: 0.657 - ETA: 2s - loss: 0.758 - ETA: 2s - loss: 0.675 - ETA: 2s - loss: 0.560 - ETA: 2s - loss: 0.578 - ETA: 2s - loss: 0.504 - ETA: 2s - loss: 0.472 - ETA: 2s - loss: 0.447 - ETA: 2s - loss: 0.422 - ETA: 2s - loss: 0.407 - ETA: 2s - loss: 0.396 - ETA: 2s - loss: 0.381 - ETA: 2s - loss: 0.379 - ETA: 2s - loss: 0.387 - ETA: 2s - loss: 0.386 - ETA: 1s - loss: 0.379 - ETA: 1s - loss: 0.375 - ETA: 1s - loss: 0.394 - ETA: 1s - loss: 0.387 - ETA: 1s - loss: 0.398 - ETA: 1s - loss: 0.392 - ETA: 1s - loss: 0.394 - ETA: 1s - loss: 0.384 - ETA: 1s - loss: 0.385 - ETA: 1s - loss: 0.392 - ETA: 1s - loss: 0.386 - ETA: 1s - loss: 0.376 - ETA: 1s - loss: 0.369 - ETA: 1s - loss: 0.373 - ETA: 1s - loss: 0.370 - ETA: 1s - loss: 0.373 - ETA: 1s - loss: 0.377 - ETA: 0s - loss: 0.395 - ETA: 0s - loss: 0.397 - ETA: 0s - loss: 0.403 - ETA: 0s - loss: 0.396 - ETA: 0s - loss: 0.401 - ETA: 0s - loss: 0.399 - ETA: 0s - loss: 0.391 - ETA: 0s - loss: 0.404 - ETA: 0s - loss: 0.409 - ETA: 0s - loss: 0.412 - ETA: 0s - loss: 0.408 - ETA: 0s - loss: 0.402 - ETA: 0s - loss: 0.402 - ETA: 0s - loss: 0.410 - ETA: 0s - loss: 0.431 - ETA: 0s - loss: 0.430 - ETA: 0s - loss: 0.430 - ETA: 0s - loss: 0.433 - ETA: 0s - loss: 0.430 - 3s 14ms/step - loss: 0.4304 - val_loss: 0.3131\n",
      "Epoch 2/200\n",
      "242/242 [==============================] - ETA: 0s - loss: 0.280 - ETA: 2s - loss: 0.369 - ETA: 2s - loss: 0.346 - ETA: 2s - loss: 0.383 - ETA: 2s - loss: 0.290 - ETA: 2s - loss: 0.346 - ETA: 2s - loss: 0.338 - ETA: 2s - loss: 0.360 - ETA: 2s - loss: 0.385 - ETA: 2s - loss: 0.365 - ETA: 2s - loss: 0.387 - ETA: 2s - loss: 0.367 - ETA: 1s - loss: 0.387 - ETA: 1s - loss: 0.385 - ETA: 1s - loss: 0.390 - ETA: 1s - loss: 0.394 - ETA: 1s - loss: 0.401 - ETA: 1s - loss: 0.392 - ETA: 1s - loss: 0.392 - ETA: 1s - loss: 0.399 - ETA: 1s - loss: 0.398 - ETA: 1s - loss: 0.396 - ETA: 1s - loss: 0.403 - ETA: 1s - loss: 0.434 - ETA: 1s - loss: 0.425 - ETA: 1s - loss: 0.428 - ETA: 1s - loss: 0.432 - ETA: 1s - loss: 0.428 - ETA: 0s - loss: 0.423 - ETA: 0s - loss: 0.422 - ETA: 0s - loss: 0.421 - ETA: 0s - loss: 0.412 - ETA: 0s - loss: 0.410 - ETA: 0s - loss: 0.414 - ETA: 0s - loss: 0.411 - ETA: 0s - loss: 0.403 - ETA: 0s - loss: 0.404 - ETA: 0s - loss: 0.407 - ETA: 0s - loss: 0.407 - ETA: 0s - loss: 0.400 - ETA: 0s - loss: 0.396 - ETA: 0s - loss: 0.416 - ETA: 0s - loss: 0.417 - ETA: 0s - loss: 0.417 - ETA: 0s - loss: 0.414 - ETA: 0s - loss: 0.410 - 3s 12ms/step - loss: 0.4081 - val_loss: 0.1988\n",
      "Epoch 3/200\n",
      "242/242 [==============================] - ETA: 0s - loss: 1.042 - ETA: 2s - loss: 0.647 - ETA: 2s - loss: 0.549 - ETA: 2s - loss: 0.502 - ETA: 2s - loss: 0.448 - ETA: 2s - loss: 0.482 - ETA: 2s - loss: 0.551 - ETA: 2s - loss: 0.520 - ETA: 2s - loss: 0.491 - ETA: 1s - loss: 0.465 - ETA: 1s - loss: 0.463 - ETA: 1s - loss: 0.457 - ETA: 1s - loss: 0.431 - ETA: 1s - loss: 0.424 - ETA: 1s - loss: 0.421 - ETA: 1s - loss: 0.403 - ETA: 1s - loss: 0.427 - ETA: 1s - loss: 0.427 - ETA: 1s - loss: 0.432 - ETA: 1s - loss: 0.427 - ETA: 1s - loss: 0.424 - ETA: 1s - loss: 0.426 - ETA: 1s - loss: 0.429 - ETA: 1s - loss: 0.421 - ETA: 1s - loss: 0.414 - ETA: 1s - loss: 0.424 - ETA: 1s - loss: 0.410 - ETA: 1s - loss: 0.408 - ETA: 1s - loss: 0.392 - ETA: 0s - loss: 0.425 - ETA: 0s - loss: 0.432 - ETA: 0s - loss: 0.426 - ETA: 0s - loss: 0.419 - ETA: 0s - loss: 0.426 - ETA: 0s - loss: 0.424 - ETA: 0s - loss: 0.414 - ETA: 0s - loss: 0.413 - ETA: 0s - loss: 0.412 - ETA: 0s - loss: 0.417 - ETA: 0s - loss: 0.412 - ETA: 0s - loss: 0.416 - ETA: 0s - loss: 0.420 - ETA: 0s - loss: 0.418 - ETA: 0s - loss: 0.416 - ETA: 0s - loss: 0.413 - ETA: 0s - loss: 0.413 - 3s 12ms/step - loss: 0.4146 - val_loss: 0.1945\n",
      "Epoch 4/200\n",
      "242/242 [==============================] - ETA: 0s - loss: 0.101 - ETA: 2s - loss: 0.227 - ETA: 2s - loss: 0.244 - ETA: 2s - loss: 0.380 - ETA: 2s - loss: 0.354 - ETA: 2s - loss: 0.375 - ETA: 2s - loss: 0.376 - ETA: 2s - loss: 0.413 - ETA: 2s - loss: 0.386 - ETA: 2s - loss: 0.382 - ETA: 2s - loss: 0.361 - ETA: 2s - loss: 0.342 - ETA: 2s - loss: 0.344 - ETA: 2s - loss: 0.343 - ETA: 2s - loss: 0.390 - ETA: 2s - loss: 0.389 - ETA: 2s - loss: 0.411 - ETA: 1s - loss: 0.407 - ETA: 1s - loss: 0.409 - ETA: 1s - loss: 0.416 - ETA: 1s - loss: 0.417 - ETA: 1s - loss: 0.413 - ETA: 1s - loss: 0.413 - ETA: 1s - loss: 0.410 - ETA: 1s - loss: 0.416 - ETA: 1s - loss: 0.406 - ETA: 1s - loss: 0.402 - ETA: 1s - loss: 0.392 - ETA: 1s - loss: 0.380 - ETA: 1s - loss: 0.391 - ETA: 1s - loss: 0.379 - ETA: 1s - loss: 0.373 - ETA: 1s - loss: 0.378 - ETA: 1s - loss: 0.388 - ETA: 1s - loss: 0.378 - ETA: 0s - loss: 0.384 - ETA: 0s - loss: 0.380 - ETA: 0s - loss: 0.392 - ETA: 0s - loss: 0.394 - ETA: 0s - loss: 0.395 - ETA: 0s - loss: 0.389 - ETA: 0s - loss: 0.392 - ETA: 0s - loss: 0.386 - ETA: 0s - loss: 0.383 - ETA: 0s - loss: 0.387 - ETA: 0s - loss: 0.387 - ETA: 0s - loss: 0.386 - ETA: 0s - loss: 0.402 - ETA: 0s - loss: 0.398 - ETA: 0s - loss: 0.399 - ETA: 0s - loss: 0.399 - ETA: 0s - loss: 0.402 - 3s 13ms/step - loss: 0.3995 - val_loss: 0.2265\n",
      "Epoch 5/200\n",
      "242/242 [==============================] - ETA: 0s - loss: 0.157 - ETA: 2s - loss: 0.649 - ETA: 2s - loss: 0.471 - ETA: 2s - loss: 0.473 - ETA: 2s - loss: 0.420 - ETA: 2s - loss: 0.414 - ETA: 2s - loss: 0.388 - ETA: 2s - loss: 0.416 - ETA: 2s - loss: 0.408 - ETA: 2s - loss: 0.430 - ETA: 2s - loss: 0.403 - ETA: 1s - loss: 0.388 - ETA: 1s - loss: 0.380 - ETA: 1s - loss: 0.395 - ETA: 1s - loss: 0.431 - ETA: 1s - loss: 0.424 - ETA: 1s - loss: 0.421 - ETA: 1s - loss: 0.413 - ETA: 1s - loss: 0.416 - ETA: 1s - loss: 0.402 - ETA: 1s - loss: 0.402 - ETA: 1s - loss: 0.413 - ETA: 1s - loss: 0.399 - ETA: 1s - loss: 0.405 - ETA: 1s - loss: 0.406 - ETA: 1s - loss: 0.422 - ETA: 1s - loss: 0.427 - ETA: 1s - loss: 0.423 - ETA: 1s - loss: 0.420 - ETA: 1s - loss: 0.417 - ETA: 1s - loss: 0.408 - ETA: 0s - loss: 0.413 - ETA: 0s - loss: 0.411 - ETA: 0s - loss: 0.407 - ETA: 0s - loss: 0.410 - ETA: 0s - loss: 0.401 - ETA: 0s - loss: 0.398 - ETA: 0s - loss: 0.408 - ETA: 0s - loss: 0.407 - ETA: 0s - loss: 0.402 - ETA: 0s - loss: 0.401 - ETA: 0s - loss: 0.406 - ETA: 0s - loss: 0.405 - ETA: 0s - loss: 0.402 - ETA: 0s - loss: 0.396 - ETA: 0s - loss: 0.393 - ETA: 0s - loss: 0.398 - ETA: 0s - loss: 0.396 - ETA: 0s - loss: 0.393 - ETA: 0s - loss: 0.395 - 3s 12ms/step - loss: 0.3984 - val_loss: 0.1993\n",
      "Epoch 6/200\n"
     ]
    },
    {
     "name": "stdout",
     "output_type": "stream",
     "text": [
      "242/242 [==============================] - ETA: 0s - loss: 0.957 - ETA: 2s - loss: 0.676 - ETA: 2s - loss: 0.481 - ETA: 2s - loss: 0.378 - ETA: 2s - loss: 0.375 - ETA: 2s - loss: 0.357 - ETA: 2s - loss: 0.364 - ETA: 2s - loss: 0.348 - ETA: 2s - loss: 0.380 - ETA: 2s - loss: 0.345 - ETA: 1s - loss: 0.382 - ETA: 1s - loss: 0.394 - ETA: 1s - loss: 0.397 - ETA: 1s - loss: 0.396 - ETA: 1s - loss: 0.408 - ETA: 1s - loss: 0.409 - ETA: 1s - loss: 0.407 - ETA: 1s - loss: 0.401 - ETA: 1s - loss: 0.402 - ETA: 1s - loss: 0.402 - ETA: 1s - loss: 0.388 - ETA: 1s - loss: 0.384 - ETA: 1s - loss: 0.400 - ETA: 1s - loss: 0.414 - ETA: 1s - loss: 0.418 - ETA: 1s - loss: 0.421 - ETA: 1s - loss: 0.413 - ETA: 1s - loss: 0.404 - ETA: 1s - loss: 0.399 - ETA: 0s - loss: 0.417 - ETA: 0s - loss: 0.425 - ETA: 0s - loss: 0.418 - ETA: 0s - loss: 0.422 - ETA: 0s - loss: 0.426 - ETA: 0s - loss: 0.418 - ETA: 0s - loss: 0.409 - ETA: 0s - loss: 0.404 - ETA: 0s - loss: 0.415 - ETA: 0s - loss: 0.409 - ETA: 0s - loss: 0.407 - ETA: 0s - loss: 0.406 - ETA: 0s - loss: 0.402 - ETA: 0s - loss: 0.398 - ETA: 0s - loss: 0.391 - ETA: 0s - loss: 0.398 - ETA: 0s - loss: 0.400 - ETA: 0s - loss: 0.398 - 3s 12ms/step - loss: 0.3960 - val_loss: 0.1989\n",
      "Epoch 7/200\n",
      "242/242 [==============================] - ETA: 0s - loss: 0.791 - ETA: 2s - loss: 0.442 - ETA: 2s - loss: 0.591 - ETA: 2s - loss: 0.499 - ETA: 2s - loss: 0.509 - ETA: 2s - loss: 0.494 - ETA: 2s - loss: 0.498 - ETA: 2s - loss: 0.468 - ETA: 2s - loss: 0.457 - ETA: 1s - loss: 0.443 - ETA: 1s - loss: 0.454 - ETA: 1s - loss: 0.462 - ETA: 1s - loss: 0.449 - ETA: 1s - loss: 0.434 - ETA: 1s - loss: 0.422 - ETA: 1s - loss: 0.407 - ETA: 1s - loss: 0.389 - ETA: 1s - loss: 0.378 - ETA: 1s - loss: 0.372 - ETA: 1s - loss: 0.363 - ETA: 1s - loss: 0.387 - ETA: 1s - loss: 0.393 - ETA: 1s - loss: 0.407 - ETA: 1s - loss: 0.401 - ETA: 1s - loss: 0.395 - ETA: 1s - loss: 0.394 - ETA: 1s - loss: 0.395 - ETA: 1s - loss: 0.406 - ETA: 0s - loss: 0.402 - ETA: 0s - loss: 0.397 - ETA: 0s - loss: 0.394 - ETA: 0s - loss: 0.392 - ETA: 0s - loss: 0.392 - ETA: 0s - loss: 0.383 - ETA: 0s - loss: 0.383 - ETA: 0s - loss: 0.392 - ETA: 0s - loss: 0.390 - ETA: 0s - loss: 0.393 - ETA: 0s - loss: 0.398 - ETA: 0s - loss: 0.391 - ETA: 0s - loss: 0.397 - ETA: 0s - loss: 0.402 - ETA: 0s - loss: 0.396 - ETA: 0s - loss: 0.396 - ETA: 0s - loss: 0.399 - ETA: 0s - loss: 0.402 - ETA: 0s - loss: 0.399 - 3s 12ms/step - loss: 0.3973 - val_loss: 0.2188\n",
      "Epoch 8/200\n",
      "242/242 [==============================] - ETA: 0s - loss: 0.143 - ETA: 2s - loss: 0.472 - ETA: 2s - loss: 0.532 - ETA: 2s - loss: 0.535 - ETA: 2s - loss: 0.454 - ETA: 2s - loss: 0.416 - ETA: 2s - loss: 0.434 - ETA: 2s - loss: 0.456 - ETA: 1s - loss: 0.434 - ETA: 1s - loss: 0.441 - ETA: 1s - loss: 0.422 - ETA: 1s - loss: 0.390 - ETA: 1s - loss: 0.379 - ETA: 1s - loss: 0.425 - ETA: 1s - loss: 0.446 - ETA: 1s - loss: 0.427 - ETA: 1s - loss: 0.416 - ETA: 1s - loss: 0.406 - ETA: 1s - loss: 0.399 - ETA: 1s - loss: 0.393 - ETA: 1s - loss: 0.387 - ETA: 1s - loss: 0.380 - ETA: 1s - loss: 0.365 - ETA: 1s - loss: 0.361 - ETA: 1s - loss: 0.363 - ETA: 1s - loss: 0.360 - ETA: 1s - loss: 0.409 - ETA: 1s - loss: 0.401 - ETA: 0s - loss: 0.410 - ETA: 0s - loss: 0.410 - ETA: 0s - loss: 0.406 - ETA: 0s - loss: 0.402 - ETA: 0s - loss: 0.404 - ETA: 0s - loss: 0.399 - ETA: 0s - loss: 0.392 - ETA: 0s - loss: 0.405 - ETA: 0s - loss: 0.404 - ETA: 0s - loss: 0.405 - ETA: 0s - loss: 0.403 - ETA: 0s - loss: 0.411 - ETA: 0s - loss: 0.410 - ETA: 0s - loss: 0.414 - ETA: 0s - loss: 0.411 - ETA: 0s - loss: 0.414 - ETA: 0s - loss: 0.416 - ETA: 0s - loss: 0.415 - ETA: 0s - loss: 0.411 - 3s 11ms/step - loss: 0.4109 - val_loss: 0.2190\n",
      "Epoch 9/200\n",
      "242/242 [==============================] - ETA: 0s - loss: 0.118 - ETA: 2s - loss: 0.406 - ETA: 2s - loss: 0.341 - ETA: 2s - loss: 0.339 - ETA: 2s - loss: 0.355 - ETA: 2s - loss: 0.328 - ETA: 2s - loss: 0.312 - ETA: 2s - loss: 0.349 - ETA: 2s - loss: 0.350 - ETA: 1s - loss: 0.407 - ETA: 1s - loss: 0.379 - ETA: 1s - loss: 0.368 - ETA: 1s - loss: 0.395 - ETA: 1s - loss: 0.376 - ETA: 1s - loss: 0.376 - ETA: 1s - loss: 0.360 - ETA: 1s - loss: 0.359 - ETA: 1s - loss: 0.359 - ETA: 1s - loss: 0.351 - ETA: 1s - loss: 0.354 - ETA: 1s - loss: 0.378 - ETA: 1s - loss: 0.380 - ETA: 1s - loss: 0.377 - ETA: 1s - loss: 0.379 - ETA: 1s - loss: 0.373 - ETA: 1s - loss: 0.377 - ETA: 1s - loss: 0.366 - ETA: 1s - loss: 0.362 - ETA: 0s - loss: 0.358 - ETA: 0s - loss: 0.354 - ETA: 0s - loss: 0.347 - ETA: 0s - loss: 0.363 - ETA: 0s - loss: 0.355 - ETA: 0s - loss: 0.355 - ETA: 0s - loss: 0.349 - ETA: 0s - loss: 0.354 - ETA: 0s - loss: 0.360 - ETA: 0s - loss: 0.366 - ETA: 0s - loss: 0.369 - ETA: 0s - loss: 0.373 - ETA: 0s - loss: 0.373 - ETA: 0s - loss: 0.377 - ETA: 0s - loss: 0.375 - ETA: 0s - loss: 0.378 - ETA: 0s - loss: 0.386 - ETA: 0s - loss: 0.384 - ETA: 0s - loss: 0.391 - ETA: 0s - loss: 0.392 - 3s 12ms/step - loss: 0.3924 - val_loss: 0.2308\n",
      "Epoch 10/200\n",
      "242/242 [==============================] - ETA: 0s - loss: 0.166 - ETA: 2s - loss: 0.518 - ETA: 2s - loss: 0.497 - ETA: 2s - loss: 0.381 - ETA: 2s - loss: 0.346 - ETA: 2s - loss: 0.297 - ETA: 2s - loss: 0.332 - ETA: 2s - loss: 0.347 - ETA: 2s - loss: 0.407 - ETA: 2s - loss: 0.407 - ETA: 2s - loss: 0.422 - ETA: 1s - loss: 0.425 - ETA: 1s - loss: 0.408 - ETA: 1s - loss: 0.393 - ETA: 1s - loss: 0.389 - ETA: 1s - loss: 0.371 - ETA: 1s - loss: 0.394 - ETA: 1s - loss: 0.399 - ETA: 1s - loss: 0.388 - ETA: 1s - loss: 0.399 - ETA: 1s - loss: 0.396 - ETA: 1s - loss: 0.389 - ETA: 1s - loss: 0.392 - ETA: 1s - loss: 0.398 - ETA: 1s - loss: 0.388 - ETA: 1s - loss: 0.382 - ETA: 1s - loss: 0.371 - ETA: 1s - loss: 0.367 - ETA: 1s - loss: 0.379 - ETA: 1s - loss: 0.373 - ETA: 0s - loss: 0.366 - ETA: 0s - loss: 0.358 - ETA: 0s - loss: 0.376 - ETA: 0s - loss: 0.372 - ETA: 0s - loss: 0.378 - ETA: 0s - loss: 0.376 - ETA: 0s - loss: 0.369 - ETA: 0s - loss: 0.363 - ETA: 0s - loss: 0.359 - ETA: 0s - loss: 0.358 - ETA: 0s - loss: 0.361 - ETA: 0s - loss: 0.371 - ETA: 0s - loss: 0.368 - ETA: 0s - loss: 0.370 - ETA: 0s - loss: 0.376 - ETA: 0s - loss: 0.375 - ETA: 0s - loss: 0.380 - ETA: 0s - loss: 0.384 - ETA: 0s - loss: 0.383 - ETA: 0s - loss: 0.391 - ETA: 0s - loss: 0.394 - 3s 13ms/step - loss: 0.3922 - val_loss: 0.2882\n",
      "Epoch 11/200\n",
      "242/242 [==============================] - ETA: 0s - loss: 0.225 - ETA: 2s - loss: 0.513 - ETA: 2s - loss: 0.410 - ETA: 2s - loss: 0.414 - ETA: 2s - loss: 0.458 - ETA: 2s - loss: 0.445 - ETA: 2s - loss: 0.422 - ETA: 2s - loss: 0.427 - ETA: 2s - loss: 0.453 - ETA: 2s - loss: 0.463 - ETA: 2s - loss: 0.452 - ETA: 2s - loss: 0.463 - ETA: 2s - loss: 0.473 - ETA: 2s - loss: 0.449 - ETA: 1s - loss: 0.437 - ETA: 1s - loss: 0.431 - ETA: 1s - loss: 0.449 - ETA: 1s - loss: 0.440 - ETA: 1s - loss: 0.444 - ETA: 1s - loss: 0.448 - ETA: 1s - loss: 0.456 - ETA: 1s - loss: 0.454 - ETA: 1s - loss: 0.449 - ETA: 1s - loss: 0.447 - ETA: 1s - loss: 0.439 - ETA: 1s - loss: 0.432 - ETA: 1s - loss: 0.432 - ETA: 1s - loss: 0.427 - ETA: 1s - loss: 0.422 - ETA: 1s - loss: 0.411 - ETA: 0s - loss: 0.412 - ETA: 0s - loss: 0.410 - ETA: 0s - loss: 0.406 - ETA: 0s - loss: 0.411 - ETA: 0s - loss: 0.410 - ETA: 0s - loss: 0.412 - ETA: 0s - loss: 0.414 - ETA: 0s - loss: 0.408 - ETA: 0s - loss: 0.402 - ETA: 0s - loss: 0.415 - ETA: 0s - loss: 0.412 - ETA: 0s - loss: 0.408 - ETA: 0s - loss: 0.405 - ETA: 0s - loss: 0.401 - ETA: 0s - loss: 0.398 - ETA: 0s - loss: 0.394 - ETA: 0s - loss: 0.396 - ETA: 0s - loss: 0.389 - ETA: 0s - loss: 0.392 - 3s 12ms/step - loss: 0.3901 - val_loss: 0.1757\n",
      "Epoch 12/200\n"
     ]
    },
    {
     "name": "stdout",
     "output_type": "stream",
     "text": [
      "242/242 [==============================] - ETA: 0s - loss: 0.076 - ETA: 2s - loss: 0.879 - ETA: 2s - loss: 0.815 - ETA: 2s - loss: 0.627 - ETA: 2s - loss: 0.635 - ETA: 2s - loss: 0.593 - ETA: 2s - loss: 0.561 - ETA: 2s - loss: 0.526 - ETA: 2s - loss: 0.505 - ETA: 2s - loss: 0.464 - ETA: 2s - loss: 0.430 - ETA: 2s - loss: 0.454 - ETA: 2s - loss: 0.450 - ETA: 1s - loss: 0.422 - ETA: 1s - loss: 0.408 - ETA: 1s - loss: 0.395 - ETA: 1s - loss: 0.429 - ETA: 1s - loss: 0.417 - ETA: 1s - loss: 0.407 - ETA: 1s - loss: 0.409 - ETA: 1s - loss: 0.415 - ETA: 1s - loss: 0.415 - ETA: 1s - loss: 0.409 - ETA: 1s - loss: 0.402 - ETA: 1s - loss: 0.398 - ETA: 1s - loss: 0.402 - ETA: 1s - loss: 0.407 - ETA: 1s - loss: 0.411 - ETA: 1s - loss: 0.406 - ETA: 1s - loss: 0.411 - ETA: 1s - loss: 0.409 - ETA: 0s - loss: 0.411 - ETA: 0s - loss: 0.409 - ETA: 0s - loss: 0.413 - ETA: 0s - loss: 0.418 - ETA: 0s - loss: 0.416 - ETA: 0s - loss: 0.418 - ETA: 0s - loss: 0.417 - ETA: 0s - loss: 0.417 - ETA: 0s - loss: 0.413 - ETA: 0s - loss: 0.412 - ETA: 0s - loss: 0.411 - ETA: 0s - loss: 0.412 - ETA: 0s - loss: 0.409 - ETA: 0s - loss: 0.402 - ETA: 0s - loss: 0.397 - ETA: 0s - loss: 0.394 - ETA: 0s - loss: 0.394 - ETA: 0s - loss: 0.391 - ETA: 0s - loss: 0.386 - ETA: 0s - loss: 0.388 - 3s 12ms/step - loss: 0.3936 - val_loss: 0.1718\n",
      "Epoch 13/200\n",
      "242/242 [==============================] - ETA: 0s - loss: 0.093 - ETA: 1s - loss: 0.303 - ETA: 2s - loss: 0.273 - ETA: 2s - loss: 0.392 - ETA: 2s - loss: 0.398 - ETA: 2s - loss: 0.391 - ETA: 2s - loss: 0.420 - ETA: 2s - loss: 0.415 - ETA: 1s - loss: 0.445 - ETA: 1s - loss: 0.442 - ETA: 1s - loss: 0.437 - ETA: 1s - loss: 0.444 - ETA: 1s - loss: 0.437 - ETA: 1s - loss: 0.424 - ETA: 1s - loss: 0.446 - ETA: 1s - loss: 0.427 - ETA: 1s - loss: 0.444 - ETA: 1s - loss: 0.443 - ETA: 1s - loss: 0.443 - ETA: 1s - loss: 0.434 - ETA: 1s - loss: 0.443 - ETA: 1s - loss: 0.439 - ETA: 1s - loss: 0.428 - ETA: 1s - loss: 0.422 - ETA: 1s - loss: 0.419 - ETA: 1s - loss: 0.408 - ETA: 1s - loss: 0.408 - ETA: 1s - loss: 0.408 - ETA: 0s - loss: 0.403 - ETA: 0s - loss: 0.392 - ETA: 0s - loss: 0.400 - ETA: 0s - loss: 0.398 - ETA: 0s - loss: 0.403 - ETA: 0s - loss: 0.406 - ETA: 0s - loss: 0.399 - ETA: 0s - loss: 0.392 - ETA: 0s - loss: 0.412 - ETA: 0s - loss: 0.404 - ETA: 0s - loss: 0.408 - ETA: 0s - loss: 0.407 - ETA: 0s - loss: 0.400 - ETA: 0s - loss: 0.406 - ETA: 0s - loss: 0.406 - ETA: 0s - loss: 0.403 - ETA: 0s - loss: 0.403 - ETA: 0s - loss: 0.402 - ETA: 0s - loss: 0.405 - 3s 12ms/step - loss: 0.4002 - val_loss: 0.2098\n",
      "Epoch 14/200\n",
      "242/242 [==============================] - ETA: 0s - loss: 0.848 - ETA: 2s - loss: 0.549 - ETA: 2s - loss: 0.490 - ETA: 2s - loss: 0.457 - ETA: 2s - loss: 0.464 - ETA: 2s - loss: 0.462 - ETA: 2s - loss: 0.428 - ETA: 2s - loss: 0.417 - ETA: 2s - loss: 0.397 - ETA: 2s - loss: 0.380 - ETA: 2s - loss: 0.383 - ETA: 1s - loss: 0.383 - ETA: 1s - loss: 0.374 - ETA: 1s - loss: 0.382 - ETA: 1s - loss: 0.382 - ETA: 1s - loss: 0.378 - ETA: 1s - loss: 0.370 - ETA: 1s - loss: 0.375 - ETA: 1s - loss: 0.388 - ETA: 1s - loss: 0.381 - ETA: 1s - loss: 0.374 - ETA: 1s - loss: 0.370 - ETA: 1s - loss: 0.364 - ETA: 1s - loss: 0.364 - ETA: 1s - loss: 0.371 - ETA: 1s - loss: 0.372 - ETA: 1s - loss: 0.366 - ETA: 1s - loss: 0.364 - ETA: 1s - loss: 0.367 - ETA: 0s - loss: 0.367 - ETA: 0s - loss: 0.367 - ETA: 0s - loss: 0.363 - ETA: 0s - loss: 0.359 - ETA: 0s - loss: 0.363 - ETA: 0s - loss: 0.370 - ETA: 0s - loss: 0.365 - ETA: 0s - loss: 0.368 - ETA: 0s - loss: 0.369 - ETA: 0s - loss: 0.368 - ETA: 0s - loss: 0.367 - ETA: 0s - loss: 0.369 - ETA: 0s - loss: 0.372 - ETA: 0s - loss: 0.369 - ETA: 0s - loss: 0.364 - ETA: 0s - loss: 0.359 - ETA: 0s - loss: 0.368 - ETA: 0s - loss: 0.379 - ETA: 0s - loss: 0.384 - 3s 12ms/step - loss: 0.3900 - val_loss: 0.2617\n",
      "Epoch 15/200\n",
      "242/242 [==============================] - ETA: 0s - loss: 0.201 - ETA: 2s - loss: 0.531 - ETA: 2s - loss: 0.562 - ETA: 2s - loss: 0.456 - ETA: 2s - loss: 0.467 - ETA: 2s - loss: 0.433 - ETA: 2s - loss: 0.425 - ETA: 2s - loss: 0.401 - ETA: 2s - loss: 0.364 - ETA: 2s - loss: 0.356 - ETA: 2s - loss: 0.341 - ETA: 2s - loss: 0.413 - ETA: 2s - loss: 0.432 - ETA: 1s - loss: 0.449 - ETA: 1s - loss: 0.437 - ETA: 1s - loss: 0.418 - ETA: 1s - loss: 0.402 - ETA: 1s - loss: 0.386 - ETA: 1s - loss: 0.387 - ETA: 1s - loss: 0.378 - ETA: 1s - loss: 0.390 - ETA: 1s - loss: 0.401 - ETA: 1s - loss: 0.403 - ETA: 1s - loss: 0.407 - ETA: 1s - loss: 0.408 - ETA: 1s - loss: 0.418 - ETA: 1s - loss: 0.410 - ETA: 1s - loss: 0.403 - ETA: 1s - loss: 0.412 - ETA: 1s - loss: 0.408 - ETA: 1s - loss: 0.407 - ETA: 0s - loss: 0.411 - ETA: 0s - loss: 0.411 - ETA: 0s - loss: 0.416 - ETA: 0s - loss: 0.408 - ETA: 0s - loss: 0.402 - ETA: 0s - loss: 0.408 - ETA: 0s - loss: 0.414 - ETA: 0s - loss: 0.425 - ETA: 0s - loss: 0.421 - ETA: 0s - loss: 0.418 - ETA: 0s - loss: 0.417 - ETA: 0s - loss: 0.418 - ETA: 0s - loss: 0.420 - ETA: 0s - loss: 0.419 - ETA: 0s - loss: 0.416 - ETA: 0s - loss: 0.414 - ETA: 0s - loss: 0.409 - ETA: 0s - loss: 0.405 - ETA: 0s - loss: 0.402 - 3s 12ms/step - loss: 0.3961 - val_loss: 0.1780\n",
      "Epoch 16/200\n",
      "242/242 [==============================] - ETA: 0s - loss: 0.777 - ETA: 2s - loss: 0.191 - ETA: 2s - loss: 0.135 - ETA: 2s - loss: 0.115 - ETA: 2s - loss: 0.308 - ETA: 2s - loss: 0.291 - ETA: 2s - loss: 0.282 - ETA: 2s - loss: 0.285 - ETA: 2s - loss: 0.325 - ETA: 2s - loss: 0.365 - ETA: 2s - loss: 0.370 - ETA: 1s - loss: 0.374 - ETA: 1s - loss: 0.361 - ETA: 1s - loss: 0.351 - ETA: 1s - loss: 0.352 - ETA: 1s - loss: 0.337 - ETA: 1s - loss: 0.353 - ETA: 1s - loss: 0.362 - ETA: 1s - loss: 0.366 - ETA: 1s - loss: 0.368 - ETA: 1s - loss: 0.373 - ETA: 1s - loss: 0.360 - ETA: 1s - loss: 0.383 - ETA: 1s - loss: 0.394 - ETA: 1s - loss: 0.394 - ETA: 1s - loss: 0.394 - ETA: 1s - loss: 0.401 - ETA: 1s - loss: 0.392 - ETA: 1s - loss: 0.394 - ETA: 1s - loss: 0.398 - ETA: 0s - loss: 0.390 - ETA: 0s - loss: 0.397 - ETA: 0s - loss: 0.397 - ETA: 0s - loss: 0.396 - ETA: 0s - loss: 0.405 - ETA: 0s - loss: 0.410 - ETA: 0s - loss: 0.404 - ETA: 0s - loss: 0.404 - ETA: 0s - loss: 0.398 - ETA: 0s - loss: 0.394 - ETA: 0s - loss: 0.387 - ETA: 0s - loss: 0.392 - ETA: 0s - loss: 0.389 - ETA: 0s - loss: 0.382 - ETA: 0s - loss: 0.382 - ETA: 0s - loss: 0.382 - ETA: 0s - loss: 0.387 - ETA: 0s - loss: 0.393 - ETA: 0s - loss: 0.395 - ETA: 0s - loss: 0.393 - 3s 12ms/step - loss: 0.3915 - val_loss: 0.2239\n",
      "Epoch 17/200\n",
      "242/242 [==============================] - ETA: 0s - loss: 0.128 - ETA: 2s - loss: 0.431 - ETA: 2s - loss: 0.451 - ETA: 2s - loss: 0.441 - ETA: 2s - loss: 0.399 - ETA: 2s - loss: 0.373 - ETA: 2s - loss: 0.383 - ETA: 2s - loss: 0.379 - ETA: 1s - loss: 0.388 - ETA: 1s - loss: 0.419 - ETA: 1s - loss: 0.429 - ETA: 1s - loss: 0.410 - ETA: 1s - loss: 0.405 - ETA: 1s - loss: 0.382 - ETA: 1s - loss: 0.401 - ETA: 1s - loss: 0.399 - ETA: 1s - loss: 0.402 - ETA: 1s - loss: 0.393 - ETA: 1s - loss: 0.406 - ETA: 1s - loss: 0.397 - ETA: 1s - loss: 0.407 - ETA: 1s - loss: 0.400 - ETA: 1s - loss: 0.389 - ETA: 1s - loss: 0.376 - ETA: 1s - loss: 0.369 - ETA: 1s - loss: 0.398 - ETA: 1s - loss: 0.404 - ETA: 0s - loss: 0.402 - ETA: 0s - loss: 0.398 - ETA: 0s - loss: 0.407 - ETA: 0s - loss: 0.402 - ETA: 0s - loss: 0.395 - ETA: 0s - loss: 0.387 - ETA: 0s - loss: 0.381 - ETA: 0s - loss: 0.392 - ETA: 0s - loss: 0.389 - ETA: 0s - loss: 0.393 - ETA: 0s - loss: 0.386 - ETA: 0s - loss: 0.392 - ETA: 0s - loss: 0.389 - ETA: 0s - loss: 0.393 - ETA: 0s - loss: 0.397 - ETA: 0s - loss: 0.398 - ETA: 0s - loss: 0.403 - ETA: 0s - loss: 0.400 - ETA: 0s - loss: 0.395 - ETA: 0s - loss: 0.397 - 3s 12ms/step - loss: 0.3966 - val_loss: 0.2026\n",
      "Epoch 18/200\n"
     ]
    },
    {
     "name": "stdout",
     "output_type": "stream",
     "text": [
      "242/242 [==============================] - ETA: 0s - loss: 1.544 - ETA: 2s - loss: 0.499 - ETA: 2s - loss: 0.441 - ETA: 2s - loss: 0.455 - ETA: 2s - loss: 0.446 - ETA: 2s - loss: 0.470 - ETA: 2s - loss: 0.448 - ETA: 2s - loss: 0.450 - ETA: 1s - loss: 0.428 - ETA: 1s - loss: 0.409 - ETA: 1s - loss: 0.415 - ETA: 1s - loss: 0.422 - ETA: 1s - loss: 0.436 - ETA: 1s - loss: 0.434 - ETA: 1s - loss: 0.429 - ETA: 1s - loss: 0.412 - ETA: 1s - loss: 0.403 - ETA: 1s - loss: 0.387 - ETA: 1s - loss: 0.373 - ETA: 1s - loss: 0.383 - ETA: 1s - loss: 0.380 - ETA: 1s - loss: 0.369 - ETA: 1s - loss: 0.359 - ETA: 1s - loss: 0.355 - ETA: 1s - loss: 0.361 - ETA: 1s - loss: 0.366 - ETA: 1s - loss: 0.393 - ETA: 1s - loss: 0.387 - ETA: 1s - loss: 0.391 - ETA: 0s - loss: 0.382 - ETA: 0s - loss: 0.392 - ETA: 0s - loss: 0.391 - ETA: 0s - loss: 0.395 - ETA: 0s - loss: 0.399 - ETA: 0s - loss: 0.400 - ETA: 0s - loss: 0.405 - ETA: 0s - loss: 0.403 - ETA: 0s - loss: 0.403 - ETA: 0s - loss: 0.402 - ETA: 0s - loss: 0.397 - ETA: 0s - loss: 0.398 - ETA: 0s - loss: 0.394 - ETA: 0s - loss: 0.388 - ETA: 0s - loss: 0.388 - ETA: 0s - loss: 0.389 - ETA: 0s - loss: 0.387 - 3s 12ms/step - loss: 0.3890 - val_loss: 0.1902\n",
      "Epoch 19/200\n",
      "242/242 [==============================] - ETA: 0s - loss: 0.093 - ETA: 2s - loss: 0.422 - ETA: 2s - loss: 0.278 - ETA: 2s - loss: 0.276 - ETA: 2s - loss: 0.253 - ETA: 2s - loss: 0.290 - ETA: 2s - loss: 0.303 - ETA: 2s - loss: 0.297 - ETA: 1s - loss: 0.325 - ETA: 1s - loss: 0.374 - ETA: 1s - loss: 0.364 - ETA: 1s - loss: 0.370 - ETA: 1s - loss: 0.369 - ETA: 1s - loss: 0.390 - ETA: 1s - loss: 0.378 - ETA: 1s - loss: 0.379 - ETA: 1s - loss: 0.365 - ETA: 1s - loss: 0.352 - ETA: 1s - loss: 0.349 - ETA: 1s - loss: 0.365 - ETA: 1s - loss: 0.356 - ETA: 1s - loss: 0.363 - ETA: 1s - loss: 0.377 - ETA: 1s - loss: 0.372 - ETA: 1s - loss: 0.363 - ETA: 1s - loss: 0.359 - ETA: 1s - loss: 0.370 - ETA: 0s - loss: 0.374 - ETA: 0s - loss: 0.373 - ETA: 0s - loss: 0.365 - ETA: 0s - loss: 0.358 - ETA: 0s - loss: 0.356 - ETA: 0s - loss: 0.348 - ETA: 0s - loss: 0.347 - ETA: 0s - loss: 0.358 - ETA: 0s - loss: 0.368 - ETA: 0s - loss: 0.377 - ETA: 0s - loss: 0.384 - ETA: 0s - loss: 0.384 - ETA: 0s - loss: 0.390 - ETA: 0s - loss: 0.397 - ETA: 0s - loss: 0.396 - ETA: 0s - loss: 0.392 - ETA: 0s - loss: 0.392 - ETA: 0s - loss: 0.394 - ETA: 0s - loss: 0.389 - 3s 11ms/step - loss: 0.3916 - val_loss: 0.2097\n",
      "Epoch 20/200\n",
      "242/242 [==============================] - ETA: 0s - loss: 0.132 - ETA: 1s - loss: 0.125 - ETA: 2s - loss: 0.208 - ETA: 2s - loss: 0.227 - ETA: 2s - loss: 0.351 - ETA: 2s - loss: 0.382 - ETA: 2s - loss: 0.384 - ETA: 2s - loss: 0.393 - ETA: 1s - loss: 0.396 - ETA: 1s - loss: 0.402 - ETA: 1s - loss: 0.409 - ETA: 1s - loss: 0.413 - ETA: 1s - loss: 0.413 - ETA: 1s - loss: 0.429 - ETA: 1s - loss: 0.411 - ETA: 1s - loss: 0.402 - ETA: 1s - loss: 0.423 - ETA: 1s - loss: 0.414 - ETA: 1s - loss: 0.407 - ETA: 1s - loss: 0.396 - ETA: 1s - loss: 0.414 - ETA: 1s - loss: 0.416 - ETA: 1s - loss: 0.419 - ETA: 1s - loss: 0.406 - ETA: 1s - loss: 0.405 - ETA: 1s - loss: 0.403 - ETA: 1s - loss: 0.403 - ETA: 1s - loss: 0.397 - ETA: 1s - loss: 0.387 - ETA: 1s - loss: 0.401 - ETA: 0s - loss: 0.391 - ETA: 0s - loss: 0.389 - ETA: 0s - loss: 0.391 - ETA: 0s - loss: 0.382 - ETA: 0s - loss: 0.392 - ETA: 0s - loss: 0.395 - ETA: 0s - loss: 0.400 - ETA: 0s - loss: 0.397 - ETA: 0s - loss: 0.396 - ETA: 0s - loss: 0.398 - ETA: 0s - loss: 0.393 - ETA: 0s - loss: 0.394 - ETA: 0s - loss: 0.397 - ETA: 0s - loss: 0.393 - ETA: 0s - loss: 0.388 - ETA: 0s - loss: 0.390 - ETA: 0s - loss: 0.386 - ETA: 0s - loss: 0.384 - 3s 12ms/step - loss: 0.3881 - val_loss: 0.1987\n",
      "Epoch 21/200\n",
      "242/242 [==============================] - ETA: 0s - loss: 0.118 - ETA: 2s - loss: 0.237 - ETA: 2s - loss: 0.235 - ETA: 2s - loss: 0.336 - ETA: 2s - loss: 0.342 - ETA: 2s - loss: 0.291 - ETA: 2s - loss: 0.321 - ETA: 2s - loss: 0.360 - ETA: 1s - loss: 0.372 - ETA: 1s - loss: 0.365 - ETA: 1s - loss: 0.395 - ETA: 1s - loss: 0.391 - ETA: 1s - loss: 0.395 - ETA: 1s - loss: 0.378 - ETA: 1s - loss: 0.368 - ETA: 1s - loss: 0.366 - ETA: 1s - loss: 0.360 - ETA: 1s - loss: 0.343 - ETA: 1s - loss: 0.338 - ETA: 1s - loss: 0.338 - ETA: 1s - loss: 0.351 - ETA: 1s - loss: 0.340 - ETA: 1s - loss: 0.359 - ETA: 1s - loss: 0.367 - ETA: 1s - loss: 0.361 - ETA: 1s - loss: 0.365 - ETA: 1s - loss: 0.357 - ETA: 0s - loss: 0.358 - ETA: 0s - loss: 0.357 - ETA: 0s - loss: 0.361 - ETA: 0s - loss: 0.352 - ETA: 0s - loss: 0.364 - ETA: 0s - loss: 0.360 - ETA: 0s - loss: 0.361 - ETA: 0s - loss: 0.359 - ETA: 0s - loss: 0.359 - ETA: 0s - loss: 0.373 - ETA: 0s - loss: 0.379 - ETA: 0s - loss: 0.376 - ETA: 0s - loss: 0.375 - ETA: 0s - loss: 0.388 - ETA: 0s - loss: 0.384 - ETA: 0s - loss: 0.381 - ETA: 0s - loss: 0.384 - ETA: 0s - loss: 0.383 - 3s 11ms/step - loss: 0.3882 - val_loss: 0.2228\n",
      "Epoch 22/200\n",
      "242/242 [==============================] - ETA: 0s - loss: 0.128 - ETA: 2s - loss: 0.369 - ETA: 2s - loss: 0.327 - ETA: 2s - loss: 0.291 - ETA: 2s - loss: 0.325 - ETA: 2s - loss: 0.280 - ETA: 2s - loss: 0.293 - ETA: 2s - loss: 0.280 - ETA: 1s - loss: 0.277 - ETA: 1s - loss: 0.293 - ETA: 1s - loss: 0.353 - ETA: 1s - loss: 0.344 - ETA: 1s - loss: 0.373 - ETA: 1s - loss: 0.400 - ETA: 1s - loss: 0.399 - ETA: 1s - loss: 0.392 - ETA: 1s - loss: 0.424 - ETA: 1s - loss: 0.430 - ETA: 1s - loss: 0.418 - ETA: 1s - loss: 0.413 - ETA: 1s - loss: 0.421 - ETA: 1s - loss: 0.419 - ETA: 1s - loss: 0.413 - ETA: 1s - loss: 0.408 - ETA: 1s - loss: 0.401 - ETA: 1s - loss: 0.416 - ETA: 1s - loss: 0.441 - ETA: 0s - loss: 0.432 - ETA: 0s - loss: 0.437 - ETA: 0s - loss: 0.442 - ETA: 0s - loss: 0.436 - ETA: 0s - loss: 0.432 - ETA: 0s - loss: 0.431 - ETA: 0s - loss: 0.427 - ETA: 0s - loss: 0.421 - ETA: 0s - loss: 0.411 - ETA: 0s - loss: 0.411 - ETA: 0s - loss: 0.401 - ETA: 0s - loss: 0.397 - ETA: 0s - loss: 0.395 - ETA: 0s - loss: 0.394 - ETA: 0s - loss: 0.391 - ETA: 0s - loss: 0.388 - ETA: 0s - loss: 0.381 - ETA: 0s - loss: 0.381 - 3s 11ms/step - loss: 0.3882 - val_loss: 0.1646\n",
      "Epoch 23/200\n",
      "242/242 [==============================] - ETA: 0s - loss: 0.959 - ETA: 2s - loss: 0.328 - ETA: 2s - loss: 0.363 - ETA: 2s - loss: 0.279 - ETA: 2s - loss: 0.279 - ETA: 2s - loss: 0.320 - ETA: 2s - loss: 0.329 - ETA: 2s - loss: 0.314 - ETA: 1s - loss: 0.340 - ETA: 1s - loss: 0.337 - ETA: 1s - loss: 0.327 - ETA: 1s - loss: 0.337 - ETA: 1s - loss: 0.320 - ETA: 1s - loss: 0.335 - ETA: 1s - loss: 0.357 - ETA: 1s - loss: 0.341 - ETA: 1s - loss: 0.343 - ETA: 1s - loss: 0.346 - ETA: 1s - loss: 0.348 - ETA: 1s - loss: 0.351 - ETA: 1s - loss: 0.353 - ETA: 1s - loss: 0.368 - ETA: 1s - loss: 0.363 - ETA: 1s - loss: 0.389 - ETA: 1s - loss: 0.382 - ETA: 1s - loss: 0.381 - ETA: 1s - loss: 0.383 - ETA: 0s - loss: 0.384 - ETA: 0s - loss: 0.384 - ETA: 0s - loss: 0.389 - ETA: 0s - loss: 0.390 - ETA: 0s - loss: 0.391 - ETA: 0s - loss: 0.394 - ETA: 0s - loss: 0.393 - ETA: 0s - loss: 0.389 - ETA: 0s - loss: 0.387 - ETA: 0s - loss: 0.394 - ETA: 0s - loss: 0.392 - ETA: 0s - loss: 0.387 - ETA: 0s - loss: 0.384 - ETA: 0s - loss: 0.387 - ETA: 0s - loss: 0.387 - ETA: 0s - loss: 0.382 - ETA: 0s - loss: 0.380 - ETA: 0s - loss: 0.377 - ETA: 0s - loss: 0.390 - 3s 11ms/step - loss: 0.3892 - val_loss: 0.2086\n",
      "Epoch 24/200\n"
     ]
    },
    {
     "name": "stdout",
     "output_type": "stream",
     "text": [
      "242/242 [==============================] - ETA: 0s - loss: 0.122 - ETA: 2s - loss: 0.127 - ETA: 2s - loss: 0.188 - ETA: 2s - loss: 0.228 - ETA: 2s - loss: 0.310 - ETA: 2s - loss: 0.295 - ETA: 2s - loss: 0.333 - ETA: 2s - loss: 0.372 - ETA: 2s - loss: 0.372 - ETA: 1s - loss: 0.347 - ETA: 1s - loss: 0.339 - ETA: 1s - loss: 0.320 - ETA: 1s - loss: 0.299 - ETA: 1s - loss: 0.284 - ETA: 1s - loss: 0.301 - ETA: 1s - loss: 0.301 - ETA: 1s - loss: 0.335 - ETA: 1s - loss: 0.352 - ETA: 1s - loss: 0.357 - ETA: 1s - loss: 0.369 - ETA: 1s - loss: 0.377 - ETA: 1s - loss: 0.398 - ETA: 1s - loss: 0.389 - ETA: 1s - loss: 0.401 - ETA: 1s - loss: 0.405 - ETA: 1s - loss: 0.397 - ETA: 1s - loss: 0.394 - ETA: 1s - loss: 0.389 - ETA: 0s - loss: 0.384 - ETA: 0s - loss: 0.386 - ETA: 0s - loss: 0.382 - ETA: 0s - loss: 0.382 - ETA: 0s - loss: 0.382 - ETA: 0s - loss: 0.383 - ETA: 0s - loss: 0.385 - ETA: 0s - loss: 0.391 - ETA: 0s - loss: 0.387 - ETA: 0s - loss: 0.384 - ETA: 0s - loss: 0.385 - ETA: 0s - loss: 0.383 - ETA: 0s - loss: 0.382 - ETA: 0s - loss: 0.386 - ETA: 0s - loss: 0.384 - ETA: 0s - loss: 0.382 - ETA: 0s - loss: 0.390 - ETA: 0s - loss: 0.391 - 3s 11ms/step - loss: 0.3906 - val_loss: 0.2205\n",
      "Epoch 25/200\n",
      "242/242 [==============================] - ETA: 0s - loss: 0.153 - ETA: 2s - loss: 0.372 - ETA: 2s - loss: 0.480 - ETA: 2s - loss: 0.460 - ETA: 2s - loss: 0.531 - ETA: 2s - loss: 0.488 - ETA: 2s - loss: 0.483 - ETA: 1s - loss: 0.485 - ETA: 1s - loss: 0.462 - ETA: 1s - loss: 0.449 - ETA: 1s - loss: 0.435 - ETA: 1s - loss: 0.475 - ETA: 1s - loss: 0.451 - ETA: 1s - loss: 0.442 - ETA: 1s - loss: 0.435 - ETA: 1s - loss: 0.459 - ETA: 1s - loss: 0.456 - ETA: 1s - loss: 0.453 - ETA: 1s - loss: 0.449 - ETA: 1s - loss: 0.440 - ETA: 1s - loss: 0.430 - ETA: 1s - loss: 0.425 - ETA: 1s - loss: 0.424 - ETA: 1s - loss: 0.428 - ETA: 1s - loss: 0.427 - ETA: 1s - loss: 0.416 - ETA: 0s - loss: 0.405 - ETA: 0s - loss: 0.404 - ETA: 0s - loss: 0.404 - ETA: 0s - loss: 0.405 - ETA: 0s - loss: 0.396 - ETA: 0s - loss: 0.397 - ETA: 0s - loss: 0.388 - ETA: 0s - loss: 0.385 - ETA: 0s - loss: 0.387 - ETA: 0s - loss: 0.387 - ETA: 0s - loss: 0.385 - ETA: 0s - loss: 0.378 - ETA: 0s - loss: 0.371 - ETA: 0s - loss: 0.366 - ETA: 0s - loss: 0.364 - ETA: 0s - loss: 0.369 - ETA: 0s - loss: 0.375 - ETA: 0s - loss: 0.390 - ETA: 0s - loss: 0.386 - 3s 11ms/step - loss: 0.3852 - val_loss: 0.2353\n",
      "Epoch 26/200\n",
      "242/242 [==============================] - ETA: 0s - loss: 0.160 - ETA: 2s - loss: 0.547 - ETA: 2s - loss: 0.520 - ETA: 2s - loss: 0.414 - ETA: 2s - loss: 0.419 - ETA: 2s - loss: 0.358 - ETA: 2s - loss: 0.316 - ETA: 2s - loss: 0.322 - ETA: 1s - loss: 0.296 - ETA: 1s - loss: 0.396 - ETA: 1s - loss: 0.393 - ETA: 1s - loss: 0.371 - ETA: 1s - loss: 0.373 - ETA: 1s - loss: 0.359 - ETA: 1s - loss: 0.362 - ETA: 1s - loss: 0.364 - ETA: 1s - loss: 0.350 - ETA: 1s - loss: 0.359 - ETA: 1s - loss: 0.375 - ETA: 1s - loss: 0.377 - ETA: 1s - loss: 0.384 - ETA: 1s - loss: 0.382 - ETA: 1s - loss: 0.394 - ETA: 1s - loss: 0.402 - ETA: 1s - loss: 0.398 - ETA: 1s - loss: 0.389 - ETA: 0s - loss: 0.394 - ETA: 0s - loss: 0.386 - ETA: 0s - loss: 0.385 - ETA: 0s - loss: 0.399 - ETA: 0s - loss: 0.391 - ETA: 0s - loss: 0.390 - ETA: 0s - loss: 0.385 - ETA: 0s - loss: 0.380 - ETA: 0s - loss: 0.385 - ETA: 0s - loss: 0.386 - ETA: 0s - loss: 0.391 - ETA: 0s - loss: 0.387 - ETA: 0s - loss: 0.392 - ETA: 0s - loss: 0.389 - ETA: 0s - loss: 0.389 - ETA: 0s - loss: 0.386 - ETA: 0s - loss: 0.388 - ETA: 0s - loss: 0.393 - ETA: 0s - loss: 0.388 - 3s 11ms/step - loss: 0.3904 - val_loss: 0.2082\n",
      "Epoch 27/200\n",
      "242/242 [==============================] - ETA: 0s - loss: 0.127 - ETA: 2s - loss: 0.418 - ETA: 2s - loss: 0.352 - ETA: 2s - loss: 0.387 - ETA: 2s - loss: 0.532 - ETA: 2s - loss: 0.578 - ETA: 2s - loss: 0.538 - ETA: 2s - loss: 0.538 - ETA: 1s - loss: 0.542 - ETA: 1s - loss: 0.525 - ETA: 1s - loss: 0.508 - ETA: 1s - loss: 0.492 - ETA: 1s - loss: 0.475 - ETA: 1s - loss: 0.468 - ETA: 1s - loss: 0.462 - ETA: 1s - loss: 0.442 - ETA: 1s - loss: 0.441 - ETA: 1s - loss: 0.467 - ETA: 1s - loss: 0.475 - ETA: 1s - loss: 0.471 - ETA: 1s - loss: 0.465 - ETA: 1s - loss: 0.468 - ETA: 1s - loss: 0.468 - ETA: 1s - loss: 0.468 - ETA: 1s - loss: 0.456 - ETA: 1s - loss: 0.445 - ETA: 1s - loss: 0.441 - ETA: 0s - loss: 0.430 - ETA: 0s - loss: 0.419 - ETA: 0s - loss: 0.413 - ETA: 0s - loss: 0.416 - ETA: 0s - loss: 0.412 - ETA: 0s - loss: 0.400 - ETA: 0s - loss: 0.400 - ETA: 0s - loss: 0.403 - ETA: 0s - loss: 0.400 - ETA: 0s - loss: 0.396 - ETA: 0s - loss: 0.398 - ETA: 0s - loss: 0.400 - ETA: 0s - loss: 0.393 - ETA: 0s - loss: 0.394 - ETA: 0s - loss: 0.400 - ETA: 0s - loss: 0.405 - ETA: 0s - loss: 0.399 - ETA: 0s - loss: 0.395 - ETA: 0s - loss: 0.389 - 3s 11ms/step - loss: 0.3899 - val_loss: 0.1960\n",
      "Epoch 28/200\n",
      "242/242 [==============================] - ETA: 0s - loss: 0.114 - ETA: 2s - loss: 0.446 - ETA: 2s - loss: 0.359 - ETA: 2s - loss: 0.386 - ETA: 2s - loss: 0.385 - ETA: 2s - loss: 0.411 - ETA: 2s - loss: 0.382 - ETA: 2s - loss: 0.375 - ETA: 1s - loss: 0.365 - ETA: 1s - loss: 0.379 - ETA: 1s - loss: 0.405 - ETA: 1s - loss: 0.403 - ETA: 1s - loss: 0.416 - ETA: 1s - loss: 0.427 - ETA: 1s - loss: 0.423 - ETA: 1s - loss: 0.423 - ETA: 1s - loss: 0.421 - ETA: 1s - loss: 0.415 - ETA: 1s - loss: 0.405 - ETA: 1s - loss: 0.401 - ETA: 1s - loss: 0.387 - ETA: 1s - loss: 0.395 - ETA: 1s - loss: 0.391 - ETA: 1s - loss: 0.393 - ETA: 1s - loss: 0.381 - ETA: 1s - loss: 0.381 - ETA: 1s - loss: 0.375 - ETA: 0s - loss: 0.366 - ETA: 0s - loss: 0.376 - ETA: 0s - loss: 0.369 - ETA: 0s - loss: 0.361 - ETA: 0s - loss: 0.366 - ETA: 0s - loss: 0.358 - ETA: 0s - loss: 0.359 - ETA: 0s - loss: 0.362 - ETA: 0s - loss: 0.387 - ETA: 0s - loss: 0.392 - ETA: 0s - loss: 0.395 - ETA: 0s - loss: 0.389 - ETA: 0s - loss: 0.387 - ETA: 0s - loss: 0.384 - ETA: 0s - loss: 0.397 - ETA: 0s - loss: 0.402 - ETA: 0s - loss: 0.399 - ETA: 0s - loss: 0.400 - ETA: 0s - loss: 0.397 - 3s 11ms/step - loss: 0.3976 - val_loss: 0.2189\n",
      "Epoch 29/200\n",
      "242/242 [==============================] - ETA: 0s - loss: 0.845 - ETA: 2s - loss: 0.253 - ETA: 2s - loss: 0.314 - ETA: 2s - loss: 0.326 - ETA: 2s - loss: 0.308 - ETA: 2s - loss: 0.328 - ETA: 2s - loss: 0.330 - ETA: 2s - loss: 0.356 - ETA: 1s - loss: 0.327 - ETA: 1s - loss: 0.361 - ETA: 1s - loss: 0.380 - ETA: 1s - loss: 0.392 - ETA: 1s - loss: 0.416 - ETA: 1s - loss: 0.405 - ETA: 1s - loss: 0.417 - ETA: 1s - loss: 0.415 - ETA: 1s - loss: 0.416 - ETA: 1s - loss: 0.408 - ETA: 1s - loss: 0.404 - ETA: 1s - loss: 0.400 - ETA: 1s - loss: 0.399 - ETA: 1s - loss: 0.385 - ETA: 1s - loss: 0.371 - ETA: 1s - loss: 0.365 - ETA: 1s - loss: 0.372 - ETA: 1s - loss: 0.384 - ETA: 1s - loss: 0.376 - ETA: 0s - loss: 0.376 - ETA: 0s - loss: 0.368 - ETA: 0s - loss: 0.365 - ETA: 0s - loss: 0.362 - ETA: 0s - loss: 0.372 - ETA: 0s - loss: 0.367 - ETA: 0s - loss: 0.373 - ETA: 0s - loss: 0.381 - ETA: 0s - loss: 0.377 - ETA: 0s - loss: 0.379 - ETA: 0s - loss: 0.379 - ETA: 0s - loss: 0.376 - ETA: 0s - loss: 0.379 - ETA: 0s - loss: 0.385 - ETA: 0s - loss: 0.383 - ETA: 0s - loss: 0.392 - ETA: 0s - loss: 0.390 - ETA: 0s - loss: 0.394 - ETA: 0s - loss: 0.389 - 3s 11ms/step - loss: 0.3872 - val_loss: 0.2163\n",
      "Epoch 30/200\n"
     ]
    },
    {
     "name": "stdout",
     "output_type": "stream",
     "text": [
      "242/242 [==============================] - ETA: 0s - loss: 0.139 - ETA: 2s - loss: 0.123 - ETA: 2s - loss: 0.365 - ETA: 2s - loss: 0.464 - ETA: 2s - loss: 0.415 - ETA: 2s - loss: 0.379 - ETA: 2s - loss: 0.420 - ETA: 2s - loss: 0.395 - ETA: 1s - loss: 0.411 - ETA: 1s - loss: 0.413 - ETA: 1s - loss: 0.387 - ETA: 1s - loss: 0.378 - ETA: 1s - loss: 0.388 - ETA: 1s - loss: 0.393 - ETA: 1s - loss: 0.403 - ETA: 1s - loss: 0.400 - ETA: 1s - loss: 0.390 - ETA: 1s - loss: 0.383 - ETA: 1s - loss: 0.382 - ETA: 1s - loss: 0.390 - ETA: 1s - loss: 0.383 - ETA: 1s - loss: 0.387 - ETA: 1s - loss: 0.386 - ETA: 1s - loss: 0.400 - ETA: 1s - loss: 0.396 - ETA: 1s - loss: 0.397 - ETA: 1s - loss: 0.388 - ETA: 0s - loss: 0.409 - ETA: 0s - loss: 0.411 - ETA: 0s - loss: 0.419 - ETA: 0s - loss: 0.421 - ETA: 0s - loss: 0.421 - ETA: 0s - loss: 0.419 - ETA: 0s - loss: 0.417 - ETA: 0s - loss: 0.416 - ETA: 0s - loss: 0.408 - ETA: 0s - loss: 0.404 - ETA: 0s - loss: 0.399 - ETA: 0s - loss: 0.404 - ETA: 0s - loss: 0.408 - ETA: 0s - loss: 0.400 - ETA: 0s - loss: 0.405 - ETA: 0s - loss: 0.402 - ETA: 0s - loss: 0.394 - ETA: 0s - loss: 0.391 - ETA: 0s - loss: 0.385 - 3s 11ms/step - loss: 0.3865 - val_loss: 0.1688\n",
      "Epoch 31/200\n",
      "242/242 [==============================] - ETA: 0s - loss: 0.079 - ETA: 2s - loss: 0.556 - ETA: 2s - loss: 0.369 - ETA: 2s - loss: 0.389 - ETA: 2s - loss: 0.416 - ETA: 2s - loss: 0.460 - ETA: 2s - loss: 0.428 - ETA: 2s - loss: 0.482 - ETA: 1s - loss: 0.458 - ETA: 1s - loss: 0.442 - ETA: 1s - loss: 0.436 - ETA: 1s - loss: 0.446 - ETA: 1s - loss: 0.427 - ETA: 1s - loss: 0.428 - ETA: 1s - loss: 0.412 - ETA: 1s - loss: 0.401 - ETA: 1s - loss: 0.397 - ETA: 1s - loss: 0.404 - ETA: 1s - loss: 0.409 - ETA: 1s - loss: 0.402 - ETA: 1s - loss: 0.396 - ETA: 1s - loss: 0.389 - ETA: 1s - loss: 0.382 - ETA: 1s - loss: 0.384 - ETA: 1s - loss: 0.390 - ETA: 1s - loss: 0.387 - ETA: 0s - loss: 0.387 - ETA: 0s - loss: 0.401 - ETA: 0s - loss: 0.397 - ETA: 0s - loss: 0.397 - ETA: 0s - loss: 0.398 - ETA: 0s - loss: 0.394 - ETA: 0s - loss: 0.394 - ETA: 0s - loss: 0.390 - ETA: 0s - loss: 0.384 - ETA: 0s - loss: 0.389 - ETA: 0s - loss: 0.383 - ETA: 0s - loss: 0.380 - ETA: 0s - loss: 0.381 - ETA: 0s - loss: 0.373 - ETA: 0s - loss: 0.373 - ETA: 0s - loss: 0.368 - ETA: 0s - loss: 0.375 - ETA: 0s - loss: 0.384 - ETA: 0s - loss: 0.390 - 3s 11ms/step - loss: 0.3893 - val_loss: 0.2142\n",
      "Epoch 32/200\n",
      "242/242 [==============================] - ETA: 0s - loss: 0.121 - ETA: 2s - loss: 0.419 - ETA: 2s - loss: 0.471 - ETA: 2s - loss: 0.529 - ETA: 2s - loss: 0.453 - ETA: 2s - loss: 0.467 - ETA: 2s - loss: 0.430 - ETA: 2s - loss: 0.395 - ETA: 1s - loss: 0.444 - ETA: 1s - loss: 0.469 - ETA: 1s - loss: 0.463 - ETA: 1s - loss: 0.461 - ETA: 1s - loss: 0.446 - ETA: 1s - loss: 0.435 - ETA: 1s - loss: 0.412 - ETA: 1s - loss: 0.395 - ETA: 1s - loss: 0.395 - ETA: 1s - loss: 0.406 - ETA: 1s - loss: 0.416 - ETA: 1s - loss: 0.408 - ETA: 1s - loss: 0.395 - ETA: 1s - loss: 0.392 - ETA: 1s - loss: 0.386 - ETA: 1s - loss: 0.383 - ETA: 1s - loss: 0.378 - ETA: 1s - loss: 0.385 - ETA: 0s - loss: 0.379 - ETA: 0s - loss: 0.379 - ETA: 0s - loss: 0.376 - ETA: 0s - loss: 0.379 - ETA: 0s - loss: 0.395 - ETA: 0s - loss: 0.394 - ETA: 0s - loss: 0.392 - ETA: 0s - loss: 0.393 - ETA: 0s - loss: 0.390 - ETA: 0s - loss: 0.386 - ETA: 0s - loss: 0.391 - ETA: 0s - loss: 0.384 - ETA: 0s - loss: 0.384 - ETA: 0s - loss: 0.390 - ETA: 0s - loss: 0.394 - ETA: 0s - loss: 0.393 - ETA: 0s - loss: 0.391 - ETA: 0s - loss: 0.389 - ETA: 0s - loss: 0.386 - 3s 11ms/step - loss: 0.3906 - val_loss: 0.2054\n",
      "Epoch 33/200\n",
      "242/242 [==============================] - ETA: 0s - loss: 0.115 - ETA: 2s - loss: 0.504 - ETA: 2s - loss: 0.485 - ETA: 2s - loss: 0.563 - ETA: 2s - loss: 0.522 - ETA: 2s - loss: 0.514 - ETA: 2s - loss: 0.452 - ETA: 2s - loss: 0.441 - ETA: 2s - loss: 0.447 - ETA: 1s - loss: 0.422 - ETA: 1s - loss: 0.438 - ETA: 1s - loss: 0.420 - ETA: 1s - loss: 0.431 - ETA: 1s - loss: 0.433 - ETA: 1s - loss: 0.420 - ETA: 1s - loss: 0.401 - ETA: 1s - loss: 0.402 - ETA: 1s - loss: 0.420 - ETA: 1s - loss: 0.416 - ETA: 1s - loss: 0.432 - ETA: 1s - loss: 0.424 - ETA: 1s - loss: 0.420 - ETA: 1s - loss: 0.428 - ETA: 1s - loss: 0.424 - ETA: 1s - loss: 0.424 - ETA: 1s - loss: 0.424 - ETA: 1s - loss: 0.418 - ETA: 0s - loss: 0.418 - ETA: 0s - loss: 0.412 - ETA: 0s - loss: 0.403 - ETA: 0s - loss: 0.397 - ETA: 0s - loss: 0.400 - ETA: 0s - loss: 0.394 - ETA: 0s - loss: 0.397 - ETA: 0s - loss: 0.399 - ETA: 0s - loss: 0.394 - ETA: 0s - loss: 0.391 - ETA: 0s - loss: 0.392 - ETA: 0s - loss: 0.395 - ETA: 0s - loss: 0.393 - ETA: 0s - loss: 0.390 - ETA: 0s - loss: 0.387 - ETA: 0s - loss: 0.379 - ETA: 0s - loss: 0.376 - ETA: 0s - loss: 0.381 - ETA: 0s - loss: 0.387 - 3s 11ms/step - loss: 0.3865 - val_loss: 0.1916\n",
      "Epoch 34/200\n",
      "242/242 [==============================] - ETA: 0s - loss: 0.814 - ETA: 2s - loss: 0.470 - ETA: 2s - loss: 0.561 - ETA: 2s - loss: 0.495 - ETA: 2s - loss: 0.457 - ETA: 2s - loss: 0.445 - ETA: 2s - loss: 0.408 - ETA: 2s - loss: 0.421 - ETA: 1s - loss: 0.430 - ETA: 1s - loss: 0.420 - ETA: 1s - loss: 0.425 - ETA: 1s - loss: 0.400 - ETA: 1s - loss: 0.410 - ETA: 1s - loss: 0.419 - ETA: 1s - loss: 0.403 - ETA: 1s - loss: 0.404 - ETA: 1s - loss: 0.421 - ETA: 1s - loss: 0.445 - ETA: 1s - loss: 0.430 - ETA: 1s - loss: 0.437 - ETA: 1s - loss: 0.431 - ETA: 1s - loss: 0.420 - ETA: 1s - loss: 0.410 - ETA: 1s - loss: 0.403 - ETA: 1s - loss: 0.399 - ETA: 1s - loss: 0.393 - ETA: 1s - loss: 0.399 - ETA: 0s - loss: 0.405 - ETA: 0s - loss: 0.398 - ETA: 0s - loss: 0.407 - ETA: 0s - loss: 0.402 - ETA: 0s - loss: 0.406 - ETA: 0s - loss: 0.401 - ETA: 0s - loss: 0.407 - ETA: 0s - loss: 0.408 - ETA: 0s - loss: 0.404 - ETA: 0s - loss: 0.411 - ETA: 0s - loss: 0.404 - ETA: 0s - loss: 0.403 - ETA: 0s - loss: 0.400 - ETA: 0s - loss: 0.395 - ETA: 0s - loss: 0.393 - ETA: 0s - loss: 0.393 - ETA: 0s - loss: 0.391 - ETA: 0s - loss: 0.389 - 3s 11ms/step - loss: 0.3863 - val_loss: 0.1801\n",
      "Epoch 35/200\n",
      "242/242 [==============================] - ETA: 0s - loss: 0.122 - ETA: 2s - loss: 0.659 - ETA: 2s - loss: 0.404 - ETA: 2s - loss: 0.389 - ETA: 2s - loss: 0.322 - ETA: 2s - loss: 0.396 - ETA: 2s - loss: 0.432 - ETA: 2s - loss: 0.405 - ETA: 1s - loss: 0.458 - ETA: 1s - loss: 0.432 - ETA: 1s - loss: 0.433 - ETA: 1s - loss: 0.410 - ETA: 1s - loss: 0.410 - ETA: 1s - loss: 0.409 - ETA: 1s - loss: 0.432 - ETA: 1s - loss: 0.432 - ETA: 1s - loss: 0.433 - ETA: 1s - loss: 0.420 - ETA: 1s - loss: 0.411 - ETA: 1s - loss: 0.422 - ETA: 1s - loss: 0.410 - ETA: 1s - loss: 0.408 - ETA: 1s - loss: 0.401 - ETA: 1s - loss: 0.394 - ETA: 1s - loss: 0.392 - ETA: 1s - loss: 0.394 - ETA: 1s - loss: 0.383 - ETA: 0s - loss: 0.392 - ETA: 0s - loss: 0.394 - ETA: 0s - loss: 0.396 - ETA: 0s - loss: 0.399 - ETA: 0s - loss: 0.395 - ETA: 0s - loss: 0.394 - ETA: 0s - loss: 0.398 - ETA: 0s - loss: 0.398 - ETA: 0s - loss: 0.398 - ETA: 0s - loss: 0.394 - ETA: 0s - loss: 0.388 - ETA: 0s - loss: 0.396 - ETA: 0s - loss: 0.392 - ETA: 0s - loss: 0.398 - ETA: 0s - loss: 0.396 - ETA: 0s - loss: 0.392 - ETA: 0s - loss: 0.386 - ETA: 0s - loss: 0.388 - 3s 11ms/step - loss: 0.3887 - val_loss: 0.1955\n",
      "Epoch 36/200\n"
     ]
    },
    {
     "name": "stdout",
     "output_type": "stream",
     "text": [
      "242/242 [==============================] - ETA: 0s - loss: 0.650 - ETA: 2s - loss: 0.508 - ETA: 2s - loss: 0.396 - ETA: 2s - loss: 0.363 - ETA: 2s - loss: 0.293 - ETA: 2s - loss: 0.409 - ETA: 2s - loss: 0.382 - ETA: 2s - loss: 0.411 - ETA: 2s - loss: 0.390 - ETA: 1s - loss: 0.384 - ETA: 1s - loss: 0.445 - ETA: 1s - loss: 0.417 - ETA: 1s - loss: 0.391 - ETA: 1s - loss: 0.381 - ETA: 1s - loss: 0.393 - ETA: 1s - loss: 0.405 - ETA: 1s - loss: 0.413 - ETA: 1s - loss: 0.406 - ETA: 1s - loss: 0.427 - ETA: 1s - loss: 0.415 - ETA: 1s - loss: 0.414 - ETA: 1s - loss: 0.406 - ETA: 1s - loss: 0.410 - ETA: 1s - loss: 0.396 - ETA: 1s - loss: 0.394 - ETA: 1s - loss: 0.398 - ETA: 1s - loss: 0.386 - ETA: 0s - loss: 0.380 - ETA: 0s - loss: 0.375 - ETA: 0s - loss: 0.382 - ETA: 0s - loss: 0.398 - ETA: 0s - loss: 0.397 - ETA: 0s - loss: 0.404 - ETA: 0s - loss: 0.395 - ETA: 0s - loss: 0.398 - ETA: 0s - loss: 0.399 - ETA: 0s - loss: 0.397 - ETA: 0s - loss: 0.399 - ETA: 0s - loss: 0.395 - ETA: 0s - loss: 0.392 - ETA: 0s - loss: 0.394 - ETA: 0s - loss: 0.390 - ETA: 0s - loss: 0.388 - ETA: 0s - loss: 0.386 - ETA: 0s - loss: 0.382 - ETA: 0s - loss: 0.377 - 3s 11ms/step - loss: 0.3885 - val_loss: 0.1897\n",
      "Epoch 37/200\n",
      "242/242 [==============================] - ETA: 0s - loss: 0.099 - ETA: 2s - loss: 0.505 - ETA: 2s - loss: 0.436 - ETA: 2s - loss: 0.448 - ETA: 2s - loss: 0.400 - ETA: 2s - loss: 0.385 - ETA: 2s - loss: 0.400 - ETA: 2s - loss: 0.381 - ETA: 1s - loss: 0.424 - ETA: 1s - loss: 0.424 - ETA: 1s - loss: 0.404 - ETA: 1s - loss: 0.400 - ETA: 1s - loss: 0.394 - ETA: 1s - loss: 0.390 - ETA: 1s - loss: 0.370 - ETA: 1s - loss: 0.354 - ETA: 1s - loss: 0.339 - ETA: 1s - loss: 0.341 - ETA: 1s - loss: 0.361 - ETA: 1s - loss: 0.348 - ETA: 1s - loss: 0.363 - ETA: 1s - loss: 0.349 - ETA: 1s - loss: 0.360 - ETA: 1s - loss: 0.366 - ETA: 1s - loss: 0.367 - ETA: 1s - loss: 0.371 - ETA: 0s - loss: 0.362 - ETA: 0s - loss: 0.360 - ETA: 0s - loss: 0.361 - ETA: 0s - loss: 0.364 - ETA: 0s - loss: 0.360 - ETA: 0s - loss: 0.353 - ETA: 0s - loss: 0.356 - ETA: 0s - loss: 0.356 - ETA: 0s - loss: 0.354 - ETA: 0s - loss: 0.366 - ETA: 0s - loss: 0.365 - ETA: 0s - loss: 0.375 - ETA: 0s - loss: 0.372 - ETA: 0s - loss: 0.378 - ETA: 0s - loss: 0.380 - ETA: 0s - loss: 0.384 - ETA: 0s - loss: 0.387 - ETA: 0s - loss: 0.386 - ETA: 0s - loss: 0.386 - 3s 11ms/step - loss: 0.3859 - val_loss: 0.2325\n",
      "Epoch 38/200\n",
      "242/242 [==============================] - ETA: 0s - loss: 0.164 - ETA: 2s - loss: 0.352 - ETA: 2s - loss: 0.252 - ETA: 2s - loss: 0.260 - ETA: 2s - loss: 0.295 - ETA: 2s - loss: 0.355 - ETA: 2s - loss: 0.341 - ETA: 2s - loss: 0.373 - ETA: 2s - loss: 0.367 - ETA: 1s - loss: 0.358 - ETA: 1s - loss: 0.378 - ETA: 1s - loss: 0.411 - ETA: 1s - loss: 0.390 - ETA: 1s - loss: 0.390 - ETA: 1s - loss: 0.404 - ETA: 1s - loss: 0.397 - ETA: 1s - loss: 0.394 - ETA: 1s - loss: 0.385 - ETA: 1s - loss: 0.377 - ETA: 1s - loss: 0.371 - ETA: 1s - loss: 0.390 - ETA: 1s - loss: 0.396 - ETA: 1s - loss: 0.408 - ETA: 1s - loss: 0.399 - ETA: 1s - loss: 0.409 - ETA: 1s - loss: 0.407 - ETA: 0s - loss: 0.396 - ETA: 0s - loss: 0.387 - ETA: 0s - loss: 0.383 - ETA: 0s - loss: 0.381 - ETA: 0s - loss: 0.371 - ETA: 0s - loss: 0.368 - ETA: 0s - loss: 0.369 - ETA: 0s - loss: 0.365 - ETA: 0s - loss: 0.376 - ETA: 0s - loss: 0.384 - ETA: 0s - loss: 0.380 - ETA: 0s - loss: 0.385 - ETA: 0s - loss: 0.384 - ETA: 0s - loss: 0.380 - ETA: 0s - loss: 0.375 - ETA: 0s - loss: 0.378 - ETA: 0s - loss: 0.386 - ETA: 0s - loss: 0.388 - ETA: 0s - loss: 0.388 - 3s 11ms/step - loss: 0.3878 - val_loss: 0.2283\n",
      "Epoch 39/200\n",
      "242/242 [==============================] - ETA: 0s - loss: 0.152 - ETA: 2s - loss: 0.668 - ETA: 2s - loss: 0.630 - ETA: 2s - loss: 0.488 - ETA: 2s - loss: 0.458 - ETA: 2s - loss: 0.446 - ETA: 2s - loss: 0.408 - ETA: 2s - loss: 0.416 - ETA: 2s - loss: 0.383 - ETA: 1s - loss: 0.384 - ETA: 1s - loss: 0.388 - ETA: 1s - loss: 0.380 - ETA: 1s - loss: 0.377 - ETA: 1s - loss: 0.368 - ETA: 1s - loss: 0.378 - ETA: 1s - loss: 0.361 - ETA: 1s - loss: 0.366 - ETA: 1s - loss: 0.388 - ETA: 1s - loss: 0.382 - ETA: 1s - loss: 0.380 - ETA: 1s - loss: 0.387 - ETA: 1s - loss: 0.406 - ETA: 1s - loss: 0.405 - ETA: 1s - loss: 0.395 - ETA: 1s - loss: 0.401 - ETA: 1s - loss: 0.404 - ETA: 1s - loss: 0.405 - ETA: 0s - loss: 0.399 - ETA: 0s - loss: 0.391 - ETA: 0s - loss: 0.395 - ETA: 0s - loss: 0.385 - ETA: 0s - loss: 0.391 - ETA: 0s - loss: 0.395 - ETA: 0s - loss: 0.404 - ETA: 0s - loss: 0.399 - ETA: 0s - loss: 0.396 - ETA: 0s - loss: 0.395 - ETA: 0s - loss: 0.399 - ETA: 0s - loss: 0.396 - ETA: 0s - loss: 0.398 - ETA: 0s - loss: 0.395 - ETA: 0s - loss: 0.388 - ETA: 0s - loss: 0.382 - ETA: 0s - loss: 0.381 - ETA: 0s - loss: 0.378 - ETA: 0s - loss: 0.386 - 3s 11ms/step - loss: 0.3861 - val_loss: 0.1848\n",
      "Epoch 40/200\n",
      "242/242 [==============================] - ETA: 0s - loss: 0.126 - ETA: 2s - loss: 0.337 - ETA: 2s - loss: 0.280 - ETA: 2s - loss: 0.254 - ETA: 2s - loss: 0.328 - ETA: 2s - loss: 0.350 - ETA: 2s - loss: 0.348 - ETA: 2s - loss: 0.389 - ETA: 1s - loss: 0.370 - ETA: 1s - loss: 0.370 - ETA: 1s - loss: 0.356 - ETA: 1s - loss: 0.355 - ETA: 1s - loss: 0.382 - ETA: 1s - loss: 0.405 - ETA: 1s - loss: 0.385 - ETA: 1s - loss: 0.380 - ETA: 1s - loss: 0.369 - ETA: 1s - loss: 0.364 - ETA: 1s - loss: 0.351 - ETA: 1s - loss: 0.360 - ETA: 1s - loss: 0.354 - ETA: 1s - loss: 0.352 - ETA: 1s - loss: 0.370 - ETA: 1s - loss: 0.376 - ETA: 1s - loss: 0.365 - ETA: 1s - loss: 0.362 - ETA: 1s - loss: 0.371 - ETA: 0s - loss: 0.369 - ETA: 0s - loss: 0.366 - ETA: 0s - loss: 0.362 - ETA: 0s - loss: 0.362 - ETA: 0s - loss: 0.364 - ETA: 0s - loss: 0.376 - ETA: 0s - loss: 0.375 - ETA: 0s - loss: 0.372 - ETA: 0s - loss: 0.379 - ETA: 0s - loss: 0.384 - ETA: 0s - loss: 0.389 - ETA: 0s - loss: 0.393 - ETA: 0s - loss: 0.390 - ETA: 0s - loss: 0.387 - ETA: 0s - loss: 0.386 - ETA: 0s - loss: 0.381 - ETA: 0s - loss: 0.389 - ETA: 0s - loss: 0.383 - ETA: 0s - loss: 0.384 - 3s 11ms/step - loss: 0.3842 - val_loss: 0.1990\n",
      "Epoch 41/200\n",
      "242/242 [==============================] - ETA: 0s - loss: 0.147 - ETA: 2s - loss: 0.490 - ETA: 2s - loss: 0.522 - ETA: 2s - loss: 0.490 - ETA: 2s - loss: 0.418 - ETA: 2s - loss: 0.397 - ETA: 2s - loss: 0.366 - ETA: 2s - loss: 0.359 - ETA: 1s - loss: 0.331 - ETA: 1s - loss: 0.358 - ETA: 1s - loss: 0.358 - ETA: 1s - loss: 0.473 - ETA: 1s - loss: 0.472 - ETA: 1s - loss: 0.463 - ETA: 1s - loss: 0.458 - ETA: 1s - loss: 0.442 - ETA: 1s - loss: 0.442 - ETA: 1s - loss: 0.450 - ETA: 1s - loss: 0.446 - ETA: 1s - loss: 0.442 - ETA: 1s - loss: 0.434 - ETA: 1s - loss: 0.431 - ETA: 1s - loss: 0.422 - ETA: 1s - loss: 0.411 - ETA: 1s - loss: 0.408 - ETA: 1s - loss: 0.400 - ETA: 1s - loss: 0.390 - ETA: 0s - loss: 0.399 - ETA: 0s - loss: 0.389 - ETA: 0s - loss: 0.380 - ETA: 0s - loss: 0.393 - ETA: 0s - loss: 0.394 - ETA: 0s - loss: 0.403 - ETA: 0s - loss: 0.401 - ETA: 0s - loss: 0.403 - ETA: 0s - loss: 0.398 - ETA: 0s - loss: 0.406 - ETA: 0s - loss: 0.406 - ETA: 0s - loss: 0.407 - ETA: 0s - loss: 0.401 - ETA: 0s - loss: 0.395 - ETA: 0s - loss: 0.401 - ETA: 0s - loss: 0.397 - ETA: 0s - loss: 0.397 - ETA: 0s - loss: 0.391 - ETA: 0s - loss: 0.386 - 3s 11ms/step - loss: 0.3879 - val_loss: 0.1850\n",
      "Epoch 42/200\n"
     ]
    },
    {
     "name": "stdout",
     "output_type": "stream",
     "text": [
      "242/242 [==============================] - ETA: 0s - loss: 0.124 - ETA: 2s - loss: 0.213 - ETA: 2s - loss: 0.200 - ETA: 2s - loss: 0.201 - ETA: 2s - loss: 0.224 - ETA: 2s - loss: 0.196 - ETA: 2s - loss: 0.309 - ETA: 2s - loss: 0.316 - ETA: 1s - loss: 0.320 - ETA: 1s - loss: 0.369 - ETA: 1s - loss: 0.367 - ETA: 1s - loss: 0.348 - ETA: 1s - loss: 0.383 - ETA: 1s - loss: 0.361 - ETA: 1s - loss: 0.355 - ETA: 1s - loss: 0.351 - ETA: 1s - loss: 0.345 - ETA: 1s - loss: 0.379 - ETA: 1s - loss: 0.383 - ETA: 1s - loss: 0.386 - ETA: 1s - loss: 0.408 - ETA: 1s - loss: 0.407 - ETA: 1s - loss: 0.405 - ETA: 1s - loss: 0.400 - ETA: 1s - loss: 0.406 - ETA: 1s - loss: 0.404 - ETA: 1s - loss: 0.395 - ETA: 0s - loss: 0.386 - ETA: 0s - loss: 0.378 - ETA: 0s - loss: 0.380 - ETA: 0s - loss: 0.389 - ETA: 0s - loss: 0.389 - ETA: 0s - loss: 0.381 - ETA: 0s - loss: 0.386 - ETA: 0s - loss: 0.392 - ETA: 0s - loss: 0.398 - ETA: 0s - loss: 0.404 - ETA: 0s - loss: 0.399 - ETA: 0s - loss: 0.393 - ETA: 0s - loss: 0.387 - ETA: 0s - loss: 0.383 - ETA: 0s - loss: 0.397 - ETA: 0s - loss: 0.405 - ETA: 0s - loss: 0.403 - ETA: 0s - loss: 0.399 - 3s 11ms/step - loss: 0.3956 - val_loss: 0.2086\n",
      "Epoch 43/200\n",
      "242/242 [==============================] - ETA: 0s - loss: 0.108 - ETA: 2s - loss: 0.396 - ETA: 2s - loss: 0.405 - ETA: 2s - loss: 0.403 - ETA: 2s - loss: 0.346 - ETA: 2s - loss: 0.398 - ETA: 2s - loss: 0.349 - ETA: 2s - loss: 0.348 - ETA: 1s - loss: 0.387 - ETA: 1s - loss: 0.358 - ETA: 1s - loss: 0.367 - ETA: 1s - loss: 0.356 - ETA: 1s - loss: 0.361 - ETA: 1s - loss: 0.343 - ETA: 1s - loss: 0.350 - ETA: 1s - loss: 0.339 - ETA: 1s - loss: 0.324 - ETA: 1s - loss: 0.331 - ETA: 1s - loss: 0.326 - ETA: 1s - loss: 0.320 - ETA: 1s - loss: 0.335 - ETA: 1s - loss: 0.331 - ETA: 1s - loss: 0.343 - ETA: 1s - loss: 0.341 - ETA: 1s - loss: 0.350 - ETA: 1s - loss: 0.355 - ETA: 1s - loss: 0.358 - ETA: 0s - loss: 0.353 - ETA: 0s - loss: 0.350 - ETA: 0s - loss: 0.350 - ETA: 0s - loss: 0.359 - ETA: 0s - loss: 0.370 - ETA: 0s - loss: 0.366 - ETA: 0s - loss: 0.370 - ETA: 0s - loss: 0.378 - ETA: 0s - loss: 0.378 - ETA: 0s - loss: 0.382 - ETA: 0s - loss: 0.383 - ETA: 0s - loss: 0.390 - ETA: 0s - loss: 0.397 - ETA: 0s - loss: 0.397 - ETA: 0s - loss: 0.401 - ETA: 0s - loss: 0.396 - ETA: 0s - loss: 0.392 - ETA: 0s - loss: 0.390 - 3s 11ms/step - loss: 0.3855 - val_loss: 0.2118\n",
      "Epoch 44/200\n",
      "242/242 [==============================] - ETA: 0s - loss: 0.129 - ETA: 2s - loss: 0.650 - ETA: 2s - loss: 0.680 - ETA: 2s - loss: 0.681 - ETA: 2s - loss: 0.557 - ETA: 2s - loss: 0.499 - ETA: 2s - loss: 0.494 - ETA: 2s - loss: 0.486 - ETA: 2s - loss: 0.443 - ETA: 2s - loss: 0.449 - ETA: 1s - loss: 0.437 - ETA: 1s - loss: 0.428 - ETA: 1s - loss: 0.414 - ETA: 1s - loss: 0.409 - ETA: 1s - loss: 0.396 - ETA: 1s - loss: 0.394 - ETA: 1s - loss: 0.410 - ETA: 1s - loss: 0.433 - ETA: 1s - loss: 0.419 - ETA: 1s - loss: 0.405 - ETA: 1s - loss: 0.412 - ETA: 1s - loss: 0.416 - ETA: 1s - loss: 0.414 - ETA: 1s - loss: 0.412 - ETA: 1s - loss: 0.416 - ETA: 1s - loss: 0.415 - ETA: 1s - loss: 0.412 - ETA: 1s - loss: 0.424 - ETA: 1s - loss: 0.418 - ETA: 0s - loss: 0.407 - ETA: 0s - loss: 0.418 - ETA: 0s - loss: 0.415 - ETA: 0s - loss: 0.421 - ETA: 0s - loss: 0.426 - ETA: 0s - loss: 0.424 - ETA: 0s - loss: 0.423 - ETA: 0s - loss: 0.419 - ETA: 0s - loss: 0.416 - ETA: 0s - loss: 0.419 - ETA: 0s - loss: 0.414 - ETA: 0s - loss: 0.406 - ETA: 0s - loss: 0.400 - ETA: 0s - loss: 0.394 - ETA: 0s - loss: 0.390 - ETA: 0s - loss: 0.387 - ETA: 0s - loss: 0.383 - ETA: 0s - loss: 0.380 - 3s 12ms/step - loss: 0.3856 - val_loss: 0.1753\n",
      "Epoch 45/200\n",
      "242/242 [==============================] - ETA: 0s - loss: 0.941 - ETA: 2s - loss: 0.603 - ETA: 2s - loss: 0.428 - ETA: 2s - loss: 0.382 - ETA: 2s - loss: 0.461 - ETA: 2s - loss: 0.479 - ETA: 2s - loss: 0.440 - ETA: 2s - loss: 0.392 - ETA: 2s - loss: 0.373 - ETA: 1s - loss: 0.347 - ETA: 1s - loss: 0.323 - ETA: 1s - loss: 0.323 - ETA: 1s - loss: 0.322 - ETA: 1s - loss: 0.379 - ETA: 1s - loss: 0.385 - ETA: 1s - loss: 0.376 - ETA: 1s - loss: 0.375 - ETA: 1s - loss: 0.375 - ETA: 1s - loss: 0.382 - ETA: 1s - loss: 0.390 - ETA: 1s - loss: 0.376 - ETA: 1s - loss: 0.366 - ETA: 1s - loss: 0.359 - ETA: 1s - loss: 0.360 - ETA: 1s - loss: 0.364 - ETA: 1s - loss: 0.382 - ETA: 1s - loss: 0.381 - ETA: 0s - loss: 0.385 - ETA: 0s - loss: 0.388 - ETA: 0s - loss: 0.391 - ETA: 0s - loss: 0.392 - ETA: 0s - loss: 0.392 - ETA: 0s - loss: 0.399 - ETA: 0s - loss: 0.399 - ETA: 0s - loss: 0.399 - ETA: 0s - loss: 0.399 - ETA: 0s - loss: 0.396 - ETA: 0s - loss: 0.403 - ETA: 0s - loss: 0.401 - ETA: 0s - loss: 0.394 - ETA: 0s - loss: 0.390 - ETA: 0s - loss: 0.394 - ETA: 0s - loss: 0.389 - ETA: 0s - loss: 0.386 - ETA: 0s - loss: 0.388 - ETA: 0s - loss: 0.388 - 3s 11ms/step - loss: 0.3888 - val_loss: 0.1967\n",
      "Epoch 46/200\n",
      "242/242 [==============================] - ETA: 0s - loss: 0.627 - ETA: 2s - loss: 0.401 - ETA: 2s - loss: 0.277 - ETA: 2s - loss: 0.227 - ETA: 2s - loss: 0.428 - ETA: 2s - loss: 0.366 - ETA: 2s - loss: 0.361 - ETA: 2s - loss: 0.373 - ETA: 1s - loss: 0.342 - ETA: 1s - loss: 0.322 - ETA: 1s - loss: 0.351 - ETA: 1s - loss: 0.339 - ETA: 1s - loss: 0.355 - ETA: 1s - loss: 0.368 - ETA: 1s - loss: 0.380 - ETA: 1s - loss: 0.382 - ETA: 1s - loss: 0.365 - ETA: 1s - loss: 0.394 - ETA: 1s - loss: 0.392 - ETA: 1s - loss: 0.383 - ETA: 1s - loss: 0.392 - ETA: 1s - loss: 0.381 - ETA: 1s - loss: 0.385 - ETA: 1s - loss: 0.380 - ETA: 1s - loss: 0.395 - ETA: 1s - loss: 0.385 - ETA: 1s - loss: 0.376 - ETA: 0s - loss: 0.375 - ETA: 0s - loss: 0.375 - ETA: 0s - loss: 0.387 - ETA: 0s - loss: 0.393 - ETA: 0s - loss: 0.390 - ETA: 0s - loss: 0.387 - ETA: 0s - loss: 0.383 - ETA: 0s - loss: 0.386 - ETA: 0s - loss: 0.407 - ETA: 0s - loss: 0.404 - ETA: 0s - loss: 0.406 - ETA: 0s - loss: 0.400 - ETA: 0s - loss: 0.398 - ETA: 0s - loss: 0.392 - ETA: 0s - loss: 0.395 - ETA: 0s - loss: 0.396 - ETA: 0s - loss: 0.390 - ETA: 0s - loss: 0.387 - ETA: 0s - loss: 0.389 - 3s 11ms/step - loss: 0.3852 - val_loss: 0.1838\n",
      "Epoch 47/200\n",
      "242/242 [==============================] - ETA: 0s - loss: 0.112 - ETA: 2s - loss: 0.391 - ETA: 2s - loss: 0.371 - ETA: 2s - loss: 0.315 - ETA: 2s - loss: 0.419 - ETA: 2s - loss: 0.362 - ETA: 2s - loss: 0.366 - ETA: 2s - loss: 0.431 - ETA: 1s - loss: 0.415 - ETA: 1s - loss: 0.418 - ETA: 1s - loss: 0.387 - ETA: 1s - loss: 0.382 - ETA: 1s - loss: 0.410 - ETA: 1s - loss: 0.389 - ETA: 1s - loss: 0.401 - ETA: 1s - loss: 0.405 - ETA: 1s - loss: 0.390 - ETA: 1s - loss: 0.399 - ETA: 1s - loss: 0.407 - ETA: 1s - loss: 0.399 - ETA: 1s - loss: 0.396 - ETA: 1s - loss: 0.391 - ETA: 1s - loss: 0.394 - ETA: 1s - loss: 0.396 - ETA: 1s - loss: 0.398 - ETA: 1s - loss: 0.399 - ETA: 1s - loss: 0.395 - ETA: 0s - loss: 0.394 - ETA: 0s - loss: 0.391 - ETA: 0s - loss: 0.384 - ETA: 0s - loss: 0.383 - ETA: 0s - loss: 0.378 - ETA: 0s - loss: 0.380 - ETA: 0s - loss: 0.371 - ETA: 0s - loss: 0.376 - ETA: 0s - loss: 0.381 - ETA: 0s - loss: 0.380 - ETA: 0s - loss: 0.380 - ETA: 0s - loss: 0.393 - ETA: 0s - loss: 0.387 - ETA: 0s - loss: 0.387 - ETA: 0s - loss: 0.390 - ETA: 0s - loss: 0.387 - ETA: 0s - loss: 0.392 - ETA: 0s - loss: 0.390 - ETA: 0s - loss: 0.384 - 3s 11ms/step - loss: 0.3848 - val_loss: 0.2181\n",
      "Epoch 48/200\n"
     ]
    },
    {
     "name": "stdout",
     "output_type": "stream",
     "text": [
      "242/242 [==============================] - ETA: 0s - loss: 0.134 - ETA: 2s - loss: 0.363 - ETA: 2s - loss: 0.255 - ETA: 2s - loss: 0.205 - ETA: 2s - loss: 0.281 - ETA: 2s - loss: 0.268 - ETA: 2s - loss: 0.310 - ETA: 2s - loss: 0.335 - ETA: 2s - loss: 0.394 - ETA: 1s - loss: 0.378 - ETA: 1s - loss: 0.355 - ETA: 1s - loss: 0.398 - ETA: 1s - loss: 0.395 - ETA: 1s - loss: 0.374 - ETA: 1s - loss: 0.356 - ETA: 1s - loss: 0.359 - ETA: 1s - loss: 0.378 - ETA: 1s - loss: 0.363 - ETA: 1s - loss: 0.375 - ETA: 1s - loss: 0.362 - ETA: 1s - loss: 0.361 - ETA: 1s - loss: 0.367 - ETA: 1s - loss: 0.367 - ETA: 1s - loss: 0.363 - ETA: 1s - loss: 0.365 - ETA: 1s - loss: 0.365 - ETA: 1s - loss: 0.360 - ETA: 0s - loss: 0.367 - ETA: 0s - loss: 0.362 - ETA: 0s - loss: 0.374 - ETA: 0s - loss: 0.371 - ETA: 0s - loss: 0.363 - ETA: 0s - loss: 0.360 - ETA: 0s - loss: 0.363 - ETA: 0s - loss: 0.370 - ETA: 0s - loss: 0.370 - ETA: 0s - loss: 0.369 - ETA: 0s - loss: 0.373 - ETA: 0s - loss: 0.376 - ETA: 0s - loss: 0.379 - ETA: 0s - loss: 0.374 - ETA: 0s - loss: 0.373 - ETA: 0s - loss: 0.378 - ETA: 0s - loss: 0.378 - ETA: 0s - loss: 0.379 - ETA: 0s - loss: 0.380 - 3s 11ms/step - loss: 0.3840 - val_loss: 0.2141\n",
      "Epoch 49/200\n",
      "242/242 [==============================] - ETA: 0s - loss: 0.983 - ETA: 2s - loss: 0.587 - ETA: 2s - loss: 0.599 - ETA: 2s - loss: 0.641 - ETA: 2s - loss: 0.610 - ETA: 2s - loss: 0.555 - ETA: 2s - loss: 0.510 - ETA: 2s - loss: 0.505 - ETA: 1s - loss: 0.484 - ETA: 1s - loss: 0.493 - ETA: 1s - loss: 0.481 - ETA: 1s - loss: 0.477 - ETA: 1s - loss: 0.471 - ETA: 1s - loss: 0.477 - ETA: 1s - loss: 0.466 - ETA: 1s - loss: 0.450 - ETA: 1s - loss: 0.437 - ETA: 1s - loss: 0.414 - ETA: 1s - loss: 0.422 - ETA: 1s - loss: 0.417 - ETA: 1s - loss: 0.412 - ETA: 1s - loss: 0.412 - ETA: 1s - loss: 0.414 - ETA: 1s - loss: 0.404 - ETA: 1s - loss: 0.410 - ETA: 1s - loss: 0.398 - ETA: 0s - loss: 0.408 - ETA: 0s - loss: 0.416 - ETA: 0s - loss: 0.411 - ETA: 0s - loss: 0.406 - ETA: 0s - loss: 0.398 - ETA: 0s - loss: 0.394 - ETA: 0s - loss: 0.393 - ETA: 0s - loss: 0.385 - ETA: 0s - loss: 0.386 - ETA: 0s - loss: 0.393 - ETA: 0s - loss: 0.389 - ETA: 0s - loss: 0.382 - ETA: 0s - loss: 0.375 - ETA: 0s - loss: 0.376 - ETA: 0s - loss: 0.377 - ETA: 0s - loss: 0.384 - ETA: 0s - loss: 0.387 - ETA: 0s - loss: 0.383 - ETA: 0s - loss: 0.387 - 3s 11ms/step - loss: 0.3851 - val_loss: 0.2151\n",
      "Epoch 50/200\n",
      "242/242 [==============================] - ETA: 0s - loss: 0.145 - ETA: 2s - loss: 0.264 - ETA: 2s - loss: 0.447 - ETA: 2s - loss: 0.473 - ETA: 2s - loss: 0.420 - ETA: 2s - loss: 0.385 - ETA: 2s - loss: 0.406 - ETA: 2s - loss: 0.395 - ETA: 1s - loss: 0.363 - ETA: 1s - loss: 0.368 - ETA: 1s - loss: 0.384 - ETA: 1s - loss: 0.395 - ETA: 1s - loss: 0.416 - ETA: 1s - loss: 0.408 - ETA: 1s - loss: 0.417 - ETA: 1s - loss: 0.406 - ETA: 1s - loss: 0.395 - ETA: 1s - loss: 0.390 - ETA: 1s - loss: 0.397 - ETA: 1s - loss: 0.410 - ETA: 1s - loss: 0.411 - ETA: 1s - loss: 0.402 - ETA: 1s - loss: 0.391 - ETA: 1s - loss: 0.397 - ETA: 1s - loss: 0.392 - ETA: 1s - loss: 0.391 - ETA: 1s - loss: 0.403 - ETA: 0s - loss: 0.392 - ETA: 0s - loss: 0.382 - ETA: 0s - loss: 0.381 - ETA: 0s - loss: 0.376 - ETA: 0s - loss: 0.385 - ETA: 0s - loss: 0.382 - ETA: 0s - loss: 0.384 - ETA: 0s - loss: 0.377 - ETA: 0s - loss: 0.375 - ETA: 0s - loss: 0.375 - ETA: 0s - loss: 0.381 - ETA: 0s - loss: 0.382 - ETA: 0s - loss: 0.384 - ETA: 0s - loss: 0.389 - ETA: 0s - loss: 0.383 - ETA: 0s - loss: 0.384 - ETA: 0s - loss: 0.380 - ETA: 0s - loss: 0.387 - ETA: 0s - loss: 0.383 - 3s 11ms/step - loss: 0.3849 - val_loss: 0.2117\n",
      "Epoch 51/200\n",
      "242/242 [==============================] - ETA: 0s - loss: 0.140 - ETA: 2s - loss: 0.504 - ETA: 2s - loss: 0.424 - ETA: 2s - loss: 0.374 - ETA: 2s - loss: 0.364 - ETA: 2s - loss: 0.319 - ETA: 2s - loss: 0.349 - ETA: 2s - loss: 0.309 - ETA: 1s - loss: 0.299 - ETA: 1s - loss: 0.380 - ETA: 1s - loss: 0.377 - ETA: 1s - loss: 0.379 - ETA: 1s - loss: 0.396 - ETA: 1s - loss: 0.394 - ETA: 1s - loss: 0.416 - ETA: 1s - loss: 0.426 - ETA: 1s - loss: 0.430 - ETA: 1s - loss: 0.428 - ETA: 1s - loss: 0.440 - ETA: 1s - loss: 0.439 - ETA: 1s - loss: 0.439 - ETA: 1s - loss: 0.429 - ETA: 1s - loss: 0.427 - ETA: 1s - loss: 0.416 - ETA: 1s - loss: 0.415 - ETA: 1s - loss: 0.413 - ETA: 1s - loss: 0.422 - ETA: 0s - loss: 0.425 - ETA: 0s - loss: 0.421 - ETA: 0s - loss: 0.419 - ETA: 0s - loss: 0.418 - ETA: 0s - loss: 0.414 - ETA: 0s - loss: 0.414 - ETA: 0s - loss: 0.408 - ETA: 0s - loss: 0.412 - ETA: 0s - loss: 0.410 - ETA: 0s - loss: 0.408 - ETA: 0s - loss: 0.401 - ETA: 0s - loss: 0.399 - ETA: 0s - loss: 0.392 - ETA: 0s - loss: 0.386 - ETA: 0s - loss: 0.393 - ETA: 0s - loss: 0.392 - ETA: 0s - loss: 0.386 - ETA: 0s - loss: 0.380 - 3s 11ms/step - loss: 0.3825 - val_loss: 0.1805\n",
      "Epoch 52/200\n",
      "242/242 [==============================] - ETA: 0s - loss: 0.080 - ETA: 2s - loss: 0.094 - ETA: 2s - loss: 0.251 - ETA: 2s - loss: 0.287 - ETA: 2s - loss: 0.452 - ETA: 2s - loss: 0.385 - ETA: 2s - loss: 0.365 - ETA: 2s - loss: 0.330 - ETA: 2s - loss: 0.341 - ETA: 1s - loss: 0.331 - ETA: 1s - loss: 0.338 - ETA: 1s - loss: 0.365 - ETA: 1s - loss: 0.369 - ETA: 1s - loss: 0.386 - ETA: 1s - loss: 0.392 - ETA: 1s - loss: 0.376 - ETA: 1s - loss: 0.379 - ETA: 1s - loss: 0.399 - ETA: 1s - loss: 0.388 - ETA: 1s - loss: 0.409 - ETA: 1s - loss: 0.408 - ETA: 1s - loss: 0.401 - ETA: 1s - loss: 0.397 - ETA: 1s - loss: 0.392 - ETA: 1s - loss: 0.387 - ETA: 1s - loss: 0.389 - ETA: 1s - loss: 0.396 - ETA: 1s - loss: 0.415 - ETA: 0s - loss: 0.412 - ETA: 0s - loss: 0.411 - ETA: 0s - loss: 0.406 - ETA: 0s - loss: 0.409 - ETA: 0s - loss: 0.400 - ETA: 0s - loss: 0.399 - ETA: 0s - loss: 0.392 - ETA: 0s - loss: 0.395 - ETA: 0s - loss: 0.394 - ETA: 0s - loss: 0.395 - ETA: 0s - loss: 0.393 - ETA: 0s - loss: 0.389 - ETA: 0s - loss: 0.383 - ETA: 0s - loss: 0.380 - ETA: 0s - loss: 0.381 - ETA: 0s - loss: 0.379 - ETA: 0s - loss: 0.376 - ETA: 0s - loss: 0.381 - ETA: 0s - loss: 0.381 - 3s 12ms/step - loss: 0.3838 - val_loss: 0.1931\n",
      "Epoch 53/200\n",
      "242/242 [==============================] - ETA: 0s - loss: 0.110 - ETA: 2s - loss: 0.306 - ETA: 2s - loss: 0.330 - ETA: 2s - loss: 0.372 - ETA: 2s - loss: 0.316 - ETA: 2s - loss: 0.273 - ETA: 2s - loss: 0.319 - ETA: 2s - loss: 0.308 - ETA: 1s - loss: 0.310 - ETA: 1s - loss: 0.339 - ETA: 1s - loss: 0.367 - ETA: 1s - loss: 0.347 - ETA: 1s - loss: 0.345 - ETA: 1s - loss: 0.349 - ETA: 1s - loss: 0.340 - ETA: 1s - loss: 0.350 - ETA: 1s - loss: 0.353 - ETA: 1s - loss: 0.346 - ETA: 1s - loss: 0.340 - ETA: 1s - loss: 0.334 - ETA: 1s - loss: 0.323 - ETA: 1s - loss: 0.324 - ETA: 1s - loss: 0.331 - ETA: 1s - loss: 0.344 - ETA: 1s - loss: 0.363 - ETA: 1s - loss: 0.379 - ETA: 1s - loss: 0.375 - ETA: 0s - loss: 0.367 - ETA: 0s - loss: 0.370 - ETA: 0s - loss: 0.373 - ETA: 0s - loss: 0.383 - ETA: 0s - loss: 0.388 - ETA: 0s - loss: 0.392 - ETA: 0s - loss: 0.389 - ETA: 0s - loss: 0.386 - ETA: 0s - loss: 0.399 - ETA: 0s - loss: 0.399 - ETA: 0s - loss: 0.399 - ETA: 0s - loss: 0.393 - ETA: 0s - loss: 0.390 - ETA: 0s - loss: 0.397 - ETA: 0s - loss: 0.397 - ETA: 0s - loss: 0.397 - ETA: 0s - loss: 0.393 - ETA: 0s - loss: 0.391 - ETA: 0s - loss: 0.391 - 3s 11ms/step - loss: 0.3934 - val_loss: 0.2075\n",
      "Epoch 54/200\n"
     ]
    },
    {
     "name": "stdout",
     "output_type": "stream",
     "text": [
      "242/242 [==============================] - ETA: 0s - loss: 0.105 - ETA: 2s - loss: 0.394 - ETA: 2s - loss: 0.391 - ETA: 2s - loss: 0.446 - ETA: 2s - loss: 0.398 - ETA: 2s - loss: 0.383 - ETA: 2s - loss: 0.385 - ETA: 2s - loss: 0.359 - ETA: 1s - loss: 0.364 - ETA: 1s - loss: 0.386 - ETA: 1s - loss: 0.385 - ETA: 1s - loss: 0.376 - ETA: 1s - loss: 0.374 - ETA: 1s - loss: 0.364 - ETA: 1s - loss: 0.378 - ETA: 1s - loss: 0.384 - ETA: 1s - loss: 0.400 - ETA: 1s - loss: 0.397 - ETA: 1s - loss: 0.395 - ETA: 1s - loss: 0.394 - ETA: 1s - loss: 0.397 - ETA: 1s - loss: 0.400 - ETA: 1s - loss: 0.403 - ETA: 1s - loss: 0.409 - ETA: 1s - loss: 0.403 - ETA: 1s - loss: 0.402 - ETA: 1s - loss: 0.390 - ETA: 0s - loss: 0.397 - ETA: 0s - loss: 0.388 - ETA: 0s - loss: 0.386 - ETA: 0s - loss: 0.393 - ETA: 0s - loss: 0.385 - ETA: 0s - loss: 0.385 - ETA: 0s - loss: 0.386 - ETA: 0s - loss: 0.390 - ETA: 0s - loss: 0.395 - ETA: 0s - loss: 0.391 - ETA: 0s - loss: 0.391 - ETA: 0s - loss: 0.388 - ETA: 0s - loss: 0.381 - ETA: 0s - loss: 0.380 - ETA: 0s - loss: 0.383 - ETA: 0s - loss: 0.385 - ETA: 0s - loss: 0.382 - ETA: 0s - loss: 0.382 - ETA: 0s - loss: 0.382 - 3s 11ms/step - loss: 0.3848 - val_loss: 0.1991\n",
      "Epoch 55/200\n",
      "242/242 [==============================] - ETA: 0s - loss: 0.128 - ETA: 2s - loss: 0.285 - ETA: 2s - loss: 0.344 - ETA: 2s - loss: 0.356 - ETA: 2s - loss: 0.354 - ETA: 2s - loss: 0.342 - ETA: 2s - loss: 0.354 - ETA: 2s - loss: 0.322 - ETA: 1s - loss: 0.345 - ETA: 1s - loss: 0.316 - ETA: 1s - loss: 0.346 - ETA: 1s - loss: 0.384 - ETA: 1s - loss: 0.380 - ETA: 1s - loss: 0.366 - ETA: 1s - loss: 0.356 - ETA: 1s - loss: 0.349 - ETA: 1s - loss: 0.356 - ETA: 1s - loss: 0.366 - ETA: 1s - loss: 0.391 - ETA: 1s - loss: 0.386 - ETA: 1s - loss: 0.389 - ETA: 1s - loss: 0.405 - ETA: 1s - loss: 0.401 - ETA: 1s - loss: 0.389 - ETA: 1s - loss: 0.401 - ETA: 1s - loss: 0.404 - ETA: 0s - loss: 0.399 - ETA: 0s - loss: 0.403 - ETA: 0s - loss: 0.397 - ETA: 0s - loss: 0.411 - ETA: 0s - loss: 0.404 - ETA: 0s - loss: 0.401 - ETA: 0s - loss: 0.398 - ETA: 0s - loss: 0.401 - ETA: 0s - loss: 0.398 - ETA: 0s - loss: 0.390 - ETA: 0s - loss: 0.395 - ETA: 0s - loss: 0.391 - ETA: 0s - loss: 0.395 - ETA: 0s - loss: 0.393 - ETA: 0s - loss: 0.393 - ETA: 0s - loss: 0.391 - ETA: 0s - loss: 0.392 - ETA: 0s - loss: 0.386 - ETA: 0s - loss: 0.384 - 3s 11ms/step - loss: 0.3832 - val_loss: 0.1966\n",
      "Epoch 56/200\n",
      "242/242 [==============================] - ETA: 0s - loss: 1.107 - ETA: 2s - loss: 0.434 - ETA: 2s - loss: 0.382 - ETA: 2s - loss: 0.330 - ETA: 2s - loss: 0.265 - ETA: 2s - loss: 0.297 - ETA: 2s - loss: 0.313 - ETA: 2s - loss: 0.300 - ETA: 2s - loss: 0.379 - ETA: 1s - loss: 0.370 - ETA: 1s - loss: 0.352 - ETA: 1s - loss: 0.342 - ETA: 1s - loss: 0.348 - ETA: 1s - loss: 0.328 - ETA: 1s - loss: 0.328 - ETA: 1s - loss: 0.336 - ETA: 1s - loss: 0.353 - ETA: 1s - loss: 0.361 - ETA: 1s - loss: 0.363 - ETA: 1s - loss: 0.359 - ETA: 1s - loss: 0.360 - ETA: 1s - loss: 0.350 - ETA: 1s - loss: 0.346 - ETA: 1s - loss: 0.335 - ETA: 1s - loss: 0.336 - ETA: 1s - loss: 0.346 - ETA: 1s - loss: 0.337 - ETA: 0s - loss: 0.356 - ETA: 0s - loss: 0.351 - ETA: 0s - loss: 0.359 - ETA: 0s - loss: 0.355 - ETA: 0s - loss: 0.363 - ETA: 0s - loss: 0.361 - ETA: 0s - loss: 0.367 - ETA: 0s - loss: 0.370 - ETA: 0s - loss: 0.371 - ETA: 0s - loss: 0.368 - ETA: 0s - loss: 0.365 - ETA: 0s - loss: 0.367 - ETA: 0s - loss: 0.361 - ETA: 0s - loss: 0.363 - ETA: 0s - loss: 0.369 - ETA: 0s - loss: 0.366 - ETA: 0s - loss: 0.373 - ETA: 0s - loss: 0.374 - 3s 11ms/step - loss: 0.3838 - val_loss: 0.2273\n",
      "Epoch 57/200\n",
      "242/242 [==============================] - ETA: 0s - loss: 1.178 - ETA: 2s - loss: 0.491 - ETA: 2s - loss: 0.341 - ETA: 2s - loss: 0.287 - ETA: 2s - loss: 0.269 - ETA: 2s - loss: 0.236 - ETA: 2s - loss: 0.300 - ETA: 2s - loss: 0.331 - ETA: 1s - loss: 0.344 - ETA: 1s - loss: 0.347 - ETA: 1s - loss: 0.333 - ETA: 1s - loss: 0.317 - ETA: 1s - loss: 0.323 - ETA: 1s - loss: 0.339 - ETA: 1s - loss: 0.335 - ETA: 1s - loss: 0.326 - ETA: 1s - loss: 0.376 - ETA: 1s - loss: 0.369 - ETA: 1s - loss: 0.378 - ETA: 1s - loss: 0.373 - ETA: 1s - loss: 0.380 - ETA: 1s - loss: 0.373 - ETA: 1s - loss: 0.368 - ETA: 1s - loss: 0.384 - ETA: 1s - loss: 0.393 - ETA: 1s - loss: 0.400 - ETA: 1s - loss: 0.403 - ETA: 0s - loss: 0.395 - ETA: 0s - loss: 0.392 - ETA: 0s - loss: 0.388 - ETA: 0s - loss: 0.392 - ETA: 0s - loss: 0.397 - ETA: 0s - loss: 0.395 - ETA: 0s - loss: 0.392 - ETA: 0s - loss: 0.391 - ETA: 0s - loss: 0.385 - ETA: 0s - loss: 0.389 - ETA: 0s - loss: 0.393 - ETA: 0s - loss: 0.388 - ETA: 0s - loss: 0.388 - ETA: 0s - loss: 0.391 - ETA: 0s - loss: 0.386 - ETA: 0s - loss: 0.386 - ETA: 0s - loss: 0.384 - ETA: 0s - loss: 0.391 - 3s 11ms/step - loss: 0.3877 - val_loss: 0.2049\n",
      "Epoch 58/200\n",
      "242/242 [==============================] - ETA: 0s - loss: 0.130 - ETA: 2s - loss: 0.400 - ETA: 2s - loss: 0.275 - ETA: 2s - loss: 0.413 - ETA: 2s - loss: 0.436 - ETA: 2s - loss: 0.412 - ETA: 2s - loss: 0.432 - ETA: 2s - loss: 0.407 - ETA: 1s - loss: 0.375 - ETA: 1s - loss: 0.348 - ETA: 1s - loss: 0.347 - ETA: 1s - loss: 0.369 - ETA: 1s - loss: 0.381 - ETA: 1s - loss: 0.400 - ETA: 1s - loss: 0.410 - ETA: 1s - loss: 0.400 - ETA: 1s - loss: 0.416 - ETA: 1s - loss: 0.406 - ETA: 1s - loss: 0.392 - ETA: 1s - loss: 0.404 - ETA: 1s - loss: 0.397 - ETA: 1s - loss: 0.392 - ETA: 1s - loss: 0.402 - ETA: 1s - loss: 0.399 - ETA: 1s - loss: 0.398 - ETA: 1s - loss: 0.387 - ETA: 1s - loss: 0.388 - ETA: 0s - loss: 0.395 - ETA: 0s - loss: 0.385 - ETA: 0s - loss: 0.388 - ETA: 0s - loss: 0.384 - ETA: 0s - loss: 0.389 - ETA: 0s - loss: 0.379 - ETA: 0s - loss: 0.392 - ETA: 0s - loss: 0.403 - ETA: 0s - loss: 0.402 - ETA: 0s - loss: 0.398 - ETA: 0s - loss: 0.395 - ETA: 0s - loss: 0.389 - ETA: 0s - loss: 0.391 - ETA: 0s - loss: 0.389 - ETA: 0s - loss: 0.387 - ETA: 0s - loss: 0.383 - ETA: 0s - loss: 0.382 - ETA: 0s - loss: 0.383 - ETA: 0s - loss: 0.382 - 3s 11ms/step - loss: 0.3837 - val_loss: 0.1844\n",
      "Epoch 59/200\n",
      "242/242 [==============================] - ETA: 0s - loss: 0.099 - ETA: 2s - loss: 0.189 - ETA: 2s - loss: 0.198 - ETA: 2s - loss: 0.289 - ETA: 2s - loss: 0.328 - ETA: 2s - loss: 0.305 - ETA: 2s - loss: 0.290 - ETA: 2s - loss: 0.332 - ETA: 2s - loss: 0.326 - ETA: 1s - loss: 0.407 - ETA: 1s - loss: 0.379 - ETA: 1s - loss: 0.366 - ETA: 1s - loss: 0.392 - ETA: 1s - loss: 0.382 - ETA: 1s - loss: 0.408 - ETA: 1s - loss: 0.406 - ETA: 1s - loss: 0.392 - ETA: 1s - loss: 0.420 - ETA: 1s - loss: 0.412 - ETA: 1s - loss: 0.415 - ETA: 1s - loss: 0.434 - ETA: 1s - loss: 0.428 - ETA: 1s - loss: 0.421 - ETA: 1s - loss: 0.415 - ETA: 1s - loss: 0.411 - ETA: 1s - loss: 0.405 - ETA: 1s - loss: 0.424 - ETA: 1s - loss: 0.418 - ETA: 0s - loss: 0.423 - ETA: 0s - loss: 0.425 - ETA: 0s - loss: 0.417 - ETA: 0s - loss: 0.413 - ETA: 0s - loss: 0.405 - ETA: 0s - loss: 0.400 - ETA: 0s - loss: 0.397 - ETA: 0s - loss: 0.394 - ETA: 0s - loss: 0.389 - ETA: 0s - loss: 0.384 - ETA: 0s - loss: 0.380 - ETA: 0s - loss: 0.382 - ETA: 0s - loss: 0.380 - ETA: 0s - loss: 0.373 - ETA: 0s - loss: 0.370 - ETA: 0s - loss: 0.381 - ETA: 0s - loss: 0.391 - ETA: 0s - loss: 0.385 - 3s 11ms/step - loss: 0.3826 - val_loss: 0.2009\n",
      "Epoch 60/200\n"
     ]
    },
    {
     "name": "stdout",
     "output_type": "stream",
     "text": [
      "242/242 [==============================] - ETA: 0s - loss: 0.126 - ETA: 2s - loss: 0.638 - ETA: 2s - loss: 0.547 - ETA: 2s - loss: 0.528 - ETA: 2s - loss: 0.445 - ETA: 2s - loss: 0.437 - ETA: 2s - loss: 0.410 - ETA: 2s - loss: 0.373 - ETA: 1s - loss: 0.404 - ETA: 1s - loss: 0.369 - ETA: 1s - loss: 0.379 - ETA: 1s - loss: 0.393 - ETA: 1s - loss: 0.402 - ETA: 1s - loss: 0.391 - ETA: 1s - loss: 0.376 - ETA: 1s - loss: 0.367 - ETA: 1s - loss: 0.350 - ETA: 1s - loss: 0.345 - ETA: 1s - loss: 0.339 - ETA: 1s - loss: 0.340 - ETA: 1s - loss: 0.349 - ETA: 1s - loss: 0.350 - ETA: 1s - loss: 0.347 - ETA: 1s - loss: 0.346 - ETA: 1s - loss: 0.357 - ETA: 1s - loss: 0.357 - ETA: 1s - loss: 0.364 - ETA: 0s - loss: 0.361 - ETA: 0s - loss: 0.366 - ETA: 0s - loss: 0.370 - ETA: 0s - loss: 0.364 - ETA: 0s - loss: 0.366 - ETA: 0s - loss: 0.363 - ETA: 0s - loss: 0.364 - ETA: 0s - loss: 0.364 - ETA: 0s - loss: 0.370 - ETA: 0s - loss: 0.374 - ETA: 0s - loss: 0.376 - ETA: 0s - loss: 0.370 - ETA: 0s - loss: 0.376 - ETA: 0s - loss: 0.372 - ETA: 0s - loss: 0.371 - ETA: 0s - loss: 0.367 - ETA: 0s - loss: 0.370 - ETA: 0s - loss: 0.378 - ETA: 0s - loss: 0.381 - 3s 11ms/step - loss: 0.3818 - val_loss: 0.2077\n",
      "Epoch 61/200\n",
      "242/242 [==============================] - ETA: 0s - loss: 0.123 - ETA: 2s - loss: 0.129 - ETA: 2s - loss: 0.217 - ETA: 2s - loss: 0.273 - ETA: 2s - loss: 0.259 - ETA: 2s - loss: 0.227 - ETA: 2s - loss: 0.270 - ETA: 2s - loss: 0.255 - ETA: 1s - loss: 0.283 - ETA: 1s - loss: 0.287 - ETA: 1s - loss: 0.306 - ETA: 1s - loss: 0.300 - ETA: 1s - loss: 0.286 - ETA: 1s - loss: 0.307 - ETA: 1s - loss: 0.304 - ETA: 1s - loss: 0.298 - ETA: 1s - loss: 0.323 - ETA: 1s - loss: 0.327 - ETA: 1s - loss: 0.339 - ETA: 1s - loss: 0.348 - ETA: 1s - loss: 0.338 - ETA: 1s - loss: 0.331 - ETA: 1s - loss: 0.332 - ETA: 1s - loss: 0.341 - ETA: 1s - loss: 0.346 - ETA: 1s - loss: 0.365 - ETA: 1s - loss: 0.363 - ETA: 0s - loss: 0.363 - ETA: 0s - loss: 0.364 - ETA: 0s - loss: 0.367 - ETA: 0s - loss: 0.362 - ETA: 0s - loss: 0.359 - ETA: 0s - loss: 0.357 - ETA: 0s - loss: 0.350 - ETA: 0s - loss: 0.343 - ETA: 0s - loss: 0.340 - ETA: 0s - loss: 0.346 - ETA: 0s - loss: 0.338 - ETA: 0s - loss: 0.342 - ETA: 0s - loss: 0.355 - ETA: 0s - loss: 0.358 - ETA: 0s - loss: 0.360 - ETA: 0s - loss: 0.361 - ETA: 0s - loss: 0.372 - ETA: 0s - loss: 0.380 - 3s 11ms/step - loss: 0.3818 - val_loss: 0.2411\n",
      "Epoch 62/200\n",
      "242/242 [==============================] - ETA: 0s - loss: 1.222 - ETA: 2s - loss: 0.514 - ETA: 2s - loss: 0.423 - ETA: 2s - loss: 0.390 - ETA: 2s - loss: 0.377 - ETA: 2s - loss: 0.396 - ETA: 2s - loss: 0.399 - ETA: 2s - loss: 0.405 - ETA: 1s - loss: 0.433 - ETA: 1s - loss: 0.414 - ETA: 1s - loss: 0.414 - ETA: 1s - loss: 0.414 - ETA: 1s - loss: 0.441 - ETA: 1s - loss: 0.449 - ETA: 1s - loss: 0.443 - ETA: 1s - loss: 0.463 - ETA: 1s - loss: 0.445 - ETA: 1s - loss: 0.439 - ETA: 1s - loss: 0.444 - ETA: 1s - loss: 0.437 - ETA: 1s - loss: 0.433 - ETA: 1s - loss: 0.423 - ETA: 1s - loss: 0.419 - ETA: 1s - loss: 0.429 - ETA: 1s - loss: 0.420 - ETA: 1s - loss: 0.409 - ETA: 1s - loss: 0.398 - ETA: 0s - loss: 0.395 - ETA: 0s - loss: 0.400 - ETA: 0s - loss: 0.396 - ETA: 0s - loss: 0.414 - ETA: 0s - loss: 0.414 - ETA: 0s - loss: 0.412 - ETA: 0s - loss: 0.406 - ETA: 0s - loss: 0.412 - ETA: 0s - loss: 0.412 - ETA: 0s - loss: 0.406 - ETA: 0s - loss: 0.401 - ETA: 0s - loss: 0.401 - ETA: 0s - loss: 0.395 - ETA: 0s - loss: 0.393 - ETA: 0s - loss: 0.391 - ETA: 0s - loss: 0.385 - ETA: 0s - loss: 0.384 - ETA: 0s - loss: 0.386 - ETA: 0s - loss: 0.383 - 3s 11ms/step - loss: 0.3836 - val_loss: 0.1864\n",
      "Epoch 63/200\n",
      "242/242 [==============================] - ETA: 0s - loss: 0.085 - ETA: 2s - loss: 0.436 - ETA: 2s - loss: 0.358 - ETA: 2s - loss: 0.341 - ETA: 2s - loss: 0.287 - ETA: 2s - loss: 0.291 - ETA: 2s - loss: 0.304 - ETA: 2s - loss: 0.330 - ETA: 2s - loss: 0.360 - ETA: 1s - loss: 0.346 - ETA: 1s - loss: 0.331 - ETA: 1s - loss: 0.312 - ETA: 1s - loss: 0.351 - ETA: 1s - loss: 0.345 - ETA: 1s - loss: 0.370 - ETA: 1s - loss: 0.382 - ETA: 1s - loss: 0.395 - ETA: 1s - loss: 0.400 - ETA: 1s - loss: 0.407 - ETA: 1s - loss: 0.397 - ETA: 1s - loss: 0.411 - ETA: 1s - loss: 0.407 - ETA: 1s - loss: 0.400 - ETA: 1s - loss: 0.400 - ETA: 1s - loss: 0.400 - ETA: 1s - loss: 0.392 - ETA: 1s - loss: 0.402 - ETA: 1s - loss: 0.421 - ETA: 0s - loss: 0.415 - ETA: 0s - loss: 0.415 - ETA: 0s - loss: 0.414 - ETA: 0s - loss: 0.409 - ETA: 0s - loss: 0.407 - ETA: 0s - loss: 0.405 - ETA: 0s - loss: 0.410 - ETA: 0s - loss: 0.413 - ETA: 0s - loss: 0.409 - ETA: 0s - loss: 0.409 - ETA: 0s - loss: 0.410 - ETA: 0s - loss: 0.406 - ETA: 0s - loss: 0.399 - ETA: 0s - loss: 0.391 - ETA: 0s - loss: 0.387 - ETA: 0s - loss: 0.383 - ETA: 0s - loss: 0.381 - ETA: 0s - loss: 0.375 - 3s 11ms/step - loss: 0.3832 - val_loss: 0.1781\n",
      "Epoch 64/200\n",
      "242/242 [==============================] - ETA: 0s - loss: 0.067 - ETA: 2s - loss: 0.078 - ETA: 2s - loss: 0.258 - ETA: 2s - loss: 0.198 - ETA: 2s - loss: 0.311 - ETA: 2s - loss: 0.358 - ETA: 2s - loss: 0.362 - ETA: 2s - loss: 0.409 - ETA: 1s - loss: 0.427 - ETA: 1s - loss: 0.431 - ETA: 1s - loss: 0.404 - ETA: 1s - loss: 0.404 - ETA: 1s - loss: 0.398 - ETA: 1s - loss: 0.394 - ETA: 1s - loss: 0.390 - ETA: 1s - loss: 0.407 - ETA: 1s - loss: 0.425 - ETA: 1s - loss: 0.430 - ETA: 1s - loss: 0.450 - ETA: 1s - loss: 0.441 - ETA: 1s - loss: 0.440 - ETA: 1s - loss: 0.439 - ETA: 1s - loss: 0.456 - ETA: 1s - loss: 0.452 - ETA: 1s - loss: 0.448 - ETA: 1s - loss: 0.450 - ETA: 1s - loss: 0.443 - ETA: 0s - loss: 0.437 - ETA: 0s - loss: 0.431 - ETA: 0s - loss: 0.422 - ETA: 0s - loss: 0.426 - ETA: 0s - loss: 0.417 - ETA: 0s - loss: 0.415 - ETA: 0s - loss: 0.411 - ETA: 0s - loss: 0.401 - ETA: 0s - loss: 0.398 - ETA: 0s - loss: 0.400 - ETA: 0s - loss: 0.409 - ETA: 0s - loss: 0.405 - ETA: 0s - loss: 0.404 - ETA: 0s - loss: 0.395 - ETA: 0s - loss: 0.392 - ETA: 0s - loss: 0.389 - ETA: 0s - loss: 0.388 - ETA: 0s - loss: 0.382 - ETA: 0s - loss: 0.382 - 3s 11ms/step - loss: 0.3826 - val_loss: 0.1784\n",
      "Epoch 65/200\n",
      "242/242 [==============================] - ETA: 0s - loss: 0.070 - ETA: 2s - loss: 0.238 - ETA: 2s - loss: 0.169 - ETA: 2s - loss: 0.274 - ETA: 2s - loss: 0.291 - ETA: 2s - loss: 0.362 - ETA: 2s - loss: 0.410 - ETA: 2s - loss: 0.456 - ETA: 1s - loss: 0.438 - ETA: 1s - loss: 0.401 - ETA: 1s - loss: 0.393 - ETA: 1s - loss: 0.413 - ETA: 1s - loss: 0.423 - ETA: 1s - loss: 0.420 - ETA: 1s - loss: 0.429 - ETA: 1s - loss: 0.419 - ETA: 1s - loss: 0.426 - ETA: 1s - loss: 0.427 - ETA: 1s - loss: 0.431 - ETA: 1s - loss: 0.419 - ETA: 1s - loss: 0.416 - ETA: 1s - loss: 0.406 - ETA: 1s - loss: 0.405 - ETA: 1s - loss: 0.394 - ETA: 1s - loss: 0.388 - ETA: 1s - loss: 0.391 - ETA: 1s - loss: 0.392 - ETA: 0s - loss: 0.393 - ETA: 0s - loss: 0.410 - ETA: 0s - loss: 0.401 - ETA: 0s - loss: 0.401 - ETA: 0s - loss: 0.397 - ETA: 0s - loss: 0.389 - ETA: 0s - loss: 0.390 - ETA: 0s - loss: 0.384 - ETA: 0s - loss: 0.388 - ETA: 0s - loss: 0.389 - ETA: 0s - loss: 0.386 - ETA: 0s - loss: 0.394 - ETA: 0s - loss: 0.386 - ETA: 0s - loss: 0.382 - ETA: 0s - loss: 0.385 - ETA: 0s - loss: 0.387 - ETA: 0s - loss: 0.388 - ETA: 0s - loss: 0.386 - 3s 11ms/step - loss: 0.3844 - val_loss: 0.2059\n",
      "Epoch 66/200\n"
     ]
    },
    {
     "name": "stdout",
     "output_type": "stream",
     "text": [
      "242/242 [==============================] - ETA: 0s - loss: 0.101 - ETA: 2s - loss: 0.417 - ETA: 2s - loss: 0.315 - ETA: 2s - loss: 0.287 - ETA: 2s - loss: 0.313 - ETA: 2s - loss: 0.404 - ETA: 2s - loss: 0.418 - ETA: 2s - loss: 0.401 - ETA: 1s - loss: 0.391 - ETA: 1s - loss: 0.378 - ETA: 1s - loss: 0.389 - ETA: 1s - loss: 0.412 - ETA: 1s - loss: 0.417 - ETA: 1s - loss: 0.404 - ETA: 1s - loss: 0.393 - ETA: 1s - loss: 0.383 - ETA: 1s - loss: 0.372 - ETA: 1s - loss: 0.373 - ETA: 1s - loss: 0.383 - ETA: 1s - loss: 0.384 - ETA: 1s - loss: 0.371 - ETA: 1s - loss: 0.379 - ETA: 1s - loss: 0.390 - ETA: 1s - loss: 0.390 - ETA: 1s - loss: 0.391 - ETA: 1s - loss: 0.391 - ETA: 1s - loss: 0.386 - ETA: 0s - loss: 0.380 - ETA: 0s - loss: 0.381 - ETA: 0s - loss: 0.385 - ETA: 0s - loss: 0.382 - ETA: 0s - loss: 0.374 - ETA: 0s - loss: 0.366 - ETA: 0s - loss: 0.365 - ETA: 0s - loss: 0.361 - ETA: 0s - loss: 0.357 - ETA: 0s - loss: 0.358 - ETA: 0s - loss: 0.364 - ETA: 0s - loss: 0.369 - ETA: 0s - loss: 0.369 - ETA: 0s - loss: 0.376 - ETA: 0s - loss: 0.379 - ETA: 0s - loss: 0.389 - ETA: 0s - loss: 0.386 - ETA: 0s - loss: 0.385 - ETA: 0s - loss: 0.386 - ETA: 0s - loss: 0.385 - 3s 11ms/step - loss: 0.3846 - val_loss: 0.2255\n",
      "Epoch 67/200\n",
      "242/242 [==============================] - ETA: 0s - loss: 0.160 - ETA: 2s - loss: 0.361 - ETA: 2s - loss: 0.259 - ETA: 2s - loss: 0.249 - ETA: 2s - loss: 0.329 - ETA: 2s - loss: 0.402 - ETA: 2s - loss: 0.357 - ETA: 2s - loss: 0.393 - ETA: 2s - loss: 0.415 - ETA: 1s - loss: 0.396 - ETA: 1s - loss: 0.381 - ETA: 1s - loss: 0.381 - ETA: 1s - loss: 0.361 - ETA: 1s - loss: 0.364 - ETA: 1s - loss: 0.359 - ETA: 1s - loss: 0.363 - ETA: 1s - loss: 0.345 - ETA: 1s - loss: 0.342 - ETA: 1s - loss: 0.342 - ETA: 1s - loss: 0.362 - ETA: 1s - loss: 0.376 - ETA: 1s - loss: 0.363 - ETA: 1s - loss: 0.352 - ETA: 1s - loss: 0.341 - ETA: 1s - loss: 0.344 - ETA: 1s - loss: 0.336 - ETA: 1s - loss: 0.338 - ETA: 0s - loss: 0.339 - ETA: 0s - loss: 0.331 - ETA: 0s - loss: 0.337 - ETA: 0s - loss: 0.339 - ETA: 0s - loss: 0.346 - ETA: 0s - loss: 0.348 - ETA: 0s - loss: 0.357 - ETA: 0s - loss: 0.359 - ETA: 0s - loss: 0.370 - ETA: 0s - loss: 0.372 - ETA: 0s - loss: 0.379 - ETA: 0s - loss: 0.378 - ETA: 0s - loss: 0.377 - ETA: 0s - loss: 0.385 - ETA: 0s - loss: 0.387 - ETA: 0s - loss: 0.384 - ETA: 0s - loss: 0.379 - ETA: 0s - loss: 0.382 - ETA: 0s - loss: 0.383 - 3s 11ms/step - loss: 0.3827 - val_loss: 0.1830\n",
      "Epoch 68/200\n",
      "242/242 [==============================] - ETA: 0s - loss: 2.057 - ETA: 2s - loss: 0.549 - ETA: 2s - loss: 0.532 - ETA: 2s - loss: 0.518 - ETA: 2s - loss: 0.522 - ETA: 2s - loss: 0.476 - ETA: 2s - loss: 0.472 - ETA: 2s - loss: 0.448 - ETA: 1s - loss: 0.428 - ETA: 1s - loss: 0.407 - ETA: 1s - loss: 0.371 - ETA: 1s - loss: 0.355 - ETA: 1s - loss: 0.391 - ETA: 1s - loss: 0.407 - ETA: 1s - loss: 0.407 - ETA: 1s - loss: 0.425 - ETA: 1s - loss: 0.409 - ETA: 1s - loss: 0.416 - ETA: 1s - loss: 0.427 - ETA: 1s - loss: 0.420 - ETA: 1s - loss: 0.423 - ETA: 1s - loss: 0.426 - ETA: 1s - loss: 0.419 - ETA: 1s - loss: 0.430 - ETA: 1s - loss: 0.434 - ETA: 1s - loss: 0.439 - ETA: 1s - loss: 0.433 - ETA: 0s - loss: 0.432 - ETA: 0s - loss: 0.435 - ETA: 0s - loss: 0.437 - ETA: 0s - loss: 0.435 - ETA: 0s - loss: 0.429 - ETA: 0s - loss: 0.428 - ETA: 0s - loss: 0.423 - ETA: 0s - loss: 0.414 - ETA: 0s - loss: 0.425 - ETA: 0s - loss: 0.425 - ETA: 0s - loss: 0.422 - ETA: 0s - loss: 0.421 - ETA: 0s - loss: 0.414 - ETA: 0s - loss: 0.412 - ETA: 0s - loss: 0.405 - ETA: 0s - loss: 0.404 - ETA: 0s - loss: 0.397 - ETA: 0s - loss: 0.393 - ETA: 0s - loss: 0.395 - 3s 11ms/step - loss: 0.3983 - val_loss: 0.1707\n",
      "Epoch 69/200\n",
      "242/242 [==============================] - ETA: 0s - loss: 1.182 - ETA: 2s - loss: 0.496 - ETA: 2s - loss: 0.546 - ETA: 2s - loss: 0.561 - ETA: 2s - loss: 0.516 - ETA: 2s - loss: 0.467 - ETA: 2s - loss: 0.460 - ETA: 2s - loss: 0.419 - ETA: 1s - loss: 0.394 - ETA: 1s - loss: 0.407 - ETA: 1s - loss: 0.425 - ETA: 1s - loss: 0.394 - ETA: 1s - loss: 0.389 - ETA: 1s - loss: 0.406 - ETA: 1s - loss: 0.427 - ETA: 1s - loss: 0.406 - ETA: 1s - loss: 0.402 - ETA: 1s - loss: 0.394 - ETA: 1s - loss: 0.381 - ETA: 1s - loss: 0.390 - ETA: 1s - loss: 0.412 - ETA: 1s - loss: 0.421 - ETA: 1s - loss: 0.433 - ETA: 1s - loss: 0.427 - ETA: 1s - loss: 0.424 - ETA: 1s - loss: 0.430 - ETA: 1s - loss: 0.419 - ETA: 0s - loss: 0.414 - ETA: 0s - loss: 0.411 - ETA: 0s - loss: 0.415 - ETA: 0s - loss: 0.409 - ETA: 0s - loss: 0.409 - ETA: 0s - loss: 0.419 - ETA: 0s - loss: 0.414 - ETA: 0s - loss: 0.410 - ETA: 0s - loss: 0.406 - ETA: 0s - loss: 0.407 - ETA: 0s - loss: 0.403 - ETA: 0s - loss: 0.395 - ETA: 0s - loss: 0.401 - ETA: 0s - loss: 0.393 - ETA: 0s - loss: 0.387 - ETA: 0s - loss: 0.388 - ETA: 0s - loss: 0.386 - ETA: 0s - loss: 0.387 - ETA: 0s - loss: 0.388 - 3s 11ms/step - loss: 0.3878 - val_loss: 0.1841\n",
      "Epoch 70/200\n",
      "242/242 [==============================] - ETA: 0s - loss: 0.096 - ETA: 2s - loss: 0.389 - ETA: 2s - loss: 0.493 - ETA: 2s - loss: 0.421 - ETA: 2s - loss: 0.389 - ETA: 2s - loss: 0.361 - ETA: 2s - loss: 0.402 - ETA: 2s - loss: 0.388 - ETA: 1s - loss: 0.407 - ETA: 1s - loss: 0.404 - ETA: 1s - loss: 0.397 - ETA: 1s - loss: 0.375 - ETA: 1s - loss: 0.373 - ETA: 1s - loss: 0.385 - ETA: 1s - loss: 0.367 - ETA: 1s - loss: 0.363 - ETA: 1s - loss: 0.352 - ETA: 1s - loss: 0.376 - ETA: 1s - loss: 0.370 - ETA: 1s - loss: 0.385 - ETA: 1s - loss: 0.390 - ETA: 1s - loss: 0.394 - ETA: 1s - loss: 0.394 - ETA: 1s - loss: 0.385 - ETA: 1s - loss: 0.385 - ETA: 1s - loss: 0.384 - ETA: 1s - loss: 0.383 - ETA: 0s - loss: 0.380 - ETA: 0s - loss: 0.384 - ETA: 0s - loss: 0.379 - ETA: 0s - loss: 0.379 - ETA: 0s - loss: 0.377 - ETA: 0s - loss: 0.372 - ETA: 0s - loss: 0.373 - ETA: 0s - loss: 0.372 - ETA: 0s - loss: 0.369 - ETA: 0s - loss: 0.374 - ETA: 0s - loss: 0.370 - ETA: 0s - loss: 0.366 - ETA: 0s - loss: 0.362 - ETA: 0s - loss: 0.371 - ETA: 0s - loss: 0.365 - ETA: 0s - loss: 0.369 - ETA: 0s - loss: 0.377 - ETA: 0s - loss: 0.385 - 3s 11ms/step - loss: 0.3850 - val_loss: 0.2325\n",
      "Epoch 71/200\n",
      "242/242 [==============================] - ETA: 0s - loss: 0.166 - ETA: 2s - loss: 0.498 - ETA: 2s - loss: 0.433 - ETA: 2s - loss: 0.399 - ETA: 2s - loss: 0.342 - ETA: 2s - loss: 0.357 - ETA: 2s - loss: 0.361 - ETA: 2s - loss: 0.398 - ETA: 2s - loss: 0.398 - ETA: 1s - loss: 0.400 - ETA: 1s - loss: 0.414 - ETA: 1s - loss: 0.400 - ETA: 1s - loss: 0.398 - ETA: 1s - loss: 0.379 - ETA: 1s - loss: 0.399 - ETA: 1s - loss: 0.400 - ETA: 1s - loss: 0.411 - ETA: 1s - loss: 0.406 - ETA: 1s - loss: 0.428 - ETA: 1s - loss: 0.426 - ETA: 1s - loss: 0.413 - ETA: 1s - loss: 0.411 - ETA: 1s - loss: 0.415 - ETA: 1s - loss: 0.409 - ETA: 1s - loss: 0.397 - ETA: 1s - loss: 0.391 - ETA: 1s - loss: 0.399 - ETA: 0s - loss: 0.393 - ETA: 0s - loss: 0.399 - ETA: 0s - loss: 0.398 - ETA: 0s - loss: 0.423 - ETA: 0s - loss: 0.421 - ETA: 0s - loss: 0.417 - ETA: 0s - loss: 0.409 - ETA: 0s - loss: 0.407 - ETA: 0s - loss: 0.401 - ETA: 0s - loss: 0.394 - ETA: 0s - loss: 0.393 - ETA: 0s - loss: 0.402 - ETA: 0s - loss: 0.397 - ETA: 0s - loss: 0.390 - ETA: 0s - loss: 0.384 - ETA: 0s - loss: 0.387 - ETA: 0s - loss: 0.384 - ETA: 0s - loss: 0.382 - 3s 11ms/step - loss: 0.4088 - val_loss: 0.1984\n",
      "Epoch 72/200\n"
     ]
    },
    {
     "name": "stdout",
     "output_type": "stream",
     "text": [
      "242/242 [==============================] - ETA: 0s - loss: 0.114 - ETA: 2s - loss: 0.360 - ETA: 2s - loss: 0.417 - ETA: 2s - loss: 0.387 - ETA: 2s - loss: 0.331 - ETA: 2s - loss: 0.296 - ETA: 2s - loss: 0.320 - ETA: 2s - loss: 0.339 - ETA: 1s - loss: 0.328 - ETA: 1s - loss: 0.303 - ETA: 1s - loss: 0.365 - ETA: 1s - loss: 0.389 - ETA: 1s - loss: 0.380 - ETA: 1s - loss: 0.382 - ETA: 1s - loss: 0.389 - ETA: 1s - loss: 0.402 - ETA: 1s - loss: 0.391 - ETA: 1s - loss: 0.394 - ETA: 1s - loss: 0.392 - ETA: 1s - loss: 0.384 - ETA: 1s - loss: 0.378 - ETA: 1s - loss: 0.397 - ETA: 1s - loss: 0.395 - ETA: 1s - loss: 0.395 - ETA: 1s - loss: 0.410 - ETA: 1s - loss: 0.409 - ETA: 1s - loss: 0.416 - ETA: 0s - loss: 0.407 - ETA: 0s - loss: 0.412 - ETA: 0s - loss: 0.409 - ETA: 0s - loss: 0.404 - ETA: 0s - loss: 0.403 - ETA: 0s - loss: 0.397 - ETA: 0s - loss: 0.392 - ETA: 0s - loss: 0.383 - ETA: 0s - loss: 0.383 - ETA: 0s - loss: 0.381 - ETA: 0s - loss: 0.373 - ETA: 0s - loss: 0.375 - ETA: 0s - loss: 0.381 - ETA: 0s - loss: 0.380 - ETA: 0s - loss: 0.374 - ETA: 0s - loss: 0.380 - ETA: 0s - loss: 0.373 - ETA: 0s - loss: 0.383 - ETA: 0s - loss: 0.385 - 3s 11ms/step - loss: 0.3859 - val_loss: 0.2241\n",
      "Epoch 73/200\n",
      "242/242 [==============================] - ETA: 0s - loss: 0.161 - ETA: 2s - loss: 0.232 - ETA: 2s - loss: 0.382 - ETA: 2s - loss: 0.423 - ETA: 2s - loss: 0.423 - ETA: 2s - loss: 0.362 - ETA: 2s - loss: 0.373 - ETA: 2s - loss: 0.380 - ETA: 1s - loss: 0.365 - ETA: 1s - loss: 0.350 - ETA: 1s - loss: 0.358 - ETA: 1s - loss: 0.337 - ETA: 1s - loss: 0.338 - ETA: 1s - loss: 0.330 - ETA: 1s - loss: 0.327 - ETA: 1s - loss: 0.310 - ETA: 1s - loss: 0.324 - ETA: 1s - loss: 0.330 - ETA: 1s - loss: 0.321 - ETA: 1s - loss: 0.329 - ETA: 1s - loss: 0.325 - ETA: 1s - loss: 0.315 - ETA: 1s - loss: 0.318 - ETA: 1s - loss: 0.309 - ETA: 1s - loss: 0.299 - ETA: 1s - loss: 0.315 - ETA: 1s - loss: 0.304 - ETA: 0s - loss: 0.313 - ETA: 0s - loss: 0.309 - ETA: 0s - loss: 0.317 - ETA: 0s - loss: 0.320 - ETA: 0s - loss: 0.327 - ETA: 0s - loss: 0.333 - ETA: 0s - loss: 0.332 - ETA: 0s - loss: 0.334 - ETA: 0s - loss: 0.345 - ETA: 0s - loss: 0.352 - ETA: 0s - loss: 0.354 - ETA: 0s - loss: 0.357 - ETA: 0s - loss: 0.360 - ETA: 0s - loss: 0.363 - ETA: 0s - loss: 0.362 - ETA: 0s - loss: 0.360 - ETA: 0s - loss: 0.361 - ETA: 0s - loss: 0.373 - ETA: 0s - loss: 0.378 - 3s 11ms/step - loss: 0.3791 - val_loss: 0.2451\n",
      "Epoch 74/200\n",
      "242/242 [==============================] - ETA: 0s - loss: 0.179 - ETA: 2s - loss: 0.385 - ETA: 2s - loss: 0.402 - ETA: 2s - loss: 0.362 - ETA: 2s - loss: 0.381 - ETA: 2s - loss: 0.379 - ETA: 2s - loss: 0.392 - ETA: 2s - loss: 0.395 - ETA: 1s - loss: 0.418 - ETA: 1s - loss: 0.416 - ETA: 1s - loss: 0.442 - ETA: 1s - loss: 0.427 - ETA: 1s - loss: 0.414 - ETA: 1s - loss: 0.411 - ETA: 1s - loss: 0.418 - ETA: 1s - loss: 0.429 - ETA: 1s - loss: 0.408 - ETA: 1s - loss: 0.415 - ETA: 1s - loss: 0.411 - ETA: 1s - loss: 0.435 - ETA: 1s - loss: 0.422 - ETA: 1s - loss: 0.414 - ETA: 1s - loss: 0.402 - ETA: 1s - loss: 0.395 - ETA: 1s - loss: 0.404 - ETA: 1s - loss: 0.391 - ETA: 1s - loss: 0.380 - ETA: 0s - loss: 0.373 - ETA: 0s - loss: 0.375 - ETA: 0s - loss: 0.371 - ETA: 0s - loss: 0.362 - ETA: 0s - loss: 0.370 - ETA: 0s - loss: 0.365 - ETA: 0s - loss: 0.370 - ETA: 0s - loss: 0.374 - ETA: 0s - loss: 0.378 - ETA: 0s - loss: 0.370 - ETA: 0s - loss: 0.376 - ETA: 0s - loss: 0.386 - ETA: 0s - loss: 0.391 - ETA: 0s - loss: 0.386 - ETA: 0s - loss: 0.381 - ETA: 0s - loss: 0.382 - ETA: 0s - loss: 0.382 - ETA: 0s - loss: 0.379 - 3s 11ms/step - loss: 0.3831 - val_loss: 0.2107\n",
      "Epoch 75/200\n",
      "242/242 [==============================] - ETA: 0s - loss: 0.116 - ETA: 2s - loss: 0.125 - ETA: 2s - loss: 0.331 - ETA: 2s - loss: 0.396 - ETA: 2s - loss: 0.408 - ETA: 2s - loss: 0.356 - ETA: 2s - loss: 0.330 - ETA: 2s - loss: 0.321 - ETA: 2s - loss: 0.309 - ETA: 1s - loss: 0.304 - ETA: 1s - loss: 0.307 - ETA: 1s - loss: 0.310 - ETA: 1s - loss: 0.293 - ETA: 1s - loss: 0.278 - ETA: 1s - loss: 0.295 - ETA: 1s - loss: 0.320 - ETA: 1s - loss: 0.333 - ETA: 1s - loss: 0.342 - ETA: 1s - loss: 0.334 - ETA: 1s - loss: 0.331 - ETA: 1s - loss: 0.333 - ETA: 1s - loss: 0.324 - ETA: 1s - loss: 0.337 - ETA: 1s - loss: 0.339 - ETA: 1s - loss: 0.349 - ETA: 1s - loss: 0.370 - ETA: 1s - loss: 0.370 - ETA: 0s - loss: 0.369 - ETA: 0s - loss: 0.369 - ETA: 0s - loss: 0.362 - ETA: 0s - loss: 0.378 - ETA: 0s - loss: 0.392 - ETA: 0s - loss: 0.390 - ETA: 0s - loss: 0.385 - ETA: 0s - loss: 0.382 - ETA: 0s - loss: 0.385 - ETA: 0s - loss: 0.400 - ETA: 0s - loss: 0.396 - ETA: 0s - loss: 0.395 - ETA: 0s - loss: 0.397 - ETA: 0s - loss: 0.391 - ETA: 0s - loss: 0.385 - ETA: 0s - loss: 0.382 - ETA: 0s - loss: 0.377 - ETA: 0s - loss: 0.378 - ETA: 0s - loss: 0.384 - 3s 11ms/step - loss: 0.3840 - val_loss: 0.1926\n",
      "Epoch 76/200\n",
      "242/242 [==============================] - ETA: 0s - loss: 1.189 - ETA: 2s - loss: 0.297 - ETA: 2s - loss: 0.381 - ETA: 2s - loss: 0.476 - ETA: 2s - loss: 0.456 - ETA: 2s - loss: 0.413 - ETA: 2s - loss: 0.386 - ETA: 2s - loss: 0.376 - ETA: 1s - loss: 0.392 - ETA: 1s - loss: 0.431 - ETA: 1s - loss: 0.404 - ETA: 1s - loss: 0.396 - ETA: 1s - loss: 0.396 - ETA: 1s - loss: 0.378 - ETA: 1s - loss: 0.366 - ETA: 1s - loss: 0.350 - ETA: 1s - loss: 0.342 - ETA: 1s - loss: 0.347 - ETA: 1s - loss: 0.370 - ETA: 1s - loss: 0.383 - ETA: 1s - loss: 0.376 - ETA: 1s - loss: 0.372 - ETA: 1s - loss: 0.362 - ETA: 1s - loss: 0.356 - ETA: 1s - loss: 0.359 - ETA: 1s - loss: 0.372 - ETA: 1s - loss: 0.372 - ETA: 0s - loss: 0.377 - ETA: 0s - loss: 0.368 - ETA: 0s - loss: 0.360 - ETA: 0s - loss: 0.362 - ETA: 0s - loss: 0.352 - ETA: 0s - loss: 0.350 - ETA: 0s - loss: 0.356 - ETA: 0s - loss: 0.365 - ETA: 0s - loss: 0.371 - ETA: 0s - loss: 0.376 - ETA: 0s - loss: 0.373 - ETA: 0s - loss: 0.366 - ETA: 0s - loss: 0.371 - ETA: 0s - loss: 0.371 - ETA: 0s - loss: 0.375 - ETA: 0s - loss: 0.373 - ETA: 0s - loss: 0.368 - ETA: 0s - loss: 0.365 - ETA: 0s - loss: 0.385 - 3s 11ms/step - loss: 0.3845 - val_loss: 0.2150\n",
      "Epoch 77/200\n",
      "242/242 [==============================] - ETA: 0s - loss: 0.144 - ETA: 2s - loss: 0.257 - ETA: 2s - loss: 0.269 - ETA: 2s - loss: 0.255 - ETA: 2s - loss: 0.309 - ETA: 2s - loss: 0.313 - ETA: 2s - loss: 0.384 - ETA: 2s - loss: 0.383 - ETA: 1s - loss: 0.366 - ETA: 1s - loss: 0.355 - ETA: 1s - loss: 0.363 - ETA: 1s - loss: 0.365 - ETA: 1s - loss: 0.356 - ETA: 1s - loss: 0.346 - ETA: 1s - loss: 0.336 - ETA: 1s - loss: 0.336 - ETA: 1s - loss: 0.336 - ETA: 1s - loss: 0.323 - ETA: 1s - loss: 0.317 - ETA: 1s - loss: 0.313 - ETA: 1s - loss: 0.318 - ETA: 1s - loss: 0.312 - ETA: 1s - loss: 0.320 - ETA: 1s - loss: 0.329 - ETA: 1s - loss: 0.320 - ETA: 1s - loss: 0.320 - ETA: 1s - loss: 0.336 - ETA: 0s - loss: 0.330 - ETA: 0s - loss: 0.341 - ETA: 0s - loss: 0.334 - ETA: 0s - loss: 0.339 - ETA: 0s - loss: 0.369 - ETA: 0s - loss: 0.366 - ETA: 0s - loss: 0.361 - ETA: 0s - loss: 0.364 - ETA: 0s - loss: 0.364 - ETA: 0s - loss: 0.362 - ETA: 0s - loss: 0.363 - ETA: 0s - loss: 0.361 - ETA: 0s - loss: 0.362 - ETA: 0s - loss: 0.360 - ETA: 0s - loss: 0.360 - ETA: 0s - loss: 0.374 - ETA: 0s - loss: 0.376 - ETA: 0s - loss: 0.377 - ETA: 0s - loss: 0.383 - 3s 11ms/step - loss: 0.3822 - val_loss: 0.2326\n",
      "Epoch 78/200\n"
     ]
    },
    {
     "name": "stdout",
     "output_type": "stream",
     "text": [
      "242/242 [==============================] - ETA: 0s - loss: 0.792 - ETA: 2s - loss: 0.615 - ETA: 2s - loss: 0.413 - ETA: 2s - loss: 0.443 - ETA: 2s - loss: 0.366 - ETA: 2s - loss: 0.355 - ETA: 2s - loss: 0.347 - ETA: 2s - loss: 0.349 - ETA: 1s - loss: 0.419 - ETA: 1s - loss: 0.390 - ETA: 1s - loss: 0.406 - ETA: 1s - loss: 0.415 - ETA: 1s - loss: 0.418 - ETA: 1s - loss: 0.399 - ETA: 1s - loss: 0.397 - ETA: 1s - loss: 0.397 - ETA: 1s - loss: 0.388 - ETA: 1s - loss: 0.390 - ETA: 1s - loss: 0.373 - ETA: 1s - loss: 0.360 - ETA: 1s - loss: 0.374 - ETA: 1s - loss: 0.391 - ETA: 1s - loss: 0.405 - ETA: 1s - loss: 0.405 - ETA: 1s - loss: 0.397 - ETA: 1s - loss: 0.407 - ETA: 1s - loss: 0.404 - ETA: 0s - loss: 0.399 - ETA: 0s - loss: 0.403 - ETA: 0s - loss: 0.399 - ETA: 0s - loss: 0.398 - ETA: 0s - loss: 0.397 - ETA: 0s - loss: 0.389 - ETA: 0s - loss: 0.390 - ETA: 0s - loss: 0.396 - ETA: 0s - loss: 0.390 - ETA: 0s - loss: 0.400 - ETA: 0s - loss: 0.393 - ETA: 0s - loss: 0.392 - ETA: 0s - loss: 0.394 - ETA: 0s - loss: 0.390 - ETA: 0s - loss: 0.390 - ETA: 0s - loss: 0.395 - ETA: 0s - loss: 0.389 - ETA: 0s - loss: 0.386 - ETA: 0s - loss: 0.383 - 3s 11ms/step - loss: 0.3827 - val_loss: 0.1924\n",
      "Epoch 79/200\n",
      "242/242 [==============================] - ETA: 0s - loss: 0.129 - ETA: 2s - loss: 0.427 - ETA: 2s - loss: 0.281 - ETA: 2s - loss: 0.340 - ETA: 2s - loss: 0.329 - ETA: 2s - loss: 0.403 - ETA: 2s - loss: 0.355 - ETA: 2s - loss: 0.355 - ETA: 2s - loss: 0.385 - ETA: 1s - loss: 0.356 - ETA: 1s - loss: 0.339 - ETA: 1s - loss: 0.358 - ETA: 1s - loss: 0.336 - ETA: 1s - loss: 0.354 - ETA: 1s - loss: 0.370 - ETA: 1s - loss: 0.372 - ETA: 1s - loss: 0.364 - ETA: 1s - loss: 0.361 - ETA: 1s - loss: 0.364 - ETA: 1s - loss: 0.369 - ETA: 1s - loss: 0.362 - ETA: 1s - loss: 0.376 - ETA: 1s - loss: 0.386 - ETA: 1s - loss: 0.385 - ETA: 1s - loss: 0.384 - ETA: 1s - loss: 0.386 - ETA: 1s - loss: 0.393 - ETA: 0s - loss: 0.395 - ETA: 0s - loss: 0.394 - ETA: 0s - loss: 0.391 - ETA: 0s - loss: 0.384 - ETA: 0s - loss: 0.386 - ETA: 0s - loss: 0.399 - ETA: 0s - loss: 0.394 - ETA: 0s - loss: 0.389 - ETA: 0s - loss: 0.392 - ETA: 0s - loss: 0.393 - ETA: 0s - loss: 0.393 - ETA: 0s - loss: 0.386 - ETA: 0s - loss: 0.387 - ETA: 0s - loss: 0.384 - ETA: 0s - loss: 0.380 - ETA: 0s - loss: 0.376 - ETA: 0s - loss: 0.378 - ETA: 0s - loss: 0.375 - ETA: 0s - loss: 0.376 - 3s 11ms/step - loss: 0.3795 - val_loss: 0.1858\n",
      "Epoch 80/200\n",
      "242/242 [==============================] - ETA: 0s - loss: 0.110 - ETA: 2s - loss: 0.308 - ETA: 2s - loss: 0.416 - ETA: 2s - loss: 0.309 - ETA: 2s - loss: 0.322 - ETA: 2s - loss: 0.314 - ETA: 2s - loss: 0.306 - ETA: 2s - loss: 0.324 - ETA: 1s - loss: 0.298 - ETA: 1s - loss: 0.302 - ETA: 1s - loss: 0.379 - ETA: 1s - loss: 0.389 - ETA: 1s - loss: 0.376 - ETA: 1s - loss: 0.396 - ETA: 1s - loss: 0.390 - ETA: 1s - loss: 0.394 - ETA: 1s - loss: 0.386 - ETA: 1s - loss: 0.369 - ETA: 1s - loss: 0.357 - ETA: 1s - loss: 0.365 - ETA: 1s - loss: 0.353 - ETA: 1s - loss: 0.354 - ETA: 1s - loss: 0.349 - ETA: 1s - loss: 0.349 - ETA: 1s - loss: 0.354 - ETA: 1s - loss: 0.361 - ETA: 1s - loss: 0.356 - ETA: 0s - loss: 0.355 - ETA: 0s - loss: 0.358 - ETA: 0s - loss: 0.358 - ETA: 0s - loss: 0.357 - ETA: 0s - loss: 0.352 - ETA: 0s - loss: 0.350 - ETA: 0s - loss: 0.351 - ETA: 0s - loss: 0.349 - ETA: 0s - loss: 0.371 - ETA: 0s - loss: 0.375 - ETA: 0s - loss: 0.377 - ETA: 0s - loss: 0.376 - ETA: 0s - loss: 0.383 - ETA: 0s - loss: 0.387 - ETA: 0s - loss: 0.385 - ETA: 0s - loss: 0.380 - ETA: 0s - loss: 0.389 - ETA: 0s - loss: 0.384 - ETA: 0s - loss: 0.385 - 3s 11ms/step - loss: 0.3869 - val_loss: 0.2322\n",
      "Epoch 81/200\n",
      "242/242 [==============================] - ETA: 0s - loss: 0.160 - ETA: 2s - loss: 0.225 - ETA: 2s - loss: 0.302 - ETA: 2s - loss: 0.335 - ETA: 2s - loss: 0.313 - ETA: 2s - loss: 0.342 - ETA: 2s - loss: 0.330 - ETA: 2s - loss: 0.335 - ETA: 2s - loss: 0.334 - ETA: 1s - loss: 0.328 - ETA: 1s - loss: 0.303 - ETA: 1s - loss: 0.337 - ETA: 1s - loss: 0.348 - ETA: 1s - loss: 0.357 - ETA: 1s - loss: 0.383 - ETA: 1s - loss: 0.365 - ETA: 1s - loss: 0.358 - ETA: 1s - loss: 0.377 - ETA: 1s - loss: 0.363 - ETA: 1s - loss: 0.370 - ETA: 1s - loss: 0.380 - ETA: 1s - loss: 0.393 - ETA: 1s - loss: 0.383 - ETA: 1s - loss: 0.392 - ETA: 1s - loss: 0.393 - ETA: 1s - loss: 0.386 - ETA: 1s - loss: 0.387 - ETA: 0s - loss: 0.389 - ETA: 0s - loss: 0.387 - ETA: 0s - loss: 0.388 - ETA: 0s - loss: 0.384 - ETA: 0s - loss: 0.386 - ETA: 0s - loss: 0.386 - ETA: 0s - loss: 0.390 - ETA: 0s - loss: 0.392 - ETA: 0s - loss: 0.389 - ETA: 0s - loss: 0.386 - ETA: 0s - loss: 0.389 - ETA: 0s - loss: 0.387 - ETA: 0s - loss: 0.382 - ETA: 0s - loss: 0.381 - ETA: 0s - loss: 0.384 - ETA: 0s - loss: 0.382 - ETA: 0s - loss: 0.384 - ETA: 0s - loss: 0.384 - 3s 11ms/step - loss: 0.3824 - val_loss: 0.1974\n",
      "Epoch 82/200\n",
      "242/242 [==============================] - ETA: 0s - loss: 1.373 - ETA: 2s - loss: 0.584 - ETA: 2s - loss: 0.371 - ETA: 2s - loss: 0.290 - ETA: 2s - loss: 0.273 - ETA: 2s - loss: 0.334 - ETA: 2s - loss: 0.357 - ETA: 2s - loss: 0.411 - ETA: 1s - loss: 0.411 - ETA: 1s - loss: 0.407 - ETA: 1s - loss: 0.382 - ETA: 1s - loss: 0.369 - ETA: 1s - loss: 0.350 - ETA: 1s - loss: 0.387 - ETA: 1s - loss: 0.384 - ETA: 1s - loss: 0.386 - ETA: 1s - loss: 0.370 - ETA: 1s - loss: 0.367 - ETA: 1s - loss: 0.375 - ETA: 1s - loss: 0.382 - ETA: 1s - loss: 0.391 - ETA: 1s - loss: 0.411 - ETA: 1s - loss: 0.412 - ETA: 1s - loss: 0.405 - ETA: 1s - loss: 0.399 - ETA: 1s - loss: 0.399 - ETA: 1s - loss: 0.400 - ETA: 0s - loss: 0.395 - ETA: 0s - loss: 0.384 - ETA: 0s - loss: 0.386 - ETA: 0s - loss: 0.386 - ETA: 0s - loss: 0.392 - ETA: 0s - loss: 0.395 - ETA: 0s - loss: 0.387 - ETA: 0s - loss: 0.383 - ETA: 0s - loss: 0.381 - ETA: 0s - loss: 0.377 - ETA: 0s - loss: 0.373 - ETA: 0s - loss: 0.369 - ETA: 0s - loss: 0.380 - ETA: 0s - loss: 0.377 - ETA: 0s - loss: 0.377 - ETA: 0s - loss: 0.381 - ETA: 0s - loss: 0.379 - ETA: 0s - loss: 0.388 - 3s 11ms/step - loss: 0.3846 - val_loss: 0.2210\n",
      "Epoch 83/200\n",
      "242/242 [==============================] - ETA: 0s - loss: 0.113 - ETA: 2s - loss: 0.213 - ETA: 2s - loss: 0.493 - ETA: 2s - loss: 0.369 - ETA: 2s - loss: 0.380 - ETA: 2s - loss: 0.353 - ETA: 2s - loss: 0.412 - ETA: 2s - loss: 0.412 - ETA: 1s - loss: 0.415 - ETA: 1s - loss: 0.399 - ETA: 1s - loss: 0.395 - ETA: 1s - loss: 0.372 - ETA: 1s - loss: 0.366 - ETA: 1s - loss: 0.348 - ETA: 1s - loss: 0.347 - ETA: 1s - loss: 0.351 - ETA: 1s - loss: 0.354 - ETA: 1s - loss: 0.351 - ETA: 1s - loss: 0.353 - ETA: 1s - loss: 0.348 - ETA: 1s - loss: 0.351 - ETA: 1s - loss: 0.356 - ETA: 1s - loss: 0.378 - ETA: 1s - loss: 0.387 - ETA: 1s - loss: 0.391 - ETA: 1s - loss: 0.398 - ETA: 1s - loss: 0.397 - ETA: 0s - loss: 0.399 - ETA: 0s - loss: 0.399 - ETA: 0s - loss: 0.391 - ETA: 0s - loss: 0.391 - ETA: 0s - loss: 0.389 - ETA: 0s - loss: 0.384 - ETA: 0s - loss: 0.378 - ETA: 0s - loss: 0.375 - ETA: 0s - loss: 0.369 - ETA: 0s - loss: 0.371 - ETA: 0s - loss: 0.381 - ETA: 0s - loss: 0.386 - ETA: 0s - loss: 0.387 - ETA: 0s - loss: 0.379 - ETA: 0s - loss: 0.384 - ETA: 0s - loss: 0.384 - ETA: 0s - loss: 0.382 - ETA: 0s - loss: 0.386 - ETA: 0s - loss: 0.385 - 3s 11ms/step - loss: 0.3856 - val_loss: 0.2092\n",
      "Epoch 84/200\n"
     ]
    },
    {
     "name": "stdout",
     "output_type": "stream",
     "text": [
      "242/242 [==============================] - ETA: 0s - loss: 0.159 - ETA: 2s - loss: 0.306 - ETA: 2s - loss: 0.305 - ETA: 2s - loss: 0.555 - ETA: 2s - loss: 0.459 - ETA: 2s - loss: 0.421 - ETA: 2s - loss: 0.368 - ETA: 2s - loss: 0.351 - ETA: 1s - loss: 0.349 - ETA: 1s - loss: 0.326 - ETA: 1s - loss: 0.370 - ETA: 1s - loss: 0.384 - ETA: 1s - loss: 0.374 - ETA: 1s - loss: 0.355 - ETA: 1s - loss: 0.340 - ETA: 1s - loss: 0.343 - ETA: 1s - loss: 0.357 - ETA: 1s - loss: 0.340 - ETA: 1s - loss: 0.328 - ETA: 1s - loss: 0.352 - ETA: 1s - loss: 0.365 - ETA: 1s - loss: 0.368 - ETA: 1s - loss: 0.361 - ETA: 1s - loss: 0.367 - ETA: 1s - loss: 0.377 - ETA: 1s - loss: 0.375 - ETA: 1s - loss: 0.369 - ETA: 0s - loss: 0.369 - ETA: 0s - loss: 0.373 - ETA: 0s - loss: 0.394 - ETA: 0s - loss: 0.386 - ETA: 0s - loss: 0.379 - ETA: 0s - loss: 0.378 - ETA: 0s - loss: 0.384 - ETA: 0s - loss: 0.382 - ETA: 0s - loss: 0.377 - ETA: 0s - loss: 0.373 - ETA: 0s - loss: 0.376 - ETA: 0s - loss: 0.379 - ETA: 0s - loss: 0.381 - ETA: 0s - loss: 0.378 - ETA: 0s - loss: 0.380 - ETA: 0s - loss: 0.386 - ETA: 0s - loss: 0.383 - ETA: 0s - loss: 0.386 - ETA: 0s - loss: 0.381 - 3s 11ms/step - loss: 0.3813 - val_loss: 0.2183\n",
      "Epoch 85/200\n",
      "242/242 [==============================] - ETA: 0s - loss: 0.965 - ETA: 2s - loss: 0.743 - ETA: 2s - loss: 0.510 - ETA: 2s - loss: 0.548 - ETA: 2s - loss: 0.498 - ETA: 2s - loss: 0.476 - ETA: 2s - loss: 0.468 - ETA: 2s - loss: 0.438 - ETA: 2s - loss: 0.431 - ETA: 2s - loss: 0.398 - ETA: 1s - loss: 0.425 - ETA: 1s - loss: 0.398 - ETA: 1s - loss: 0.397 - ETA: 1s - loss: 0.385 - ETA: 1s - loss: 0.369 - ETA: 1s - loss: 0.352 - ETA: 1s - loss: 0.340 - ETA: 1s - loss: 0.341 - ETA: 1s - loss: 0.356 - ETA: 1s - loss: 0.368 - ETA: 1s - loss: 0.367 - ETA: 1s - loss: 0.367 - ETA: 1s - loss: 0.361 - ETA: 1s - loss: 0.365 - ETA: 1s - loss: 0.377 - ETA: 1s - loss: 0.401 - ETA: 1s - loss: 0.404 - ETA: 0s - loss: 0.395 - ETA: 0s - loss: 0.394 - ETA: 0s - loss: 0.405 - ETA: 0s - loss: 0.411 - ETA: 0s - loss: 0.408 - ETA: 0s - loss: 0.400 - ETA: 0s - loss: 0.395 - ETA: 0s - loss: 0.390 - ETA: 0s - loss: 0.396 - ETA: 0s - loss: 0.388 - ETA: 0s - loss: 0.384 - ETA: 0s - loss: 0.382 - ETA: 0s - loss: 0.383 - ETA: 0s - loss: 0.385 - ETA: 0s - loss: 0.377 - ETA: 0s - loss: 0.385 - ETA: 0s - loss: 0.381 - ETA: 0s - loss: 0.379 - 3s 11ms/step - loss: 0.3812 - val_loss: 0.1967\n",
      "Epoch 86/200\n",
      "242/242 [==============================] - ETA: 0s - loss: 0.101 - ETA: 2s - loss: 0.211 - ETA: 2s - loss: 0.371 - ETA: 2s - loss: 0.381 - ETA: 2s - loss: 0.363 - ETA: 2s - loss: 0.314 - ETA: 2s - loss: 0.360 - ETA: 2s - loss: 0.360 - ETA: 2s - loss: 0.391 - ETA: 1s - loss: 0.371 - ETA: 1s - loss: 0.358 - ETA: 1s - loss: 0.360 - ETA: 1s - loss: 0.366 - ETA: 1s - loss: 0.348 - ETA: 1s - loss: 0.331 - ETA: 1s - loss: 0.350 - ETA: 1s - loss: 0.370 - ETA: 1s - loss: 0.385 - ETA: 1s - loss: 0.393 - ETA: 1s - loss: 0.382 - ETA: 1s - loss: 0.394 - ETA: 1s - loss: 0.400 - ETA: 1s - loss: 0.390 - ETA: 1s - loss: 0.391 - ETA: 1s - loss: 0.399 - ETA: 1s - loss: 0.395 - ETA: 1s - loss: 0.394 - ETA: 0s - loss: 0.396 - ETA: 0s - loss: 0.390 - ETA: 0s - loss: 0.382 - ETA: 0s - loss: 0.380 - ETA: 0s - loss: 0.379 - ETA: 0s - loss: 0.383 - ETA: 0s - loss: 0.381 - ETA: 0s - loss: 0.373 - ETA: 0s - loss: 0.371 - ETA: 0s - loss: 0.370 - ETA: 0s - loss: 0.378 - ETA: 0s - loss: 0.383 - ETA: 0s - loss: 0.381 - ETA: 0s - loss: 0.381 - ETA: 0s - loss: 0.396 - ETA: 0s - loss: 0.393 - ETA: 0s - loss: 0.396 - ETA: 0s - loss: 0.393 - 3s 11ms/step - loss: 0.3924 - val_loss: 0.2383\n",
      "Epoch 87/200\n",
      "242/242 [==============================] - ETA: 0s - loss: 1.640 - ETA: 2s - loss: 0.662 - ETA: 2s - loss: 0.617 - ETA: 2s - loss: 0.502 - ETA: 2s - loss: 0.470 - ETA: 2s - loss: 0.408 - ETA: 2s - loss: 0.379 - ETA: 2s - loss: 0.385 - ETA: 1s - loss: 0.356 - ETA: 1s - loss: 0.370 - ETA: 1s - loss: 0.375 - ETA: 1s - loss: 0.357 - ETA: 1s - loss: 0.361 - ETA: 1s - loss: 0.372 - ETA: 1s - loss: 0.386 - ETA: 1s - loss: 0.385 - ETA: 1s - loss: 0.377 - ETA: 1s - loss: 0.372 - ETA: 1s - loss: 0.366 - ETA: 1s - loss: 0.361 - ETA: 1s - loss: 0.361 - ETA: 1s - loss: 0.361 - ETA: 1s - loss: 0.348 - ETA: 1s - loss: 0.362 - ETA: 1s - loss: 0.354 - ETA: 1s - loss: 0.345 - ETA: 1s - loss: 0.350 - ETA: 0s - loss: 0.350 - ETA: 0s - loss: 0.357 - ETA: 0s - loss: 0.365 - ETA: 0s - loss: 0.361 - ETA: 0s - loss: 0.362 - ETA: 0s - loss: 0.362 - ETA: 0s - loss: 0.365 - ETA: 0s - loss: 0.366 - ETA: 0s - loss: 0.365 - ETA: 0s - loss: 0.365 - ETA: 0s - loss: 0.371 - ETA: 0s - loss: 0.370 - ETA: 0s - loss: 0.374 - ETA: 0s - loss: 0.388 - ETA: 0s - loss: 0.387 - ETA: 0s - loss: 0.385 - ETA: 0s - loss: 0.384 - ETA: 0s - loss: 0.384 - ETA: 0s - loss: 0.383 - ETA: 0s - loss: 0.383 - 3s 11ms/step - loss: 0.3833 - val_loss: 0.2288\n",
      "Epoch 88/200\n",
      "242/242 [==============================] - ETA: 0s - loss: 0.161 - ETA: 2s - loss: 0.698 - ETA: 2s - loss: 0.447 - ETA: 2s - loss: 0.438 - ETA: 2s - loss: 0.493 - ETA: 2s - loss: 0.462 - ETA: 2s - loss: 0.427 - ETA: 2s - loss: 0.473 - ETA: 1s - loss: 0.426 - ETA: 1s - loss: 0.400 - ETA: 1s - loss: 0.435 - ETA: 1s - loss: 0.414 - ETA: 1s - loss: 0.408 - ETA: 1s - loss: 0.387 - ETA: 1s - loss: 0.387 - ETA: 1s - loss: 0.385 - ETA: 1s - loss: 0.389 - ETA: 1s - loss: 0.370 - ETA: 1s - loss: 0.367 - ETA: 1s - loss: 0.374 - ETA: 1s - loss: 0.366 - ETA: 1s - loss: 0.397 - ETA: 1s - loss: 0.396 - ETA: 1s - loss: 0.395 - ETA: 1s - loss: 0.398 - ETA: 1s - loss: 0.406 - ETA: 1s - loss: 0.414 - ETA: 0s - loss: 0.406 - ETA: 0s - loss: 0.410 - ETA: 0s - loss: 0.406 - ETA: 0s - loss: 0.401 - ETA: 0s - loss: 0.403 - ETA: 0s - loss: 0.402 - ETA: 0s - loss: 0.401 - ETA: 0s - loss: 0.403 - ETA: 0s - loss: 0.401 - ETA: 0s - loss: 0.400 - ETA: 0s - loss: 0.399 - ETA: 0s - loss: 0.395 - ETA: 0s - loss: 0.397 - ETA: 0s - loss: 0.394 - ETA: 0s - loss: 0.386 - ETA: 0s - loss: 0.382 - ETA: 0s - loss: 0.381 - ETA: 0s - loss: 0.374 - ETA: 0s - loss: 0.382 - 3s 11ms/step - loss: 0.3803 - val_loss: 0.1794\n"
     ]
    }
   ],
   "source": [
    "batch_size, time_steps, input_dim = None, None, 1\n",
    "\n",
    "# stop if the loss doesn't improve over 15 epochs\n",
    "callback = EarlyStopping(\n",
    "    monitor='loss', min_delta=0, patience=15, verbose=0,\n",
    "    mode='auto', baseline=None, restore_best_weights=False\n",
    ")\n",
    "\n",
    "tcn_layer = TCN(input_shape=(time_steps, input_dim))\n",
    "print('Receptive field size =', tcn_layer.receptive_field)\n",
    "\n",
    "m = Sequential([tcn_layer, Dense(1, activation='sigmoid')])\n",
    "m.compile(optimizer='adam', loss='binary_crossentropy')\n",
    "\n",
    "tcn_full_summary(m, expand_residual_blocks=False)\n",
    "\n",
    "class_weight = {0: 1, 1: 12} # since we have roughly 12 times more 0 than 1 we try to weigh the classes\n",
    "\n",
    "x = df_all.drop('FirstOcc', axis=1)\n",
    "y = df_all['FirstOcc']\n",
    "\n",
    "history = m.fit(x, y, epochs=200, validation_split=0.3, class_weight=class_weight, callbacks=[callback])"
   ]
  },
  {
   "cell_type": "code",
   "execution_count": 37,
   "id": "69e50bc4",
   "metadata": {},
   "outputs": [
    {
     "data": {
      "image/png": "[encoded data removed]",
      "text/plain": [
       "<matplotlib.figure.Figure at 0x1911879cb38>"
      ]
     },
     "metadata": {
      "needs_background": "light"
     },
     "output_type": "display_data"
    }
   ],
   "source": [
    "plt.plot(history.history['loss'])\n",
    "plt.plot(history.history['val_loss'])\n",
    "plt.title('model loss')\n",
    "plt.ylabel('loss')\n",
    "plt.xlabel('epoch')\n",
    "plt.legend(['train', 'test'], loc='upper left')\n",
    "plt.show()"
   ]
  },
  {
   "cell_type": "code",
   "execution_count": null,
   "id": "fae99baa",
   "metadata": {},
   "outputs": [],
   "source": []
  }
 ],
 "metadata": {
  "kernelspec": {
   "display_name": "Python 3",
   "language": "python",
   "name": "python3"
  },
  "language_info": {
   "codemirror_mode": {
    "name": "ipython",
    "version": 3
   },
   "file_extension": ".py",
   "mimetype": "text/x-python",
   "name": "python",
   "nbconvert_exporter": "python",
   "pygments_lexer": "ipython3",
   "version": "3.6.13"
  }
 },
 "nbformat": 4,
 "nbformat_minor": 5
}
